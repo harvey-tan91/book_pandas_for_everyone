{
 "cells": [
  {
   "cell_type": "markdown",
   "metadata": {},
   "source": [
    "# Tidy Data"
   ]
  },
  {
   "cell_type": "code",
   "execution_count": 1,
   "metadata": {},
   "outputs": [],
   "source": [
    "import pandas as pd"
   ]
  },
  {
   "cell_type": "markdown",
   "metadata": {},
   "source": [
    "# Melting dataframes with one column fixed"
   ]
  },
  {
   "cell_type": "code",
   "execution_count": 2,
   "metadata": {},
   "outputs": [],
   "source": [
    "pew = pd.read_csv(r\"C:\\Users\\tanzh\\Documents\\Python\\Pandas for Everyone\\datasets\\pew.csv\")"
   ]
  },
  {
   "cell_type": "code",
   "execution_count": 3,
   "metadata": {
    "tags": []
   },
   "outputs": [
    {
     "output_type": "stream",
     "name": "stdout",
     "text": "<class 'pandas.core.frame.DataFrame'>\nRangeIndex: 18 entries, 0 to 17\nData columns (total 11 columns):\nreligion              18 non-null object\n<$10k                 18 non-null int64\n$10-20k               18 non-null int64\n$20-30k               18 non-null int64\n$30-40k               18 non-null int64\n$40-50k               18 non-null int64\n$50-75k               18 non-null int64\n$75-100k              18 non-null int64\n$100-150k             18 non-null int64\n>150k                 18 non-null int64\nDon't know/refused    18 non-null int64\ndtypes: int64(10), object(1)\nmemory usage: 1.7+ KB\n"
    }
   ],
   "source": [
    "pew.info()"
   ]
  },
  {
   "cell_type": "code",
   "execution_count": 4,
   "metadata": {},
   "outputs": [
    {
     "output_type": "execute_result",
     "data": {
      "text/plain": "                   religion  <$10k  $10-20k  $20-30k  $30-40k  $40-50k  \\\n0                  Agnostic     27       34       60       81       76   \n1                   Atheist     12       27       37       52       35   \n2                  Buddhist     27       21       30       34       33   \n3                  Catholic    418      617      732      670      638   \n4        Don’t know/refused     15       14       15       11       10   \n5          Evangelical Prot    575      869     1064      982      881   \n6                     Hindu      1        9        7        9       11   \n7   Historically Black Prot    228      244      236      238      197   \n8         Jehovah's Witness     20       27       24       24       21   \n9                    Jewish     19       19       25       25       30   \n10            Mainline Prot    289      495      619      655      651   \n11                   Mormon     29       40       48       51       56   \n12                   Muslim      6        7        9       10        9   \n13                 Orthodox     13       17       23       32       32   \n14          Other Christian      9        7       11       13       13   \n15             Other Faiths     20       33       40       46       49   \n16    Other World Religions      5        2        3        4        2   \n17             Unaffiliated    217      299      374      365      341   \n\n    $50-75k  $75-100k  $100-150k  >150k  Don't know/refused  \n0       137       122        109     84                  96  \n1        70        73         59     74                  76  \n2        58        62         39     53                  54  \n3      1116       949        792    633                1489  \n4        35        21         17     18                 116  \n5      1486       949        723    414                1529  \n6        34        47         48     54                  37  \n7       223       131         81     78                 339  \n8        30        15         11      6                  37  \n9        95        69         87    151                 162  \n10     1107       939        753    634                1328  \n11      112        85         49     42                  69  \n12       23        16          8      6                  22  \n13       47        38         42     46                  73  \n14       14        18         14     12                  18  \n15       63        46         40     41                  71  \n16        7         3          4      4                   8  \n17      528       407        321    258                 597  ",
      "text/html": "<div>\n<style scoped>\n    .dataframe tbody tr th:only-of-type {\n        vertical-align: middle;\n    }\n\n    .dataframe tbody tr th {\n        vertical-align: top;\n    }\n\n    .dataframe thead th {\n        text-align: right;\n    }\n</style>\n<table border=\"1\" class=\"dataframe\">\n  <thead>\n    <tr style=\"text-align: right;\">\n      <th></th>\n      <th>religion</th>\n      <th>&lt;$10k</th>\n      <th>$10-20k</th>\n      <th>$20-30k</th>\n      <th>$30-40k</th>\n      <th>$40-50k</th>\n      <th>$50-75k</th>\n      <th>$75-100k</th>\n      <th>$100-150k</th>\n      <th>&gt;150k</th>\n      <th>Don't know/refused</th>\n    </tr>\n  </thead>\n  <tbody>\n    <tr>\n      <td>0</td>\n      <td>Agnostic</td>\n      <td>27</td>\n      <td>34</td>\n      <td>60</td>\n      <td>81</td>\n      <td>76</td>\n      <td>137</td>\n      <td>122</td>\n      <td>109</td>\n      <td>84</td>\n      <td>96</td>\n    </tr>\n    <tr>\n      <td>1</td>\n      <td>Atheist</td>\n      <td>12</td>\n      <td>27</td>\n      <td>37</td>\n      <td>52</td>\n      <td>35</td>\n      <td>70</td>\n      <td>73</td>\n      <td>59</td>\n      <td>74</td>\n      <td>76</td>\n    </tr>\n    <tr>\n      <td>2</td>\n      <td>Buddhist</td>\n      <td>27</td>\n      <td>21</td>\n      <td>30</td>\n      <td>34</td>\n      <td>33</td>\n      <td>58</td>\n      <td>62</td>\n      <td>39</td>\n      <td>53</td>\n      <td>54</td>\n    </tr>\n    <tr>\n      <td>3</td>\n      <td>Catholic</td>\n      <td>418</td>\n      <td>617</td>\n      <td>732</td>\n      <td>670</td>\n      <td>638</td>\n      <td>1116</td>\n      <td>949</td>\n      <td>792</td>\n      <td>633</td>\n      <td>1489</td>\n    </tr>\n    <tr>\n      <td>4</td>\n      <td>Don’t know/refused</td>\n      <td>15</td>\n      <td>14</td>\n      <td>15</td>\n      <td>11</td>\n      <td>10</td>\n      <td>35</td>\n      <td>21</td>\n      <td>17</td>\n      <td>18</td>\n      <td>116</td>\n    </tr>\n    <tr>\n      <td>5</td>\n      <td>Evangelical Prot</td>\n      <td>575</td>\n      <td>869</td>\n      <td>1064</td>\n      <td>982</td>\n      <td>881</td>\n      <td>1486</td>\n      <td>949</td>\n      <td>723</td>\n      <td>414</td>\n      <td>1529</td>\n    </tr>\n    <tr>\n      <td>6</td>\n      <td>Hindu</td>\n      <td>1</td>\n      <td>9</td>\n      <td>7</td>\n      <td>9</td>\n      <td>11</td>\n      <td>34</td>\n      <td>47</td>\n      <td>48</td>\n      <td>54</td>\n      <td>37</td>\n    </tr>\n    <tr>\n      <td>7</td>\n      <td>Historically Black Prot</td>\n      <td>228</td>\n      <td>244</td>\n      <td>236</td>\n      <td>238</td>\n      <td>197</td>\n      <td>223</td>\n      <td>131</td>\n      <td>81</td>\n      <td>78</td>\n      <td>339</td>\n    </tr>\n    <tr>\n      <td>8</td>\n      <td>Jehovah's Witness</td>\n      <td>20</td>\n      <td>27</td>\n      <td>24</td>\n      <td>24</td>\n      <td>21</td>\n      <td>30</td>\n      <td>15</td>\n      <td>11</td>\n      <td>6</td>\n      <td>37</td>\n    </tr>\n    <tr>\n      <td>9</td>\n      <td>Jewish</td>\n      <td>19</td>\n      <td>19</td>\n      <td>25</td>\n      <td>25</td>\n      <td>30</td>\n      <td>95</td>\n      <td>69</td>\n      <td>87</td>\n      <td>151</td>\n      <td>162</td>\n    </tr>\n    <tr>\n      <td>10</td>\n      <td>Mainline Prot</td>\n      <td>289</td>\n      <td>495</td>\n      <td>619</td>\n      <td>655</td>\n      <td>651</td>\n      <td>1107</td>\n      <td>939</td>\n      <td>753</td>\n      <td>634</td>\n      <td>1328</td>\n    </tr>\n    <tr>\n      <td>11</td>\n      <td>Mormon</td>\n      <td>29</td>\n      <td>40</td>\n      <td>48</td>\n      <td>51</td>\n      <td>56</td>\n      <td>112</td>\n      <td>85</td>\n      <td>49</td>\n      <td>42</td>\n      <td>69</td>\n    </tr>\n    <tr>\n      <td>12</td>\n      <td>Muslim</td>\n      <td>6</td>\n      <td>7</td>\n      <td>9</td>\n      <td>10</td>\n      <td>9</td>\n      <td>23</td>\n      <td>16</td>\n      <td>8</td>\n      <td>6</td>\n      <td>22</td>\n    </tr>\n    <tr>\n      <td>13</td>\n      <td>Orthodox</td>\n      <td>13</td>\n      <td>17</td>\n      <td>23</td>\n      <td>32</td>\n      <td>32</td>\n      <td>47</td>\n      <td>38</td>\n      <td>42</td>\n      <td>46</td>\n      <td>73</td>\n    </tr>\n    <tr>\n      <td>14</td>\n      <td>Other Christian</td>\n      <td>9</td>\n      <td>7</td>\n      <td>11</td>\n      <td>13</td>\n      <td>13</td>\n      <td>14</td>\n      <td>18</td>\n      <td>14</td>\n      <td>12</td>\n      <td>18</td>\n    </tr>\n    <tr>\n      <td>15</td>\n      <td>Other Faiths</td>\n      <td>20</td>\n      <td>33</td>\n      <td>40</td>\n      <td>46</td>\n      <td>49</td>\n      <td>63</td>\n      <td>46</td>\n      <td>40</td>\n      <td>41</td>\n      <td>71</td>\n    </tr>\n    <tr>\n      <td>16</td>\n      <td>Other World Religions</td>\n      <td>5</td>\n      <td>2</td>\n      <td>3</td>\n      <td>4</td>\n      <td>2</td>\n      <td>7</td>\n      <td>3</td>\n      <td>4</td>\n      <td>4</td>\n      <td>8</td>\n    </tr>\n    <tr>\n      <td>17</td>\n      <td>Unaffiliated</td>\n      <td>217</td>\n      <td>299</td>\n      <td>374</td>\n      <td>365</td>\n      <td>341</td>\n      <td>528</td>\n      <td>407</td>\n      <td>321</td>\n      <td>258</td>\n      <td>597</td>\n    </tr>\n  </tbody>\n</table>\n</div>"
     },
     "metadata": {},
     "execution_count": 4
    }
   ],
   "source": [
    "pew # this view of data is known as \"wide data\"\n",
    "# the table below is great for presenting the data to the end-audience\n",
    "# to turn into \"long\" tidy data, we need to unpivot/melt the data"
   ]
  },
  {
   "cell_type": "code",
   "execution_count": 5,
   "metadata": {},
   "outputs": [
    {
     "output_type": "execute_result",
     "data": {
      "text/plain": "                  religion              income  count\n0                 Agnostic               <$10k     27\n1                  Atheist               <$10k     12\n2                 Buddhist               <$10k     27\n3                 Catholic               <$10k    418\n4       Don’t know/refused               <$10k     15\n..                     ...                 ...    ...\n175               Orthodox  Don't know/refused     73\n176        Other Christian  Don't know/refused     18\n177           Other Faiths  Don't know/refused     71\n178  Other World Religions  Don't know/refused      8\n179           Unaffiliated  Don't know/refused    597\n\n[180 rows x 3 columns]",
      "text/html": "<div>\n<style scoped>\n    .dataframe tbody tr th:only-of-type {\n        vertical-align: middle;\n    }\n\n    .dataframe tbody tr th {\n        vertical-align: top;\n    }\n\n    .dataframe thead th {\n        text-align: right;\n    }\n</style>\n<table border=\"1\" class=\"dataframe\">\n  <thead>\n    <tr style=\"text-align: right;\">\n      <th></th>\n      <th>religion</th>\n      <th>income</th>\n      <th>count</th>\n    </tr>\n  </thead>\n  <tbody>\n    <tr>\n      <td>0</td>\n      <td>Agnostic</td>\n      <td>&lt;$10k</td>\n      <td>27</td>\n    </tr>\n    <tr>\n      <td>1</td>\n      <td>Atheist</td>\n      <td>&lt;$10k</td>\n      <td>12</td>\n    </tr>\n    <tr>\n      <td>2</td>\n      <td>Buddhist</td>\n      <td>&lt;$10k</td>\n      <td>27</td>\n    </tr>\n    <tr>\n      <td>3</td>\n      <td>Catholic</td>\n      <td>&lt;$10k</td>\n      <td>418</td>\n    </tr>\n    <tr>\n      <td>4</td>\n      <td>Don’t know/refused</td>\n      <td>&lt;$10k</td>\n      <td>15</td>\n    </tr>\n    <tr>\n      <td>...</td>\n      <td>...</td>\n      <td>...</td>\n      <td>...</td>\n    </tr>\n    <tr>\n      <td>175</td>\n      <td>Orthodox</td>\n      <td>Don't know/refused</td>\n      <td>73</td>\n    </tr>\n    <tr>\n      <td>176</td>\n      <td>Other Christian</td>\n      <td>Don't know/refused</td>\n      <td>18</td>\n    </tr>\n    <tr>\n      <td>177</td>\n      <td>Other Faiths</td>\n      <td>Don't know/refused</td>\n      <td>71</td>\n    </tr>\n    <tr>\n      <td>178</td>\n      <td>Other World Religions</td>\n      <td>Don't know/refused</td>\n      <td>8</td>\n    </tr>\n    <tr>\n      <td>179</td>\n      <td>Unaffiliated</td>\n      <td>Don't know/refused</td>\n      <td>597</td>\n    </tr>\n  </tbody>\n</table>\n<p>180 rows × 3 columns</p>\n</div>"
     },
     "metadata": {},
     "execution_count": 5
    }
   ],
   "source": [
    "pew_long = pd.melt(pew, id_vars=\"religion\", var_name=\"income\", value_name=\"count\")\n",
    "pew_long"
   ]
  },
  {
   "cell_type": "markdown",
   "metadata": {},
   "source": [
    "# Melting DataFrame with multiple columns fixed"
   ]
  },
  {
   "cell_type": "code",
   "execution_count": 6,
   "metadata": {},
   "outputs": [],
   "source": [
    "bb = pd.read_csv(r\"C:\\Users\\tanzh\\Documents\\Python\\Pandas for Everyone\\datasets\\billboard.csv\")"
   ]
  },
  {
   "cell_type": "code",
   "execution_count": 7,
   "metadata": {},
   "outputs": [
    {
     "output_type": "execute_result",
     "data": {
      "text/plain": "   year        artist                    track  time date.entered  wk1   wk2  \\\n0  2000         2 Pac  Baby Don't Cry (Keep...  4:22   2000-02-26   87  82.0   \n1  2000       2Ge+her  The Hardest Part Of ...  3:15   2000-09-02   91  87.0   \n2  2000  3 Doors Down               Kryptonite  3:53   2000-04-08   81  70.0   \n3  2000  3 Doors Down                    Loser  4:24   2000-10-21   76  76.0   \n4  2000      504 Boyz            Wobble Wobble  3:35   2000-04-15   57  34.0   \n\n    wk3   wk4   wk5   wk6   wk7   wk8   wk9  wk10  wk11  \n0  72.0  77.0  87.0  94.0  99.0   NaN   NaN   NaN   NaN  \n1  92.0   NaN   NaN   NaN   NaN   NaN   NaN   NaN   NaN  \n2  68.0  67.0  66.0  57.0  54.0  53.0  51.0  51.0  51.0  \n3  72.0  69.0  67.0  65.0  55.0  59.0  62.0  61.0  61.0  \n4  25.0  17.0  17.0  31.0  36.0  49.0  53.0  57.0  64.0  ",
      "text/html": "<div>\n<style scoped>\n    .dataframe tbody tr th:only-of-type {\n        vertical-align: middle;\n    }\n\n    .dataframe tbody tr th {\n        vertical-align: top;\n    }\n\n    .dataframe thead th {\n        text-align: right;\n    }\n</style>\n<table border=\"1\" class=\"dataframe\">\n  <thead>\n    <tr style=\"text-align: right;\">\n      <th></th>\n      <th>year</th>\n      <th>artist</th>\n      <th>track</th>\n      <th>time</th>\n      <th>date.entered</th>\n      <th>wk1</th>\n      <th>wk2</th>\n      <th>wk3</th>\n      <th>wk4</th>\n      <th>wk5</th>\n      <th>wk6</th>\n      <th>wk7</th>\n      <th>wk8</th>\n      <th>wk9</th>\n      <th>wk10</th>\n      <th>wk11</th>\n    </tr>\n  </thead>\n  <tbody>\n    <tr>\n      <td>0</td>\n      <td>2000</td>\n      <td>2 Pac</td>\n      <td>Baby Don't Cry (Keep...</td>\n      <td>4:22</td>\n      <td>2000-02-26</td>\n      <td>87</td>\n      <td>82.0</td>\n      <td>72.0</td>\n      <td>77.0</td>\n      <td>87.0</td>\n      <td>94.0</td>\n      <td>99.0</td>\n      <td>NaN</td>\n      <td>NaN</td>\n      <td>NaN</td>\n      <td>NaN</td>\n    </tr>\n    <tr>\n      <td>1</td>\n      <td>2000</td>\n      <td>2Ge+her</td>\n      <td>The Hardest Part Of ...</td>\n      <td>3:15</td>\n      <td>2000-09-02</td>\n      <td>91</td>\n      <td>87.0</td>\n      <td>92.0</td>\n      <td>NaN</td>\n      <td>NaN</td>\n      <td>NaN</td>\n      <td>NaN</td>\n      <td>NaN</td>\n      <td>NaN</td>\n      <td>NaN</td>\n      <td>NaN</td>\n    </tr>\n    <tr>\n      <td>2</td>\n      <td>2000</td>\n      <td>3 Doors Down</td>\n      <td>Kryptonite</td>\n      <td>3:53</td>\n      <td>2000-04-08</td>\n      <td>81</td>\n      <td>70.0</td>\n      <td>68.0</td>\n      <td>67.0</td>\n      <td>66.0</td>\n      <td>57.0</td>\n      <td>54.0</td>\n      <td>53.0</td>\n      <td>51.0</td>\n      <td>51.0</td>\n      <td>51.0</td>\n    </tr>\n    <tr>\n      <td>3</td>\n      <td>2000</td>\n      <td>3 Doors Down</td>\n      <td>Loser</td>\n      <td>4:24</td>\n      <td>2000-10-21</td>\n      <td>76</td>\n      <td>76.0</td>\n      <td>72.0</td>\n      <td>69.0</td>\n      <td>67.0</td>\n      <td>65.0</td>\n      <td>55.0</td>\n      <td>59.0</td>\n      <td>62.0</td>\n      <td>61.0</td>\n      <td>61.0</td>\n    </tr>\n    <tr>\n      <td>4</td>\n      <td>2000</td>\n      <td>504 Boyz</td>\n      <td>Wobble Wobble</td>\n      <td>3:35</td>\n      <td>2000-04-15</td>\n      <td>57</td>\n      <td>34.0</td>\n      <td>25.0</td>\n      <td>17.0</td>\n      <td>17.0</td>\n      <td>31.0</td>\n      <td>36.0</td>\n      <td>49.0</td>\n      <td>53.0</td>\n      <td>57.0</td>\n      <td>64.0</td>\n    </tr>\n  </tbody>\n</table>\n</div>"
     },
     "metadata": {},
     "execution_count": 7
    }
   ],
   "source": [
    "bb.iloc[0:5, 0:16]"
   ]
  },
  {
   "cell_type": "code",
   "execution_count": 8,
   "metadata": {},
   "outputs": [
    {
     "output_type": "execute_result",
     "data": {
      "text/plain": "   year artist                    track  time date.entered  wk1   wk2   wk3  \\\n0  2000  2 Pac  Baby Don't Cry (Keep...  4:22   2000-02-26   87  82.0  72.0   \n\n    wk4   wk5  ...  wk67  wk68  wk69  wk70  wk71  wk72  wk73  wk74  wk75  wk76  \n0  77.0  87.0  ...   NaN   NaN   NaN   NaN   NaN   NaN   NaN   NaN   NaN   NaN  \n\n[1 rows x 81 columns]",
      "text/html": "<div>\n<style scoped>\n    .dataframe tbody tr th:only-of-type {\n        vertical-align: middle;\n    }\n\n    .dataframe tbody tr th {\n        vertical-align: top;\n    }\n\n    .dataframe thead th {\n        text-align: right;\n    }\n</style>\n<table border=\"1\" class=\"dataframe\">\n  <thead>\n    <tr style=\"text-align: right;\">\n      <th></th>\n      <th>year</th>\n      <th>artist</th>\n      <th>track</th>\n      <th>time</th>\n      <th>date.entered</th>\n      <th>wk1</th>\n      <th>wk2</th>\n      <th>wk3</th>\n      <th>wk4</th>\n      <th>wk5</th>\n      <th>...</th>\n      <th>wk67</th>\n      <th>wk68</th>\n      <th>wk69</th>\n      <th>wk70</th>\n      <th>wk71</th>\n      <th>wk72</th>\n      <th>wk73</th>\n      <th>wk74</th>\n      <th>wk75</th>\n      <th>wk76</th>\n    </tr>\n  </thead>\n  <tbody>\n    <tr>\n      <td>0</td>\n      <td>2000</td>\n      <td>2 Pac</td>\n      <td>Baby Don't Cry (Keep...</td>\n      <td>4:22</td>\n      <td>2000-02-26</td>\n      <td>87</td>\n      <td>82.0</td>\n      <td>72.0</td>\n      <td>77.0</td>\n      <td>87.0</td>\n      <td>...</td>\n      <td>NaN</td>\n      <td>NaN</td>\n      <td>NaN</td>\n      <td>NaN</td>\n      <td>NaN</td>\n      <td>NaN</td>\n      <td>NaN</td>\n      <td>NaN</td>\n      <td>NaN</td>\n      <td>NaN</td>\n    </tr>\n  </tbody>\n</table>\n<p>1 rows × 81 columns</p>\n</div>"
     },
     "metadata": {},
     "execution_count": 8
    }
   ],
   "source": [
    "bb[bb[\"artist\"] == \"2 Pac\"]"
   ]
  },
  {
   "cell_type": "code",
   "execution_count": 9,
   "metadata": {},
   "outputs": [
    {
     "output_type": "execute_result",
     "data": {
      "text/plain": "Index(['year', 'artist', 'track', 'time', 'date.entered', 'wk1', 'wk2', 'wk3',\n       'wk4', 'wk5', 'wk6', 'wk7', 'wk8', 'wk9', 'wk10', 'wk11', 'wk12',\n       'wk13', 'wk14', 'wk15', 'wk16', 'wk17', 'wk18', 'wk19', 'wk20', 'wk21',\n       'wk22', 'wk23', 'wk24', 'wk25', 'wk26', 'wk27', 'wk28', 'wk29', 'wk30',\n       'wk31', 'wk32', 'wk33', 'wk34', 'wk35', 'wk36', 'wk37', 'wk38', 'wk39',\n       'wk40', 'wk41', 'wk42', 'wk43', 'wk44', 'wk45', 'wk46', 'wk47', 'wk48',\n       'wk49', 'wk50', 'wk51', 'wk52', 'wk53', 'wk54', 'wk55', 'wk56', 'wk57',\n       'wk58', 'wk59', 'wk60', 'wk61', 'wk62', 'wk63', 'wk64', 'wk65', 'wk66',\n       'wk67', 'wk68', 'wk69', 'wk70', 'wk71', 'wk72', 'wk73', 'wk74', 'wk75',\n       'wk76'],\n      dtype='object')"
     },
     "metadata": {},
     "execution_count": 9
    }
   ],
   "source": [
    "bb.columns"
   ]
  },
  {
   "cell_type": "code",
   "execution_count": 10,
   "metadata": {},
   "outputs": [],
   "source": [
    "bb_long = pd.melt(bb, id_vars=[\"year\", \"artist\",\"track\",\"time\",\"date.entered\"], var_name=\"week\", value_name=\"rating\")"
   ]
  },
  {
   "cell_type": "code",
   "execution_count": 11,
   "metadata": {},
   "outputs": [
    {
     "output_type": "execute_result",
     "data": {
      "text/plain": "       year            artist                    track  time date.entered  \\\n0      2000             2 Pac  Baby Don't Cry (Keep...  4:22   2000-02-26   \n1      2000           2Ge+her  The Hardest Part Of ...  3:15   2000-09-02   \n2      2000      3 Doors Down               Kryptonite  3:53   2000-04-08   \n3      2000      3 Doors Down                    Loser  4:24   2000-10-21   \n4      2000          504 Boyz            Wobble Wobble  3:35   2000-04-15   \n...     ...               ...                      ...   ...          ...   \n24087  2000       Yankee Grey     Another Nine Minutes  3:10   2000-04-29   \n24088  2000  Yearwood, Trisha          Real Live Woman  3:55   2000-04-01   \n24089  2000   Ying Yang Twins  Whistle While You Tw...  4:19   2000-03-18   \n24090  2000     Zombie Nation            Kernkraft 400  3:30   2000-09-02   \n24091  2000   matchbox twenty                     Bent  4:12   2000-04-29   \n\n       week  rating  \n0       wk1    87.0  \n1       wk1    91.0  \n2       wk1    81.0  \n3       wk1    76.0  \n4       wk1    57.0  \n...     ...     ...  \n24087  wk76     NaN  \n24088  wk76     NaN  \n24089  wk76     NaN  \n24090  wk76     NaN  \n24091  wk76     NaN  \n\n[24092 rows x 7 columns]",
      "text/html": "<div>\n<style scoped>\n    .dataframe tbody tr th:only-of-type {\n        vertical-align: middle;\n    }\n\n    .dataframe tbody tr th {\n        vertical-align: top;\n    }\n\n    .dataframe thead th {\n        text-align: right;\n    }\n</style>\n<table border=\"1\" class=\"dataframe\">\n  <thead>\n    <tr style=\"text-align: right;\">\n      <th></th>\n      <th>year</th>\n      <th>artist</th>\n      <th>track</th>\n      <th>time</th>\n      <th>date.entered</th>\n      <th>week</th>\n      <th>rating</th>\n    </tr>\n  </thead>\n  <tbody>\n    <tr>\n      <td>0</td>\n      <td>2000</td>\n      <td>2 Pac</td>\n      <td>Baby Don't Cry (Keep...</td>\n      <td>4:22</td>\n      <td>2000-02-26</td>\n      <td>wk1</td>\n      <td>87.0</td>\n    </tr>\n    <tr>\n      <td>1</td>\n      <td>2000</td>\n      <td>2Ge+her</td>\n      <td>The Hardest Part Of ...</td>\n      <td>3:15</td>\n      <td>2000-09-02</td>\n      <td>wk1</td>\n      <td>91.0</td>\n    </tr>\n    <tr>\n      <td>2</td>\n      <td>2000</td>\n      <td>3 Doors Down</td>\n      <td>Kryptonite</td>\n      <td>3:53</td>\n      <td>2000-04-08</td>\n      <td>wk1</td>\n      <td>81.0</td>\n    </tr>\n    <tr>\n      <td>3</td>\n      <td>2000</td>\n      <td>3 Doors Down</td>\n      <td>Loser</td>\n      <td>4:24</td>\n      <td>2000-10-21</td>\n      <td>wk1</td>\n      <td>76.0</td>\n    </tr>\n    <tr>\n      <td>4</td>\n      <td>2000</td>\n      <td>504 Boyz</td>\n      <td>Wobble Wobble</td>\n      <td>3:35</td>\n      <td>2000-04-15</td>\n      <td>wk1</td>\n      <td>57.0</td>\n    </tr>\n    <tr>\n      <td>...</td>\n      <td>...</td>\n      <td>...</td>\n      <td>...</td>\n      <td>...</td>\n      <td>...</td>\n      <td>...</td>\n      <td>...</td>\n    </tr>\n    <tr>\n      <td>24087</td>\n      <td>2000</td>\n      <td>Yankee Grey</td>\n      <td>Another Nine Minutes</td>\n      <td>3:10</td>\n      <td>2000-04-29</td>\n      <td>wk76</td>\n      <td>NaN</td>\n    </tr>\n    <tr>\n      <td>24088</td>\n      <td>2000</td>\n      <td>Yearwood, Trisha</td>\n      <td>Real Live Woman</td>\n      <td>3:55</td>\n      <td>2000-04-01</td>\n      <td>wk76</td>\n      <td>NaN</td>\n    </tr>\n    <tr>\n      <td>24089</td>\n      <td>2000</td>\n      <td>Ying Yang Twins</td>\n      <td>Whistle While You Tw...</td>\n      <td>4:19</td>\n      <td>2000-03-18</td>\n      <td>wk76</td>\n      <td>NaN</td>\n    </tr>\n    <tr>\n      <td>24090</td>\n      <td>2000</td>\n      <td>Zombie Nation</td>\n      <td>Kernkraft 400</td>\n      <td>3:30</td>\n      <td>2000-09-02</td>\n      <td>wk76</td>\n      <td>NaN</td>\n    </tr>\n    <tr>\n      <td>24091</td>\n      <td>2000</td>\n      <td>matchbox twenty</td>\n      <td>Bent</td>\n      <td>4:12</td>\n      <td>2000-04-29</td>\n      <td>wk76</td>\n      <td>NaN</td>\n    </tr>\n  </tbody>\n</table>\n<p>24092 rows × 7 columns</p>\n</div>"
     },
     "metadata": {},
     "execution_count": 11
    }
   ],
   "source": [
    "bb_long"
   ]
  },
  {
   "cell_type": "code",
   "execution_count": 12,
   "metadata": {
    "tags": []
   },
   "outputs": [
    {
     "output_type": "stream",
     "name": "stdout",
     "text": "(24092, 7)\nIndex(['year', 'artist', 'track', 'time', 'date.entered', 'week', 'rating'], dtype='object')\n"
    }
   ],
   "source": [
    "print(bb_long.shape)\n",
    "print(bb_long.columns)"
   ]
  },
  {
   "cell_type": "code",
   "execution_count": 13,
   "metadata": {},
   "outputs": [
    {
     "output_type": "execute_result",
     "data": {
      "text/plain": "       year artist                    track  time date.entered  week  rating\n0      2000  2 Pac  Baby Don't Cry (Keep...  4:22   2000-02-26   wk1    87.0\n317    2000  2 Pac  Baby Don't Cry (Keep...  4:22   2000-02-26   wk2    82.0\n634    2000  2 Pac  Baby Don't Cry (Keep...  4:22   2000-02-26   wk3    72.0\n951    2000  2 Pac  Baby Don't Cry (Keep...  4:22   2000-02-26   wk4    77.0\n1268   2000  2 Pac  Baby Don't Cry (Keep...  4:22   2000-02-26   wk5    87.0\n...     ...    ...                      ...   ...          ...   ...     ...\n22507  2000  2 Pac  Baby Don't Cry (Keep...  4:22   2000-02-26  wk72     NaN\n22824  2000  2 Pac  Baby Don't Cry (Keep...  4:22   2000-02-26  wk73     NaN\n23141  2000  2 Pac  Baby Don't Cry (Keep...  4:22   2000-02-26  wk74     NaN\n23458  2000  2 Pac  Baby Don't Cry (Keep...  4:22   2000-02-26  wk75     NaN\n23775  2000  2 Pac  Baby Don't Cry (Keep...  4:22   2000-02-26  wk76     NaN\n\n[76 rows x 7 columns]",
      "text/html": "<div>\n<style scoped>\n    .dataframe tbody tr th:only-of-type {\n        vertical-align: middle;\n    }\n\n    .dataframe tbody tr th {\n        vertical-align: top;\n    }\n\n    .dataframe thead th {\n        text-align: right;\n    }\n</style>\n<table border=\"1\" class=\"dataframe\">\n  <thead>\n    <tr style=\"text-align: right;\">\n      <th></th>\n      <th>year</th>\n      <th>artist</th>\n      <th>track</th>\n      <th>time</th>\n      <th>date.entered</th>\n      <th>week</th>\n      <th>rating</th>\n    </tr>\n  </thead>\n  <tbody>\n    <tr>\n      <td>0</td>\n      <td>2000</td>\n      <td>2 Pac</td>\n      <td>Baby Don't Cry (Keep...</td>\n      <td>4:22</td>\n      <td>2000-02-26</td>\n      <td>wk1</td>\n      <td>87.0</td>\n    </tr>\n    <tr>\n      <td>317</td>\n      <td>2000</td>\n      <td>2 Pac</td>\n      <td>Baby Don't Cry (Keep...</td>\n      <td>4:22</td>\n      <td>2000-02-26</td>\n      <td>wk2</td>\n      <td>82.0</td>\n    </tr>\n    <tr>\n      <td>634</td>\n      <td>2000</td>\n      <td>2 Pac</td>\n      <td>Baby Don't Cry (Keep...</td>\n      <td>4:22</td>\n      <td>2000-02-26</td>\n      <td>wk3</td>\n      <td>72.0</td>\n    </tr>\n    <tr>\n      <td>951</td>\n      <td>2000</td>\n      <td>2 Pac</td>\n      <td>Baby Don't Cry (Keep...</td>\n      <td>4:22</td>\n      <td>2000-02-26</td>\n      <td>wk4</td>\n      <td>77.0</td>\n    </tr>\n    <tr>\n      <td>1268</td>\n      <td>2000</td>\n      <td>2 Pac</td>\n      <td>Baby Don't Cry (Keep...</td>\n      <td>4:22</td>\n      <td>2000-02-26</td>\n      <td>wk5</td>\n      <td>87.0</td>\n    </tr>\n    <tr>\n      <td>...</td>\n      <td>...</td>\n      <td>...</td>\n      <td>...</td>\n      <td>...</td>\n      <td>...</td>\n      <td>...</td>\n      <td>...</td>\n    </tr>\n    <tr>\n      <td>22507</td>\n      <td>2000</td>\n      <td>2 Pac</td>\n      <td>Baby Don't Cry (Keep...</td>\n      <td>4:22</td>\n      <td>2000-02-26</td>\n      <td>wk72</td>\n      <td>NaN</td>\n    </tr>\n    <tr>\n      <td>22824</td>\n      <td>2000</td>\n      <td>2 Pac</td>\n      <td>Baby Don't Cry (Keep...</td>\n      <td>4:22</td>\n      <td>2000-02-26</td>\n      <td>wk73</td>\n      <td>NaN</td>\n    </tr>\n    <tr>\n      <td>23141</td>\n      <td>2000</td>\n      <td>2 Pac</td>\n      <td>Baby Don't Cry (Keep...</td>\n      <td>4:22</td>\n      <td>2000-02-26</td>\n      <td>wk74</td>\n      <td>NaN</td>\n    </tr>\n    <tr>\n      <td>23458</td>\n      <td>2000</td>\n      <td>2 Pac</td>\n      <td>Baby Don't Cry (Keep...</td>\n      <td>4:22</td>\n      <td>2000-02-26</td>\n      <td>wk75</td>\n      <td>NaN</td>\n    </tr>\n    <tr>\n      <td>23775</td>\n      <td>2000</td>\n      <td>2 Pac</td>\n      <td>Baby Don't Cry (Keep...</td>\n      <td>4:22</td>\n      <td>2000-02-26</td>\n      <td>wk76</td>\n      <td>NaN</td>\n    </tr>\n  </tbody>\n</table>\n<p>76 rows × 7 columns</p>\n</div>"
     },
     "metadata": {},
     "execution_count": 13
    }
   ],
   "source": [
    "bb_long[bb_long[\"artist\"] == \"2 Pac\"]"
   ]
  },
  {
   "cell_type": "markdown",
   "metadata": {},
   "source": [
    "# Melting DataFrame - columns contain multiple variables "
   ]
  },
  {
   "cell_type": "code",
   "execution_count": 14,
   "metadata": {},
   "outputs": [],
   "source": [
    "ebola = pd.read_csv(r\"C:\\Users\\tanzh\\Documents\\Python\\Pandas for Everyone\\datasets\\country_timeseries.csv\")"
   ]
  },
  {
   "cell_type": "code",
   "execution_count": 15,
   "metadata": {},
   "outputs": [
    {
     "output_type": "execute_result",
     "data": {
      "text/plain": "         Date  Day  Cases_Guinea  Cases_Liberia  Cases_SierraLeone  \\\n0    1/5/2015  289        2776.0            NaN            10030.0   \n1    1/4/2015  288        2775.0            NaN             9780.0   \n2    1/3/2015  287        2769.0         8166.0             9722.0   \n3    1/2/2015  286           NaN         8157.0                NaN   \n4  12/31/2014  284        2730.0         8115.0             9633.0   \n\n   Cases_Nigeria  Cases_Senegal  Cases_UnitedStates  Cases_Spain  Cases_Mali  \\\n0            NaN            NaN                 NaN          NaN         NaN   \n1            NaN            NaN                 NaN          NaN         NaN   \n2            NaN            NaN                 NaN          NaN         NaN   \n3            NaN            NaN                 NaN          NaN         NaN   \n4            NaN            NaN                 NaN          NaN         NaN   \n\n   Deaths_Guinea  Deaths_Liberia  Deaths_SierraLeone  Deaths_Nigeria  \\\n0         1786.0             NaN              2977.0             NaN   \n1         1781.0             NaN              2943.0             NaN   \n2         1767.0          3496.0              2915.0             NaN   \n3            NaN          3496.0                 NaN             NaN   \n4         1739.0          3471.0              2827.0             NaN   \n\n   Deaths_Senegal  Deaths_UnitedStates  Deaths_Spain  Deaths_Mali  \n0             NaN                  NaN           NaN          0.0  \n1             NaN                  NaN           NaN          0.0  \n2             NaN                  NaN           NaN          0.0  \n3             NaN                  NaN           NaN          0.0  \n4             NaN                  NaN           NaN          0.0  ",
      "text/html": "<div>\n<style scoped>\n    .dataframe tbody tr th:only-of-type {\n        vertical-align: middle;\n    }\n\n    .dataframe tbody tr th {\n        vertical-align: top;\n    }\n\n    .dataframe thead th {\n        text-align: right;\n    }\n</style>\n<table border=\"1\" class=\"dataframe\">\n  <thead>\n    <tr style=\"text-align: right;\">\n      <th></th>\n      <th>Date</th>\n      <th>Day</th>\n      <th>Cases_Guinea</th>\n      <th>Cases_Liberia</th>\n      <th>Cases_SierraLeone</th>\n      <th>Cases_Nigeria</th>\n      <th>Cases_Senegal</th>\n      <th>Cases_UnitedStates</th>\n      <th>Cases_Spain</th>\n      <th>Cases_Mali</th>\n      <th>Deaths_Guinea</th>\n      <th>Deaths_Liberia</th>\n      <th>Deaths_SierraLeone</th>\n      <th>Deaths_Nigeria</th>\n      <th>Deaths_Senegal</th>\n      <th>Deaths_UnitedStates</th>\n      <th>Deaths_Spain</th>\n      <th>Deaths_Mali</th>\n    </tr>\n  </thead>\n  <tbody>\n    <tr>\n      <td>0</td>\n      <td>1/5/2015</td>\n      <td>289</td>\n      <td>2776.0</td>\n      <td>NaN</td>\n      <td>10030.0</td>\n      <td>NaN</td>\n      <td>NaN</td>\n      <td>NaN</td>\n      <td>NaN</td>\n      <td>NaN</td>\n      <td>1786.0</td>\n      <td>NaN</td>\n      <td>2977.0</td>\n      <td>NaN</td>\n      <td>NaN</td>\n      <td>NaN</td>\n      <td>NaN</td>\n      <td>0.0</td>\n    </tr>\n    <tr>\n      <td>1</td>\n      <td>1/4/2015</td>\n      <td>288</td>\n      <td>2775.0</td>\n      <td>NaN</td>\n      <td>9780.0</td>\n      <td>NaN</td>\n      <td>NaN</td>\n      <td>NaN</td>\n      <td>NaN</td>\n      <td>NaN</td>\n      <td>1781.0</td>\n      <td>NaN</td>\n      <td>2943.0</td>\n      <td>NaN</td>\n      <td>NaN</td>\n      <td>NaN</td>\n      <td>NaN</td>\n      <td>0.0</td>\n    </tr>\n    <tr>\n      <td>2</td>\n      <td>1/3/2015</td>\n      <td>287</td>\n      <td>2769.0</td>\n      <td>8166.0</td>\n      <td>9722.0</td>\n      <td>NaN</td>\n      <td>NaN</td>\n      <td>NaN</td>\n      <td>NaN</td>\n      <td>NaN</td>\n      <td>1767.0</td>\n      <td>3496.0</td>\n      <td>2915.0</td>\n      <td>NaN</td>\n      <td>NaN</td>\n      <td>NaN</td>\n      <td>NaN</td>\n      <td>0.0</td>\n    </tr>\n    <tr>\n      <td>3</td>\n      <td>1/2/2015</td>\n      <td>286</td>\n      <td>NaN</td>\n      <td>8157.0</td>\n      <td>NaN</td>\n      <td>NaN</td>\n      <td>NaN</td>\n      <td>NaN</td>\n      <td>NaN</td>\n      <td>NaN</td>\n      <td>NaN</td>\n      <td>3496.0</td>\n      <td>NaN</td>\n      <td>NaN</td>\n      <td>NaN</td>\n      <td>NaN</td>\n      <td>NaN</td>\n      <td>0.0</td>\n    </tr>\n    <tr>\n      <td>4</td>\n      <td>12/31/2014</td>\n      <td>284</td>\n      <td>2730.0</td>\n      <td>8115.0</td>\n      <td>9633.0</td>\n      <td>NaN</td>\n      <td>NaN</td>\n      <td>NaN</td>\n      <td>NaN</td>\n      <td>NaN</td>\n      <td>1739.0</td>\n      <td>3471.0</td>\n      <td>2827.0</td>\n      <td>NaN</td>\n      <td>NaN</td>\n      <td>NaN</td>\n      <td>NaN</td>\n      <td>0.0</td>\n    </tr>\n  </tbody>\n</table>\n</div>"
     },
     "metadata": {},
     "execution_count": 15
    }
   ],
   "source": [
    "ebola.head()"
   ]
  },
  {
   "cell_type": "code",
   "execution_count": 16,
   "metadata": {},
   "outputs": [
    {
     "output_type": "execute_result",
     "data": {
      "text/plain": "            Date  Day      variable   value\n0       1/5/2015  289  Cases_Guinea  2776.0\n1       1/4/2015  288  Cases_Guinea  2775.0\n2       1/3/2015  287  Cases_Guinea  2769.0\n3       1/2/2015  286  Cases_Guinea     NaN\n4     12/31/2014  284  Cases_Guinea  2730.0\n...          ...  ...           ...     ...\n1947   3/27/2014    5   Deaths_Mali     NaN\n1948   3/26/2014    4   Deaths_Mali     NaN\n1949   3/25/2014    3   Deaths_Mali     NaN\n1950   3/24/2014    2   Deaths_Mali     NaN\n1951   3/22/2014    0   Deaths_Mali     NaN\n\n[1952 rows x 4 columns]",
      "text/html": "<div>\n<style scoped>\n    .dataframe tbody tr th:only-of-type {\n        vertical-align: middle;\n    }\n\n    .dataframe tbody tr th {\n        vertical-align: top;\n    }\n\n    .dataframe thead th {\n        text-align: right;\n    }\n</style>\n<table border=\"1\" class=\"dataframe\">\n  <thead>\n    <tr style=\"text-align: right;\">\n      <th></th>\n      <th>Date</th>\n      <th>Day</th>\n      <th>variable</th>\n      <th>value</th>\n    </tr>\n  </thead>\n  <tbody>\n    <tr>\n      <td>0</td>\n      <td>1/5/2015</td>\n      <td>289</td>\n      <td>Cases_Guinea</td>\n      <td>2776.0</td>\n    </tr>\n    <tr>\n      <td>1</td>\n      <td>1/4/2015</td>\n      <td>288</td>\n      <td>Cases_Guinea</td>\n      <td>2775.0</td>\n    </tr>\n    <tr>\n      <td>2</td>\n      <td>1/3/2015</td>\n      <td>287</td>\n      <td>Cases_Guinea</td>\n      <td>2769.0</td>\n    </tr>\n    <tr>\n      <td>3</td>\n      <td>1/2/2015</td>\n      <td>286</td>\n      <td>Cases_Guinea</td>\n      <td>NaN</td>\n    </tr>\n    <tr>\n      <td>4</td>\n      <td>12/31/2014</td>\n      <td>284</td>\n      <td>Cases_Guinea</td>\n      <td>2730.0</td>\n    </tr>\n    <tr>\n      <td>...</td>\n      <td>...</td>\n      <td>...</td>\n      <td>...</td>\n      <td>...</td>\n    </tr>\n    <tr>\n      <td>1947</td>\n      <td>3/27/2014</td>\n      <td>5</td>\n      <td>Deaths_Mali</td>\n      <td>NaN</td>\n    </tr>\n    <tr>\n      <td>1948</td>\n      <td>3/26/2014</td>\n      <td>4</td>\n      <td>Deaths_Mali</td>\n      <td>NaN</td>\n    </tr>\n    <tr>\n      <td>1949</td>\n      <td>3/25/2014</td>\n      <td>3</td>\n      <td>Deaths_Mali</td>\n      <td>NaN</td>\n    </tr>\n    <tr>\n      <td>1950</td>\n      <td>3/24/2014</td>\n      <td>2</td>\n      <td>Deaths_Mali</td>\n      <td>NaN</td>\n    </tr>\n    <tr>\n      <td>1951</td>\n      <td>3/22/2014</td>\n      <td>0</td>\n      <td>Deaths_Mali</td>\n      <td>NaN</td>\n    </tr>\n  </tbody>\n</table>\n<p>1952 rows × 4 columns</p>\n</div>"
     },
     "metadata": {},
     "execution_count": 16
    }
   ],
   "source": [
    "ebola_long = pd.melt(ebola, id_vars=[\"Date\",\"Day\"])\n",
    "ebola_long"
   ]
  },
  {
   "cell_type": "code",
   "execution_count": 17,
   "metadata": {
    "tags": []
   },
   "outputs": [
    {
     "output_type": "stream",
     "name": "stdout",
     "text": "0    [Cases, Guinea]\n1    [Cases, Guinea]\n2    [Cases, Guinea]\n3    [Cases, Guinea]\n4    [Cases, Guinea]\nName: variable, dtype: object\n1947    [Deaths, Mali]\n1948    [Deaths, Mali]\n1949    [Deaths, Mali]\n1950    [Deaths, Mali]\n1951    [Deaths, Mali]\nName: variable, dtype: object\n"
    },
    {
     "output_type": "execute_result",
     "data": {
      "text/plain": "         Date  Day      variable   value status country\n0    1/5/2015  289  Cases_Guinea  2776.0  Cases  Guinea\n1    1/4/2015  288  Cases_Guinea  2775.0  Cases  Guinea\n2    1/3/2015  287  Cases_Guinea  2769.0  Cases  Guinea\n3    1/2/2015  286  Cases_Guinea     NaN  Cases  Guinea\n4  12/31/2014  284  Cases_Guinea  2730.0  Cases  Guinea",
      "text/html": "<div>\n<style scoped>\n    .dataframe tbody tr th:only-of-type {\n        vertical-align: middle;\n    }\n\n    .dataframe tbody tr th {\n        vertical-align: top;\n    }\n\n    .dataframe thead th {\n        text-align: right;\n    }\n</style>\n<table border=\"1\" class=\"dataframe\">\n  <thead>\n    <tr style=\"text-align: right;\">\n      <th></th>\n      <th>Date</th>\n      <th>Day</th>\n      <th>variable</th>\n      <th>value</th>\n      <th>status</th>\n      <th>country</th>\n    </tr>\n  </thead>\n  <tbody>\n    <tr>\n      <td>0</td>\n      <td>1/5/2015</td>\n      <td>289</td>\n      <td>Cases_Guinea</td>\n      <td>2776.0</td>\n      <td>Cases</td>\n      <td>Guinea</td>\n    </tr>\n    <tr>\n      <td>1</td>\n      <td>1/4/2015</td>\n      <td>288</td>\n      <td>Cases_Guinea</td>\n      <td>2775.0</td>\n      <td>Cases</td>\n      <td>Guinea</td>\n    </tr>\n    <tr>\n      <td>2</td>\n      <td>1/3/2015</td>\n      <td>287</td>\n      <td>Cases_Guinea</td>\n      <td>2769.0</td>\n      <td>Cases</td>\n      <td>Guinea</td>\n    </tr>\n    <tr>\n      <td>3</td>\n      <td>1/2/2015</td>\n      <td>286</td>\n      <td>Cases_Guinea</td>\n      <td>NaN</td>\n      <td>Cases</td>\n      <td>Guinea</td>\n    </tr>\n    <tr>\n      <td>4</td>\n      <td>12/31/2014</td>\n      <td>284</td>\n      <td>Cases_Guinea</td>\n      <td>2730.0</td>\n      <td>Cases</td>\n      <td>Guinea</td>\n    </tr>\n  </tbody>\n</table>\n</div>"
     },
     "metadata": {},
     "execution_count": 17
    }
   ],
   "source": [
    "# Split and add columns individually \n",
    "\n",
    "variable_split = ebola_long.variable.str.split(\"_\")\n",
    "print(variable_split.iloc[:5])\n",
    "print(variable_split.iloc[-5:])\n",
    "\n",
    "status_value = variable_split.str.get(0) \n",
    "country_value = variable_split.str.get(1)\n",
    "\n",
    "ebola_long[\"status\"] = status_value\n",
    "ebola_long[\"country\"] = country_value\n",
    "\n",
    "ebola_long.head()"
   ]
  },
  {
   "cell_type": "code",
   "execution_count": 28,
   "metadata": {
    "tags": []
   },
   "outputs": [],
   "source": [
    "# Split and combine in a single step \n",
    "\n",
    "variable_split = ebola_long.variable.str.split(\"_\", expand=True)\n",
    "variable_split.columns = [\"status\", \"country\"]\n",
    "ebola_long = pd.concat([ebola_long, variable_split], axis=1)"
   ]
  },
  {
   "cell_type": "code",
   "execution_count": 30,
   "metadata": {},
   "outputs": [
    {
     "output_type": "execute_result",
     "data": {
      "text/plain": "      status country\n0      Cases  Guinea\n1      Cases  Guinea\n2      Cases  Guinea\n3      Cases  Guinea\n4      Cases  Guinea\n...      ...     ...\n1947  Deaths    Mali\n1948  Deaths    Mali\n1949  Deaths    Mali\n1950  Deaths    Mali\n1951  Deaths    Mali\n\n[1952 rows x 2 columns]",
      "text/html": "<div>\n<style scoped>\n    .dataframe tbody tr th:only-of-type {\n        vertical-align: middle;\n    }\n\n    .dataframe tbody tr th {\n        vertical-align: top;\n    }\n\n    .dataframe thead th {\n        text-align: right;\n    }\n</style>\n<table border=\"1\" class=\"dataframe\">\n  <thead>\n    <tr style=\"text-align: right;\">\n      <th></th>\n      <th>status</th>\n      <th>country</th>\n    </tr>\n  </thead>\n  <tbody>\n    <tr>\n      <td>0</td>\n      <td>Cases</td>\n      <td>Guinea</td>\n    </tr>\n    <tr>\n      <td>1</td>\n      <td>Cases</td>\n      <td>Guinea</td>\n    </tr>\n    <tr>\n      <td>2</td>\n      <td>Cases</td>\n      <td>Guinea</td>\n    </tr>\n    <tr>\n      <td>3</td>\n      <td>Cases</td>\n      <td>Guinea</td>\n    </tr>\n    <tr>\n      <td>4</td>\n      <td>Cases</td>\n      <td>Guinea</td>\n    </tr>\n    <tr>\n      <td>...</td>\n      <td>...</td>\n      <td>...</td>\n    </tr>\n    <tr>\n      <td>1947</td>\n      <td>Deaths</td>\n      <td>Mali</td>\n    </tr>\n    <tr>\n      <td>1948</td>\n      <td>Deaths</td>\n      <td>Mali</td>\n    </tr>\n    <tr>\n      <td>1949</td>\n      <td>Deaths</td>\n      <td>Mali</td>\n    </tr>\n    <tr>\n      <td>1950</td>\n      <td>Deaths</td>\n      <td>Mali</td>\n    </tr>\n    <tr>\n      <td>1951</td>\n      <td>Deaths</td>\n      <td>Mali</td>\n    </tr>\n  </tbody>\n</table>\n<p>1952 rows × 2 columns</p>\n</div>"
     },
     "metadata": {},
     "execution_count": 30
    }
   ],
   "source": [
    "variable_split"
   ]
  },
  {
   "cell_type": "markdown",
   "metadata": {},
   "source": [
    "# Variables in both rows and columns"
   ]
  },
  {
   "cell_type": "code",
   "execution_count": 19,
   "metadata": {},
   "outputs": [],
   "source": [
    "weather = pd.read_csv(r\"C:\\Users\\tanzh\\Documents\\Python\\Pandas for Everyone\\datasets\\weather.csv\")"
   ]
  },
  {
   "cell_type": "code",
   "execution_count": 20,
   "metadata": {},
   "outputs": [
    {
     "output_type": "execute_result",
     "data": {
      "text/plain": "        id  year  month element  d1    d2    d3  d4    d5  d6  ...  d22   d23  \\\n0  MX17004  2010      1    tmax NaN   NaN   NaN NaN   NaN NaN  ...  NaN   NaN   \n1  MX17004  2010      1    tmin NaN   NaN   NaN NaN   NaN NaN  ...  NaN   NaN   \n2  MX17004  2010      2    tmax NaN  27.3  24.1 NaN   NaN NaN  ...  NaN  29.9   \n3  MX17004  2010      2    tmin NaN  14.4  14.4 NaN   NaN NaN  ...  NaN  10.7   \n4  MX17004  2010      3    tmax NaN   NaN   NaN NaN  32.1 NaN  ...  NaN   NaN   \n\n   d24  d25  d26  d27  d28  d29   d30  d31  \n0  NaN  NaN  NaN  NaN  NaN  NaN  27.8  NaN  \n1  NaN  NaN  NaN  NaN  NaN  NaN  14.5  NaN  \n2  NaN  NaN  NaN  NaN  NaN  NaN   NaN  NaN  \n3  NaN  NaN  NaN  NaN  NaN  NaN   NaN  NaN  \n4  NaN  NaN  NaN  NaN  NaN  NaN   NaN  NaN  \n\n[5 rows x 35 columns]",
      "text/html": "<div>\n<style scoped>\n    .dataframe tbody tr th:only-of-type {\n        vertical-align: middle;\n    }\n\n    .dataframe tbody tr th {\n        vertical-align: top;\n    }\n\n    .dataframe thead th {\n        text-align: right;\n    }\n</style>\n<table border=\"1\" class=\"dataframe\">\n  <thead>\n    <tr style=\"text-align: right;\">\n      <th></th>\n      <th>id</th>\n      <th>year</th>\n      <th>month</th>\n      <th>element</th>\n      <th>d1</th>\n      <th>d2</th>\n      <th>d3</th>\n      <th>d4</th>\n      <th>d5</th>\n      <th>d6</th>\n      <th>...</th>\n      <th>d22</th>\n      <th>d23</th>\n      <th>d24</th>\n      <th>d25</th>\n      <th>d26</th>\n      <th>d27</th>\n      <th>d28</th>\n      <th>d29</th>\n      <th>d30</th>\n      <th>d31</th>\n    </tr>\n  </thead>\n  <tbody>\n    <tr>\n      <td>0</td>\n      <td>MX17004</td>\n      <td>2010</td>\n      <td>1</td>\n      <td>tmax</td>\n      <td>NaN</td>\n      <td>NaN</td>\n      <td>NaN</td>\n      <td>NaN</td>\n      <td>NaN</td>\n      <td>NaN</td>\n      <td>...</td>\n      <td>NaN</td>\n      <td>NaN</td>\n      <td>NaN</td>\n      <td>NaN</td>\n      <td>NaN</td>\n      <td>NaN</td>\n      <td>NaN</td>\n      <td>NaN</td>\n      <td>27.8</td>\n      <td>NaN</td>\n    </tr>\n    <tr>\n      <td>1</td>\n      <td>MX17004</td>\n      <td>2010</td>\n      <td>1</td>\n      <td>tmin</td>\n      <td>NaN</td>\n      <td>NaN</td>\n      <td>NaN</td>\n      <td>NaN</td>\n      <td>NaN</td>\n      <td>NaN</td>\n      <td>...</td>\n      <td>NaN</td>\n      <td>NaN</td>\n      <td>NaN</td>\n      <td>NaN</td>\n      <td>NaN</td>\n      <td>NaN</td>\n      <td>NaN</td>\n      <td>NaN</td>\n      <td>14.5</td>\n      <td>NaN</td>\n    </tr>\n    <tr>\n      <td>2</td>\n      <td>MX17004</td>\n      <td>2010</td>\n      <td>2</td>\n      <td>tmax</td>\n      <td>NaN</td>\n      <td>27.3</td>\n      <td>24.1</td>\n      <td>NaN</td>\n      <td>NaN</td>\n      <td>NaN</td>\n      <td>...</td>\n      <td>NaN</td>\n      <td>29.9</td>\n      <td>NaN</td>\n      <td>NaN</td>\n      <td>NaN</td>\n      <td>NaN</td>\n      <td>NaN</td>\n      <td>NaN</td>\n      <td>NaN</td>\n      <td>NaN</td>\n    </tr>\n    <tr>\n      <td>3</td>\n      <td>MX17004</td>\n      <td>2010</td>\n      <td>2</td>\n      <td>tmin</td>\n      <td>NaN</td>\n      <td>14.4</td>\n      <td>14.4</td>\n      <td>NaN</td>\n      <td>NaN</td>\n      <td>NaN</td>\n      <td>...</td>\n      <td>NaN</td>\n      <td>10.7</td>\n      <td>NaN</td>\n      <td>NaN</td>\n      <td>NaN</td>\n      <td>NaN</td>\n      <td>NaN</td>\n      <td>NaN</td>\n      <td>NaN</td>\n      <td>NaN</td>\n    </tr>\n    <tr>\n      <td>4</td>\n      <td>MX17004</td>\n      <td>2010</td>\n      <td>3</td>\n      <td>tmax</td>\n      <td>NaN</td>\n      <td>NaN</td>\n      <td>NaN</td>\n      <td>NaN</td>\n      <td>32.1</td>\n      <td>NaN</td>\n      <td>...</td>\n      <td>NaN</td>\n      <td>NaN</td>\n      <td>NaN</td>\n      <td>NaN</td>\n      <td>NaN</td>\n      <td>NaN</td>\n      <td>NaN</td>\n      <td>NaN</td>\n      <td>NaN</td>\n      <td>NaN</td>\n    </tr>\n  </tbody>\n</table>\n<p>5 rows × 35 columns</p>\n</div>"
     },
     "metadata": {},
     "execution_count": 20
    }
   ],
   "source": [
    "weather.head()"
   ]
  },
  {
   "cell_type": "code",
   "execution_count": 21,
   "metadata": {},
   "outputs": [
    {
     "output_type": "execute_result",
     "data": {
      "text/plain": "Index(['id', 'year', 'month', 'element', 'd1', 'd2', 'd3', 'd4', 'd5', 'd6',\n       'd7', 'd8', 'd9', 'd10', 'd11', 'd12', 'd13', 'd14', 'd15', 'd16',\n       'd17', 'd18', 'd19', 'd20', 'd21', 'd22', 'd23', 'd24', 'd25', 'd26',\n       'd27', 'd28', 'd29', 'd30', 'd31'],\n      dtype='object')"
     },
     "metadata": {},
     "execution_count": 21
    }
   ],
   "source": [
    "weather.columns"
   ]
  },
  {
   "cell_type": "code",
   "execution_count": 22,
   "metadata": {},
   "outputs": [],
   "source": [
    "weather_long = pd.melt(weather, id_vars=[\"id\",\"year\",\"month\",\"element\"], var_name=\"day\", value_name=\"temp\")"
   ]
  },
  {
   "cell_type": "code",
   "execution_count": 23,
   "metadata": {},
   "outputs": [
    {
     "output_type": "execute_result",
     "data": {
      "text/plain": "          id  year  month element  day  temp\n0    MX17004  2010      1    tmax   d1   NaN\n1    MX17004  2010      1    tmin   d1   NaN\n2    MX17004  2010      2    tmax   d1   NaN\n3    MX17004  2010      2    tmin   d1   NaN\n4    MX17004  2010      3    tmax   d1   NaN\n..       ...   ...    ...     ...  ...   ...\n677  MX17004  2010     10    tmin  d31   NaN\n678  MX17004  2010     11    tmax  d31   NaN\n679  MX17004  2010     11    tmin  d31   NaN\n680  MX17004  2010     12    tmax  d31   NaN\n681  MX17004  2010     12    tmin  d31   NaN\n\n[682 rows x 6 columns]",
      "text/html": "<div>\n<style scoped>\n    .dataframe tbody tr th:only-of-type {\n        vertical-align: middle;\n    }\n\n    .dataframe tbody tr th {\n        vertical-align: top;\n    }\n\n    .dataframe thead th {\n        text-align: right;\n    }\n</style>\n<table border=\"1\" class=\"dataframe\">\n  <thead>\n    <tr style=\"text-align: right;\">\n      <th></th>\n      <th>id</th>\n      <th>year</th>\n      <th>month</th>\n      <th>element</th>\n      <th>day</th>\n      <th>temp</th>\n    </tr>\n  </thead>\n  <tbody>\n    <tr>\n      <td>0</td>\n      <td>MX17004</td>\n      <td>2010</td>\n      <td>1</td>\n      <td>tmax</td>\n      <td>d1</td>\n      <td>NaN</td>\n    </tr>\n    <tr>\n      <td>1</td>\n      <td>MX17004</td>\n      <td>2010</td>\n      <td>1</td>\n      <td>tmin</td>\n      <td>d1</td>\n      <td>NaN</td>\n    </tr>\n    <tr>\n      <td>2</td>\n      <td>MX17004</td>\n      <td>2010</td>\n      <td>2</td>\n      <td>tmax</td>\n      <td>d1</td>\n      <td>NaN</td>\n    </tr>\n    <tr>\n      <td>3</td>\n      <td>MX17004</td>\n      <td>2010</td>\n      <td>2</td>\n      <td>tmin</td>\n      <td>d1</td>\n      <td>NaN</td>\n    </tr>\n    <tr>\n      <td>4</td>\n      <td>MX17004</td>\n      <td>2010</td>\n      <td>3</td>\n      <td>tmax</td>\n      <td>d1</td>\n      <td>NaN</td>\n    </tr>\n    <tr>\n      <td>...</td>\n      <td>...</td>\n      <td>...</td>\n      <td>...</td>\n      <td>...</td>\n      <td>...</td>\n      <td>...</td>\n    </tr>\n    <tr>\n      <td>677</td>\n      <td>MX17004</td>\n      <td>2010</td>\n      <td>10</td>\n      <td>tmin</td>\n      <td>d31</td>\n      <td>NaN</td>\n    </tr>\n    <tr>\n      <td>678</td>\n      <td>MX17004</td>\n      <td>2010</td>\n      <td>11</td>\n      <td>tmax</td>\n      <td>d31</td>\n      <td>NaN</td>\n    </tr>\n    <tr>\n      <td>679</td>\n      <td>MX17004</td>\n      <td>2010</td>\n      <td>11</td>\n      <td>tmin</td>\n      <td>d31</td>\n      <td>NaN</td>\n    </tr>\n    <tr>\n      <td>680</td>\n      <td>MX17004</td>\n      <td>2010</td>\n      <td>12</td>\n      <td>tmax</td>\n      <td>d31</td>\n      <td>NaN</td>\n    </tr>\n    <tr>\n      <td>681</td>\n      <td>MX17004</td>\n      <td>2010</td>\n      <td>12</td>\n      <td>tmin</td>\n      <td>d31</td>\n      <td>NaN</td>\n    </tr>\n  </tbody>\n</table>\n<p>682 rows × 6 columns</p>\n</div>"
     },
     "metadata": {},
     "execution_count": 23
    }
   ],
   "source": [
    "weather_long"
   ]
  },
  {
   "cell_type": "code",
   "execution_count": 24,
   "metadata": {},
   "outputs": [
    {
     "output_type": "execute_result",
     "data": {
      "text/plain": "element       id  year  month  day  tmax  tmin\n0        MX17004  2010      1  d30  27.8  14.5\n1        MX17004  2010      2  d11  29.7  13.4\n2        MX17004  2010      2   d2  27.3  14.4\n3        MX17004  2010      2  d23  29.9  10.7\n4        MX17004  2010      2   d3  24.1  14.4\n5        MX17004  2010      3  d10  34.5  16.8\n6        MX17004  2010      3  d16  31.1  17.6\n7        MX17004  2010      3   d5  32.1  14.2\n8        MX17004  2010      4  d27  36.3  16.7\n9        MX17004  2010      5  d27  33.2  18.2\n10       MX17004  2010      6  d17  28.0  17.5\n11       MX17004  2010      6  d29  30.1  18.0\n12       MX17004  2010      7   d3  28.6  17.5\n13       MX17004  2010      7  d14  29.9  16.5\n14       MX17004  2010      8  d23  26.4  15.0\n15       MX17004  2010      8   d5  29.6  15.8\n16       MX17004  2010      8  d29  28.0  15.3\n17       MX17004  2010      8  d13  29.8  16.5\n18       MX17004  2010      8  d25  29.7  15.6\n19       MX17004  2010      8  d31  25.4  15.4\n20       MX17004  2010      8   d8  29.0  17.3\n21       MX17004  2010     10   d5  27.0  14.0\n22       MX17004  2010     10  d14  29.5  13.0\n23       MX17004  2010     10  d15  28.7  10.5\n24       MX17004  2010     10  d28  31.2  15.0\n25       MX17004  2010     10   d7  28.1  12.9\n26       MX17004  2010     11   d2  31.3  16.3\n27       MX17004  2010     11   d5  26.3   7.9\n28       MX17004  2010     11  d27  27.7  14.2\n29       MX17004  2010     11  d26  28.1  12.1\n30       MX17004  2010     11   d4  27.2  12.0\n31       MX17004  2010     12   d1  29.9  13.8\n32       MX17004  2010     12   d6  27.8  10.5",
      "text/html": "<div>\n<style scoped>\n    .dataframe tbody tr th:only-of-type {\n        vertical-align: middle;\n    }\n\n    .dataframe tbody tr th {\n        vertical-align: top;\n    }\n\n    .dataframe thead th {\n        text-align: right;\n    }\n</style>\n<table border=\"1\" class=\"dataframe\">\n  <thead>\n    <tr style=\"text-align: right;\">\n      <th>element</th>\n      <th>id</th>\n      <th>year</th>\n      <th>month</th>\n      <th>day</th>\n      <th>tmax</th>\n      <th>tmin</th>\n    </tr>\n  </thead>\n  <tbody>\n    <tr>\n      <td>0</td>\n      <td>MX17004</td>\n      <td>2010</td>\n      <td>1</td>\n      <td>d30</td>\n      <td>27.8</td>\n      <td>14.5</td>\n    </tr>\n    <tr>\n      <td>1</td>\n      <td>MX17004</td>\n      <td>2010</td>\n      <td>2</td>\n      <td>d11</td>\n      <td>29.7</td>\n      <td>13.4</td>\n    </tr>\n    <tr>\n      <td>2</td>\n      <td>MX17004</td>\n      <td>2010</td>\n      <td>2</td>\n      <td>d2</td>\n      <td>27.3</td>\n      <td>14.4</td>\n    </tr>\n    <tr>\n      <td>3</td>\n      <td>MX17004</td>\n      <td>2010</td>\n      <td>2</td>\n      <td>d23</td>\n      <td>29.9</td>\n      <td>10.7</td>\n    </tr>\n    <tr>\n      <td>4</td>\n      <td>MX17004</td>\n      <td>2010</td>\n      <td>2</td>\n      <td>d3</td>\n      <td>24.1</td>\n      <td>14.4</td>\n    </tr>\n    <tr>\n      <td>5</td>\n      <td>MX17004</td>\n      <td>2010</td>\n      <td>3</td>\n      <td>d10</td>\n      <td>34.5</td>\n      <td>16.8</td>\n    </tr>\n    <tr>\n      <td>6</td>\n      <td>MX17004</td>\n      <td>2010</td>\n      <td>3</td>\n      <td>d16</td>\n      <td>31.1</td>\n      <td>17.6</td>\n    </tr>\n    <tr>\n      <td>7</td>\n      <td>MX17004</td>\n      <td>2010</td>\n      <td>3</td>\n      <td>d5</td>\n      <td>32.1</td>\n      <td>14.2</td>\n    </tr>\n    <tr>\n      <td>8</td>\n      <td>MX17004</td>\n      <td>2010</td>\n      <td>4</td>\n      <td>d27</td>\n      <td>36.3</td>\n      <td>16.7</td>\n    </tr>\n    <tr>\n      <td>9</td>\n      <td>MX17004</td>\n      <td>2010</td>\n      <td>5</td>\n      <td>d27</td>\n      <td>33.2</td>\n      <td>18.2</td>\n    </tr>\n    <tr>\n      <td>10</td>\n      <td>MX17004</td>\n      <td>2010</td>\n      <td>6</td>\n      <td>d17</td>\n      <td>28.0</td>\n      <td>17.5</td>\n    </tr>\n    <tr>\n      <td>11</td>\n      <td>MX17004</td>\n      <td>2010</td>\n      <td>6</td>\n      <td>d29</td>\n      <td>30.1</td>\n      <td>18.0</td>\n    </tr>\n    <tr>\n      <td>12</td>\n      <td>MX17004</td>\n      <td>2010</td>\n      <td>7</td>\n      <td>d3</td>\n      <td>28.6</td>\n      <td>17.5</td>\n    </tr>\n    <tr>\n      <td>13</td>\n      <td>MX17004</td>\n      <td>2010</td>\n      <td>7</td>\n      <td>d14</td>\n      <td>29.9</td>\n      <td>16.5</td>\n    </tr>\n    <tr>\n      <td>14</td>\n      <td>MX17004</td>\n      <td>2010</td>\n      <td>8</td>\n      <td>d23</td>\n      <td>26.4</td>\n      <td>15.0</td>\n    </tr>\n    <tr>\n      <td>15</td>\n      <td>MX17004</td>\n      <td>2010</td>\n      <td>8</td>\n      <td>d5</td>\n      <td>29.6</td>\n      <td>15.8</td>\n    </tr>\n    <tr>\n      <td>16</td>\n      <td>MX17004</td>\n      <td>2010</td>\n      <td>8</td>\n      <td>d29</td>\n      <td>28.0</td>\n      <td>15.3</td>\n    </tr>\n    <tr>\n      <td>17</td>\n      <td>MX17004</td>\n      <td>2010</td>\n      <td>8</td>\n      <td>d13</td>\n      <td>29.8</td>\n      <td>16.5</td>\n    </tr>\n    <tr>\n      <td>18</td>\n      <td>MX17004</td>\n      <td>2010</td>\n      <td>8</td>\n      <td>d25</td>\n      <td>29.7</td>\n      <td>15.6</td>\n    </tr>\n    <tr>\n      <td>19</td>\n      <td>MX17004</td>\n      <td>2010</td>\n      <td>8</td>\n      <td>d31</td>\n      <td>25.4</td>\n      <td>15.4</td>\n    </tr>\n    <tr>\n      <td>20</td>\n      <td>MX17004</td>\n      <td>2010</td>\n      <td>8</td>\n      <td>d8</td>\n      <td>29.0</td>\n      <td>17.3</td>\n    </tr>\n    <tr>\n      <td>21</td>\n      <td>MX17004</td>\n      <td>2010</td>\n      <td>10</td>\n      <td>d5</td>\n      <td>27.0</td>\n      <td>14.0</td>\n    </tr>\n    <tr>\n      <td>22</td>\n      <td>MX17004</td>\n      <td>2010</td>\n      <td>10</td>\n      <td>d14</td>\n      <td>29.5</td>\n      <td>13.0</td>\n    </tr>\n    <tr>\n      <td>23</td>\n      <td>MX17004</td>\n      <td>2010</td>\n      <td>10</td>\n      <td>d15</td>\n      <td>28.7</td>\n      <td>10.5</td>\n    </tr>\n    <tr>\n      <td>24</td>\n      <td>MX17004</td>\n      <td>2010</td>\n      <td>10</td>\n      <td>d28</td>\n      <td>31.2</td>\n      <td>15.0</td>\n    </tr>\n    <tr>\n      <td>25</td>\n      <td>MX17004</td>\n      <td>2010</td>\n      <td>10</td>\n      <td>d7</td>\n      <td>28.1</td>\n      <td>12.9</td>\n    </tr>\n    <tr>\n      <td>26</td>\n      <td>MX17004</td>\n      <td>2010</td>\n      <td>11</td>\n      <td>d2</td>\n      <td>31.3</td>\n      <td>16.3</td>\n    </tr>\n    <tr>\n      <td>27</td>\n      <td>MX17004</td>\n      <td>2010</td>\n      <td>11</td>\n      <td>d5</td>\n      <td>26.3</td>\n      <td>7.9</td>\n    </tr>\n    <tr>\n      <td>28</td>\n      <td>MX17004</td>\n      <td>2010</td>\n      <td>11</td>\n      <td>d27</td>\n      <td>27.7</td>\n      <td>14.2</td>\n    </tr>\n    <tr>\n      <td>29</td>\n      <td>MX17004</td>\n      <td>2010</td>\n      <td>11</td>\n      <td>d26</td>\n      <td>28.1</td>\n      <td>12.1</td>\n    </tr>\n    <tr>\n      <td>30</td>\n      <td>MX17004</td>\n      <td>2010</td>\n      <td>11</td>\n      <td>d4</td>\n      <td>27.2</td>\n      <td>12.0</td>\n    </tr>\n    <tr>\n      <td>31</td>\n      <td>MX17004</td>\n      <td>2010</td>\n      <td>12</td>\n      <td>d1</td>\n      <td>29.9</td>\n      <td>13.8</td>\n    </tr>\n    <tr>\n      <td>32</td>\n      <td>MX17004</td>\n      <td>2010</td>\n      <td>12</td>\n      <td>d6</td>\n      <td>27.8</td>\n      <td>10.5</td>\n    </tr>\n  </tbody>\n</table>\n</div>"
     },
     "metadata": {},
     "execution_count": 24
    }
   ],
   "source": [
    "weather_tidy = weather_long.pivot_table(index=[\"id\",\"year\",\"month\",\"day\"], columns=\"element\", values=\"temp\").reset_index()\n",
    "weather_tidy"
   ]
  },
  {
   "cell_type": "markdown",
   "metadata": {},
   "source": [
    "# Normalization"
   ]
  },
  {
   "cell_type": "code",
   "execution_count": 40,
   "metadata": {},
   "outputs": [
    {
     "output_type": "execute_result",
     "data": {
      "text/plain": "       year        artist  track  time date.entered  week  rating\n3      2000  3 Doors Down  Loser  4:24   2000-10-21   wk1    76.0\n320    2000  3 Doors Down  Loser  4:24   2000-10-21   wk2    76.0\n637    2000  3 Doors Down  Loser  4:24   2000-10-21   wk3    72.0\n954    2000  3 Doors Down  Loser  4:24   2000-10-21   wk4    69.0\n1271   2000  3 Doors Down  Loser  4:24   2000-10-21   wk5    67.0\n...     ...           ...    ...   ...          ...   ...     ...\n22510  2000  3 Doors Down  Loser  4:24   2000-10-21  wk72     NaN\n22827  2000  3 Doors Down  Loser  4:24   2000-10-21  wk73     NaN\n23144  2000  3 Doors Down  Loser  4:24   2000-10-21  wk74     NaN\n23461  2000  3 Doors Down  Loser  4:24   2000-10-21  wk75     NaN\n23778  2000  3 Doors Down  Loser  4:24   2000-10-21  wk76     NaN\n\n[76 rows x 7 columns]",
      "text/html": "<div>\n<style scoped>\n    .dataframe tbody tr th:only-of-type {\n        vertical-align: middle;\n    }\n\n    .dataframe tbody tr th {\n        vertical-align: top;\n    }\n\n    .dataframe thead th {\n        text-align: right;\n    }\n</style>\n<table border=\"1\" class=\"dataframe\">\n  <thead>\n    <tr style=\"text-align: right;\">\n      <th></th>\n      <th>year</th>\n      <th>artist</th>\n      <th>track</th>\n      <th>time</th>\n      <th>date.entered</th>\n      <th>week</th>\n      <th>rating</th>\n    </tr>\n  </thead>\n  <tbody>\n    <tr>\n      <td>3</td>\n      <td>2000</td>\n      <td>3 Doors Down</td>\n      <td>Loser</td>\n      <td>4:24</td>\n      <td>2000-10-21</td>\n      <td>wk1</td>\n      <td>76.0</td>\n    </tr>\n    <tr>\n      <td>320</td>\n      <td>2000</td>\n      <td>3 Doors Down</td>\n      <td>Loser</td>\n      <td>4:24</td>\n      <td>2000-10-21</td>\n      <td>wk2</td>\n      <td>76.0</td>\n    </tr>\n    <tr>\n      <td>637</td>\n      <td>2000</td>\n      <td>3 Doors Down</td>\n      <td>Loser</td>\n      <td>4:24</td>\n      <td>2000-10-21</td>\n      <td>wk3</td>\n      <td>72.0</td>\n    </tr>\n    <tr>\n      <td>954</td>\n      <td>2000</td>\n      <td>3 Doors Down</td>\n      <td>Loser</td>\n      <td>4:24</td>\n      <td>2000-10-21</td>\n      <td>wk4</td>\n      <td>69.0</td>\n    </tr>\n    <tr>\n      <td>1271</td>\n      <td>2000</td>\n      <td>3 Doors Down</td>\n      <td>Loser</td>\n      <td>4:24</td>\n      <td>2000-10-21</td>\n      <td>wk5</td>\n      <td>67.0</td>\n    </tr>\n    <tr>\n      <td>...</td>\n      <td>...</td>\n      <td>...</td>\n      <td>...</td>\n      <td>...</td>\n      <td>...</td>\n      <td>...</td>\n      <td>...</td>\n    </tr>\n    <tr>\n      <td>22510</td>\n      <td>2000</td>\n      <td>3 Doors Down</td>\n      <td>Loser</td>\n      <td>4:24</td>\n      <td>2000-10-21</td>\n      <td>wk72</td>\n      <td>NaN</td>\n    </tr>\n    <tr>\n      <td>22827</td>\n      <td>2000</td>\n      <td>3 Doors Down</td>\n      <td>Loser</td>\n      <td>4:24</td>\n      <td>2000-10-21</td>\n      <td>wk73</td>\n      <td>NaN</td>\n    </tr>\n    <tr>\n      <td>23144</td>\n      <td>2000</td>\n      <td>3 Doors Down</td>\n      <td>Loser</td>\n      <td>4:24</td>\n      <td>2000-10-21</td>\n      <td>wk74</td>\n      <td>NaN</td>\n    </tr>\n    <tr>\n      <td>23461</td>\n      <td>2000</td>\n      <td>3 Doors Down</td>\n      <td>Loser</td>\n      <td>4:24</td>\n      <td>2000-10-21</td>\n      <td>wk75</td>\n      <td>NaN</td>\n    </tr>\n    <tr>\n      <td>23778</td>\n      <td>2000</td>\n      <td>3 Doors Down</td>\n      <td>Loser</td>\n      <td>4:24</td>\n      <td>2000-10-21</td>\n      <td>wk76</td>\n      <td>NaN</td>\n    </tr>\n  </tbody>\n</table>\n<p>76 rows × 7 columns</p>\n</div>"
     },
     "metadata": {},
     "execution_count": 40
    }
   ],
   "source": [
    "bb_long[bb_long[\"track\"] == \"Loser\"]"
   ]
  },
  {
   "cell_type": "code",
   "execution_count": null,
   "metadata": {},
   "outputs": [],
   "source": []
  },
  {
   "cell_type": "code",
   "execution_count": null,
   "metadata": {},
   "outputs": [],
   "source": []
  },
  {
   "cell_type": "code",
   "execution_count": null,
   "metadata": {},
   "outputs": [],
   "source": []
  },
  {
   "cell_type": "code",
   "execution_count": null,
   "metadata": {},
   "outputs": [],
   "source": []
  },
  {
   "cell_type": "code",
   "execution_count": null,
   "metadata": {},
   "outputs": [],
   "source": []
  },
  {
   "cell_type": "code",
   "execution_count": null,
   "metadata": {},
   "outputs": [],
   "source": []
  },
  {
   "cell_type": "code",
   "execution_count": null,
   "metadata": {},
   "outputs": [],
   "source": []
  },
  {
   "cell_type": "code",
   "execution_count": null,
   "metadata": {},
   "outputs": [],
   "source": []
  },
  {
   "cell_type": "code",
   "execution_count": null,
   "metadata": {},
   "outputs": [],
   "source": []
  },
  {
   "cell_type": "code",
   "execution_count": null,
   "metadata": {},
   "outputs": [],
   "source": []
  },
  {
   "cell_type": "code",
   "execution_count": null,
   "metadata": {},
   "outputs": [],
   "source": []
  },
  {
   "cell_type": "code",
   "execution_count": null,
   "metadata": {},
   "outputs": [],
   "source": []
  },
  {
   "cell_type": "code",
   "execution_count": null,
   "metadata": {},
   "outputs": [],
   "source": []
  },
  {
   "cell_type": "code",
   "execution_count": null,
   "metadata": {},
   "outputs": [],
   "source": []
  },
  {
   "cell_type": "code",
   "execution_count": null,
   "metadata": {},
   "outputs": [],
   "source": []
  },
  {
   "cell_type": "code",
   "execution_count": null,
   "metadata": {},
   "outputs": [],
   "source": []
  },
  {
   "cell_type": "code",
   "execution_count": null,
   "metadata": {},
   "outputs": [],
   "source": []
  },
  {
   "cell_type": "code",
   "execution_count": null,
   "metadata": {},
   "outputs": [],
   "source": []
  },
  {
   "cell_type": "code",
   "execution_count": null,
   "metadata": {},
   "outputs": [],
   "source": []
  },
  {
   "cell_type": "code",
   "execution_count": null,
   "metadata": {},
   "outputs": [],
   "source": []
  },
  {
   "cell_type": "code",
   "execution_count": null,
   "metadata": {},
   "outputs": [],
   "source": []
  },
  {
   "cell_type": "code",
   "execution_count": null,
   "metadata": {},
   "outputs": [],
   "source": []
  },
  {
   "cell_type": "code",
   "execution_count": null,
   "metadata": {},
   "outputs": [],
   "source": []
  },
  {
   "cell_type": "code",
   "execution_count": null,
   "metadata": {},
   "outputs": [],
   "source": []
  },
  {
   "cell_type": "code",
   "execution_count": null,
   "metadata": {},
   "outputs": [],
   "source": []
  },
  {
   "cell_type": "code",
   "execution_count": null,
   "metadata": {},
   "outputs": [],
   "source": []
  },
  {
   "cell_type": "code",
   "execution_count": null,
   "metadata": {},
   "outputs": [],
   "source": []
  },
  {
   "cell_type": "code",
   "execution_count": null,
   "metadata": {},
   "outputs": [],
   "source": []
  },
  {
   "cell_type": "code",
   "execution_count": null,
   "metadata": {},
   "outputs": [],
   "source": []
  },
  {
   "cell_type": "code",
   "execution_count": null,
   "metadata": {},
   "outputs": [],
   "source": []
  }
 ],
 "metadata": {
  "language_info": {
   "codemirror_mode": {
    "name": "ipython",
    "version": 3
   },
   "file_extension": ".py",
   "mimetype": "text/x-python",
   "name": "python",
   "nbconvert_exporter": "python",
   "pygments_lexer": "ipython3",
   "version": "3.7.4-final"
  },
  "orig_nbformat": 2,
  "kernelspec": {
   "name": "python37464bitbaseconda6db2893f0e1b4b6ea66d23044bec9473",
   "display_name": "Python 3.7.4 64-bit ('base': conda)"
  }
 },
 "nbformat": 4,
 "nbformat_minor": 2
}