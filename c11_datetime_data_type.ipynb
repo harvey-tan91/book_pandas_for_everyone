{
 "cells": [
  {
   "cell_type": "code",
   "execution_count": 1,
   "metadata": {},
   "outputs": [],
   "source": [
    "# Python has a built-in datatime object in the datetime library\n",
    "from datetime import datetime\n",
    "import pandas as pd"
   ]
  },
  {
   "cell_type": "code",
   "execution_count": 2,
   "metadata": {
    "tags": []
   },
   "outputs": [
    {
     "output_type": "stream",
     "name": "stdout",
     "text": "2020-07-04 13:44:25.310029\n"
    }
   ],
   "source": [
    "# to get the current time \n",
    "time_now = datetime.now()\n",
    "print(time_now)"
   ]
  },
  {
   "cell_type": "code",
   "execution_count": 3,
   "metadata": {},
   "outputs": [
    {
     "output_type": "execute_result",
     "data": {
      "text/plain": "datetime.datetime"
     },
     "metadata": {},
     "execution_count": 3
    }
   ],
   "source": [
    "type(time_now)"
   ]
  },
  {
   "cell_type": "code",
   "execution_count": 4,
   "metadata": {},
   "outputs": [],
   "source": [
    "time = datetime(1970,12,25) # yyyy mm dd\n",
    "diff = time_now - time"
   ]
  },
  {
   "cell_type": "code",
   "execution_count": 5,
   "metadata": {
    "tags": []
   },
   "outputs": [
    {
     "output_type": "stream",
     "name": "stdout",
     "text": "18089 days, 13:44:25.310029\n"
    }
   ],
   "source": [
    "print(diff)"
   ]
  },
  {
   "cell_type": "code",
   "execution_count": 6,
   "metadata": {},
   "outputs": [
    {
     "output_type": "execute_result",
     "data": {
      "text/plain": "datetime.timedelta"
     },
     "metadata": {},
     "execution_count": 6
    }
   ],
   "source": [
    "type(diff)"
   ]
  },
  {
   "cell_type": "markdown",
   "metadata": {},
   "source": [
    "# Conversion to datetime"
   ]
  },
  {
   "cell_type": "code",
   "execution_count": 7,
   "metadata": {},
   "outputs": [],
   "source": [
    "import pandas as pd\n",
    "import numpy as np\n",
    "data = pd.read_csv(r\"C:\\Users\\tanzh\\Documents\\Python\\Pandas for Everyone\\datasets\\country_timeseries.csv\")"
   ]
  },
  {
   "cell_type": "code",
   "execution_count": 8,
   "metadata": {},
   "outputs": [
    {
     "output_type": "execute_result",
     "data": {
      "text/plain": "(122, 18)"
     },
     "metadata": {},
     "execution_count": 8
    }
   ],
   "source": [
    "data.shape"
   ]
  },
  {
   "cell_type": "code",
   "execution_count": 9,
   "metadata": {},
   "outputs": [
    {
     "output_type": "execute_result",
     "data": {
      "text/plain": "         Date  Day  Cases_Guinea  Cases_Liberia  Cases_SierraLeone  \\\n0    1/5/2015  289        2776.0            NaN            10030.0   \n1    1/4/2015  288        2775.0            NaN             9780.0   \n2    1/3/2015  287        2769.0         8166.0             9722.0   \n3    1/2/2015  286           NaN         8157.0                NaN   \n4  12/31/2014  284        2730.0         8115.0             9633.0   \n5  12/28/2014  281        2706.0         8018.0             9446.0   \n6  12/27/2014  280        2695.0            NaN             9409.0   \n7  12/24/2014  277        2630.0         7977.0             9203.0   \n8  12/21/2014  273        2597.0            NaN             9004.0   \n9  12/20/2014  272        2571.0         7862.0             8939.0   \n\n   Cases_Nigeria  Cases_Senegal  Cases_UnitedStates  Cases_Spain  Cases_Mali  \\\n0            NaN            NaN                 NaN          NaN         NaN   \n1            NaN            NaN                 NaN          NaN         NaN   \n2            NaN            NaN                 NaN          NaN         NaN   \n3            NaN            NaN                 NaN          NaN         NaN   \n4            NaN            NaN                 NaN          NaN         NaN   \n5            NaN            NaN                 NaN          NaN         NaN   \n6            NaN            NaN                 NaN          NaN         NaN   \n7            NaN            NaN                 NaN          NaN         NaN   \n8            NaN            NaN                 NaN          NaN         NaN   \n9            NaN            NaN                 NaN          NaN         NaN   \n\n   Deaths_Guinea  Deaths_Liberia  Deaths_SierraLeone  Deaths_Nigeria  \\\n0         1786.0             NaN              2977.0             NaN   \n1         1781.0             NaN              2943.0             NaN   \n2         1767.0          3496.0              2915.0             NaN   \n3            NaN          3496.0                 NaN             NaN   \n4         1739.0          3471.0              2827.0             NaN   \n5         1708.0          3423.0              2758.0             NaN   \n6         1697.0             NaN              2732.0             NaN   \n7            NaN          3413.0              2655.0             NaN   \n8         1607.0             NaN              2582.0             NaN   \n9         1586.0          3384.0              2556.0             NaN   \n\n   Deaths_Senegal  Deaths_UnitedStates  Deaths_Spain  Deaths_Mali  \n0             NaN                  NaN           NaN          0.0  \n1             NaN                  NaN           NaN          0.0  \n2             NaN                  NaN           NaN          0.0  \n3             NaN                  NaN           NaN          0.0  \n4             NaN                  NaN           NaN          0.0  \n5             NaN                  NaN           NaN          NaN  \n6             NaN                  NaN           NaN          NaN  \n7             NaN                  NaN           NaN          NaN  \n8             NaN                  NaN           NaN          NaN  \n9             NaN                  NaN           NaN          NaN  ",
      "text/html": "<div>\n<style scoped>\n    .dataframe tbody tr th:only-of-type {\n        vertical-align: middle;\n    }\n\n    .dataframe tbody tr th {\n        vertical-align: top;\n    }\n\n    .dataframe thead th {\n        text-align: right;\n    }\n</style>\n<table border=\"1\" class=\"dataframe\">\n  <thead>\n    <tr style=\"text-align: right;\">\n      <th></th>\n      <th>Date</th>\n      <th>Day</th>\n      <th>Cases_Guinea</th>\n      <th>Cases_Liberia</th>\n      <th>Cases_SierraLeone</th>\n      <th>Cases_Nigeria</th>\n      <th>Cases_Senegal</th>\n      <th>Cases_UnitedStates</th>\n      <th>Cases_Spain</th>\n      <th>Cases_Mali</th>\n      <th>Deaths_Guinea</th>\n      <th>Deaths_Liberia</th>\n      <th>Deaths_SierraLeone</th>\n      <th>Deaths_Nigeria</th>\n      <th>Deaths_Senegal</th>\n      <th>Deaths_UnitedStates</th>\n      <th>Deaths_Spain</th>\n      <th>Deaths_Mali</th>\n    </tr>\n  </thead>\n  <tbody>\n    <tr>\n      <td>0</td>\n      <td>1/5/2015</td>\n      <td>289</td>\n      <td>2776.0</td>\n      <td>NaN</td>\n      <td>10030.0</td>\n      <td>NaN</td>\n      <td>NaN</td>\n      <td>NaN</td>\n      <td>NaN</td>\n      <td>NaN</td>\n      <td>1786.0</td>\n      <td>NaN</td>\n      <td>2977.0</td>\n      <td>NaN</td>\n      <td>NaN</td>\n      <td>NaN</td>\n      <td>NaN</td>\n      <td>0.0</td>\n    </tr>\n    <tr>\n      <td>1</td>\n      <td>1/4/2015</td>\n      <td>288</td>\n      <td>2775.0</td>\n      <td>NaN</td>\n      <td>9780.0</td>\n      <td>NaN</td>\n      <td>NaN</td>\n      <td>NaN</td>\n      <td>NaN</td>\n      <td>NaN</td>\n      <td>1781.0</td>\n      <td>NaN</td>\n      <td>2943.0</td>\n      <td>NaN</td>\n      <td>NaN</td>\n      <td>NaN</td>\n      <td>NaN</td>\n      <td>0.0</td>\n    </tr>\n    <tr>\n      <td>2</td>\n      <td>1/3/2015</td>\n      <td>287</td>\n      <td>2769.0</td>\n      <td>8166.0</td>\n      <td>9722.0</td>\n      <td>NaN</td>\n      <td>NaN</td>\n      <td>NaN</td>\n      <td>NaN</td>\n      <td>NaN</td>\n      <td>1767.0</td>\n      <td>3496.0</td>\n      <td>2915.0</td>\n      <td>NaN</td>\n      <td>NaN</td>\n      <td>NaN</td>\n      <td>NaN</td>\n      <td>0.0</td>\n    </tr>\n    <tr>\n      <td>3</td>\n      <td>1/2/2015</td>\n      <td>286</td>\n      <td>NaN</td>\n      <td>8157.0</td>\n      <td>NaN</td>\n      <td>NaN</td>\n      <td>NaN</td>\n      <td>NaN</td>\n      <td>NaN</td>\n      <td>NaN</td>\n      <td>NaN</td>\n      <td>3496.0</td>\n      <td>NaN</td>\n      <td>NaN</td>\n      <td>NaN</td>\n      <td>NaN</td>\n      <td>NaN</td>\n      <td>0.0</td>\n    </tr>\n    <tr>\n      <td>4</td>\n      <td>12/31/2014</td>\n      <td>284</td>\n      <td>2730.0</td>\n      <td>8115.0</td>\n      <td>9633.0</td>\n      <td>NaN</td>\n      <td>NaN</td>\n      <td>NaN</td>\n      <td>NaN</td>\n      <td>NaN</td>\n      <td>1739.0</td>\n      <td>3471.0</td>\n      <td>2827.0</td>\n      <td>NaN</td>\n      <td>NaN</td>\n      <td>NaN</td>\n      <td>NaN</td>\n      <td>0.0</td>\n    </tr>\n    <tr>\n      <td>5</td>\n      <td>12/28/2014</td>\n      <td>281</td>\n      <td>2706.0</td>\n      <td>8018.0</td>\n      <td>9446.0</td>\n      <td>NaN</td>\n      <td>NaN</td>\n      <td>NaN</td>\n      <td>NaN</td>\n      <td>NaN</td>\n      <td>1708.0</td>\n      <td>3423.0</td>\n      <td>2758.0</td>\n      <td>NaN</td>\n      <td>NaN</td>\n      <td>NaN</td>\n      <td>NaN</td>\n      <td>NaN</td>\n    </tr>\n    <tr>\n      <td>6</td>\n      <td>12/27/2014</td>\n      <td>280</td>\n      <td>2695.0</td>\n      <td>NaN</td>\n      <td>9409.0</td>\n      <td>NaN</td>\n      <td>NaN</td>\n      <td>NaN</td>\n      <td>NaN</td>\n      <td>NaN</td>\n      <td>1697.0</td>\n      <td>NaN</td>\n      <td>2732.0</td>\n      <td>NaN</td>\n      <td>NaN</td>\n      <td>NaN</td>\n      <td>NaN</td>\n      <td>NaN</td>\n    </tr>\n    <tr>\n      <td>7</td>\n      <td>12/24/2014</td>\n      <td>277</td>\n      <td>2630.0</td>\n      <td>7977.0</td>\n      <td>9203.0</td>\n      <td>NaN</td>\n      <td>NaN</td>\n      <td>NaN</td>\n      <td>NaN</td>\n      <td>NaN</td>\n      <td>NaN</td>\n      <td>3413.0</td>\n      <td>2655.0</td>\n      <td>NaN</td>\n      <td>NaN</td>\n      <td>NaN</td>\n      <td>NaN</td>\n      <td>NaN</td>\n    </tr>\n    <tr>\n      <td>8</td>\n      <td>12/21/2014</td>\n      <td>273</td>\n      <td>2597.0</td>\n      <td>NaN</td>\n      <td>9004.0</td>\n      <td>NaN</td>\n      <td>NaN</td>\n      <td>NaN</td>\n      <td>NaN</td>\n      <td>NaN</td>\n      <td>1607.0</td>\n      <td>NaN</td>\n      <td>2582.0</td>\n      <td>NaN</td>\n      <td>NaN</td>\n      <td>NaN</td>\n      <td>NaN</td>\n      <td>NaN</td>\n    </tr>\n    <tr>\n      <td>9</td>\n      <td>12/20/2014</td>\n      <td>272</td>\n      <td>2571.0</td>\n      <td>7862.0</td>\n      <td>8939.0</td>\n      <td>NaN</td>\n      <td>NaN</td>\n      <td>NaN</td>\n      <td>NaN</td>\n      <td>NaN</td>\n      <td>1586.0</td>\n      <td>3384.0</td>\n      <td>2556.0</td>\n      <td>NaN</td>\n      <td>NaN</td>\n      <td>NaN</td>\n      <td>NaN</td>\n      <td>NaN</td>\n    </tr>\n  </tbody>\n</table>\n</div>"
     },
     "metadata": {},
     "execution_count": 9
    }
   ],
   "source": [
    "data.head(10)"
   ]
  },
  {
   "cell_type": "code",
   "execution_count": 10,
   "metadata": {
    "tags": []
   },
   "outputs": [
    {
     "output_type": "stream",
     "name": "stdout",
     "text": "<class 'pandas.core.frame.DataFrame'>\nRangeIndex: 122 entries, 0 to 121\nData columns (total 18 columns):\nDate                   122 non-null object\nDay                    122 non-null int64\nCases_Guinea           93 non-null float64\nCases_Liberia          83 non-null float64\nCases_SierraLeone      87 non-null float64\nCases_Nigeria          38 non-null float64\nCases_Senegal          25 non-null float64\nCases_UnitedStates     18 non-null float64\nCases_Spain            16 non-null float64\nCases_Mali             12 non-null float64\nDeaths_Guinea          92 non-null float64\nDeaths_Liberia         81 non-null float64\nDeaths_SierraLeone     87 non-null float64\nDeaths_Nigeria         38 non-null float64\nDeaths_Senegal         22 non-null float64\nDeaths_UnitedStates    18 non-null float64\nDeaths_Spain           16 non-null float64\nDeaths_Mali            17 non-null float64\ndtypes: float64(16), int64(1), object(1)\nmemory usage: 17.3+ KB\n"
    }
   ],
   "source": [
    "data.info() # you might noticed that the Date column is encoded as a generic string object in Pandas"
   ]
  },
  {
   "cell_type": "code",
   "execution_count": 11,
   "metadata": {},
   "outputs": [],
   "source": [
    "# the following line create a new column that convert the \"Date\" column into a datetime object\n",
    "\n",
    "data[\"Date_dt\"] = pd.to_datetime(data[\"Date\"])"
   ]
  },
  {
   "cell_type": "code",
   "execution_count": 12,
   "metadata": {},
   "outputs": [],
   "source": [
    "# we can format the date as follows : \n",
    "data[\"Data_dt_1\"] = pd.to_datetime(data[\"Date\"], format = '%m/%d/%Y')"
   ]
  },
  {
   "cell_type": "code",
   "execution_count": 13,
   "metadata": {},
   "outputs": [],
   "source": [
    "data[\"Date_dt_2\"] = pd.to_datetime(data[\"Date\"]).dt.strftime('%d-%m-%Y') \n",
    "# this creates a new column and format the date as d/m/yyyy"
   ]
  },
  {
   "cell_type": "markdown",
   "metadata": {},
   "source": [
    "# Loading data that contains dates"
   ]
  },
  {
   "cell_type": "code",
   "execution_count": 14,
   "metadata": {},
   "outputs": [],
   "source": [
    "# the read csv function has a lot of parameters such as parse_date, inher_datetime_format, keep_date_col\n",
    "# we can parse the Date column directly by specifying the column we want in the parse_dates parameter\n",
    "# for more information, refer to < https://pandas.pydata.org/pandas-docs/stable/reference/api/pandas.read_csv.html >"
   ]
  },
  {
   "cell_type": "code",
   "execution_count": 15,
   "metadata": {},
   "outputs": [],
   "source": [
    "data_revised = pd.read_csv(r\"C:\\Users\\tanzh\\Documents\\Python\\Pandas for Everyone\\datasets\\country_timeseries.csv\", parse_dates = [0])\n",
    "# by specifying the date column index in the read_csv function under the parse_date parameters, the \"Date\" column is automatically read as a DateTime object"
   ]
  },
  {
   "cell_type": "code",
   "execution_count": 16,
   "metadata": {
    "tags": []
   },
   "outputs": [
    {
     "output_type": "stream",
     "name": "stdout",
     "text": "<class 'pandas.core.frame.DataFrame'>\nRangeIndex: 122 entries, 0 to 121\nData columns (total 18 columns):\nDate                   122 non-null datetime64[ns]\nDay                    122 non-null int64\nCases_Guinea           93 non-null float64\nCases_Liberia          83 non-null float64\nCases_SierraLeone      87 non-null float64\nCases_Nigeria          38 non-null float64\nCases_Senegal          25 non-null float64\nCases_UnitedStates     18 non-null float64\nCases_Spain            16 non-null float64\nCases_Mali             12 non-null float64\nDeaths_Guinea          92 non-null float64\nDeaths_Liberia         81 non-null float64\nDeaths_SierraLeone     87 non-null float64\nDeaths_Nigeria         38 non-null float64\nDeaths_Senegal         22 non-null float64\nDeaths_UnitedStates    18 non-null float64\nDeaths_Spain           16 non-null float64\nDeaths_Mali            17 non-null float64\ndtypes: datetime64[ns](1), float64(16), int64(1)\nmemory usage: 17.3 KB\n"
    }
   ],
   "source": [
    "data_revised.info()"
   ]
  },
  {
   "cell_type": "markdown",
   "metadata": {},
   "source": [
    "# Extracting Date Components"
   ]
  },
  {
   "cell_type": "code",
   "execution_count": 17,
   "metadata": {
    "tags": []
   },
   "outputs": [
    {
     "output_type": "stream",
     "name": "stdout",
     "text": "2016-03-12 00:00:00\n"
    }
   ],
   "source": [
    "d = pd.to_datetime(\"2016-03-12\")\n",
    "print(d)"
   ]
  },
  {
   "cell_type": "code",
   "execution_count": 18,
   "metadata": {
    "tags": []
   },
   "outputs": [
    {
     "output_type": "stream",
     "name": "stdout",
     "text": "<class 'pandas._libs.tslibs.timestamps.Timestamp'>\n"
    }
   ],
   "source": [
    "print(type(d)) # if we pass a single string, we get a Timestamp"
   ]
  },
  {
   "cell_type": "code",
   "execution_count": 19,
   "metadata": {
    "tags": []
   },
   "outputs": [
    {
     "output_type": "stream",
     "name": "stdout",
     "text": "2016\n3\n12\n"
    }
   ],
   "source": [
    "# we can access the various date component\n",
    "\n",
    "print(d.year)\n",
    "print(d.month)\n",
    "print(d.day)"
   ]
  },
  {
   "cell_type": "code",
   "execution_count": 20,
   "metadata": {},
   "outputs": [
    {
     "output_type": "execute_result",
     "data": {
      "text/plain": "         Date    Date_dt  Year\n0    1/5/2015 2015-01-05  2015\n1    1/4/2015 2015-01-04  2015\n2    1/3/2015 2015-01-03  2015\n3    1/2/2015 2015-01-02  2015\n4  12/31/2014 2014-12-31  2014",
      "text/html": "<div>\n<style scoped>\n    .dataframe tbody tr th:only-of-type {\n        vertical-align: middle;\n    }\n\n    .dataframe tbody tr th {\n        vertical-align: top;\n    }\n\n    .dataframe thead th {\n        text-align: right;\n    }\n</style>\n<table border=\"1\" class=\"dataframe\">\n  <thead>\n    <tr style=\"text-align: right;\">\n      <th></th>\n      <th>Date</th>\n      <th>Date_dt</th>\n      <th>Year</th>\n    </tr>\n  </thead>\n  <tbody>\n    <tr>\n      <td>0</td>\n      <td>1/5/2015</td>\n      <td>2015-01-05</td>\n      <td>2015</td>\n    </tr>\n    <tr>\n      <td>1</td>\n      <td>1/4/2015</td>\n      <td>2015-01-04</td>\n      <td>2015</td>\n    </tr>\n    <tr>\n      <td>2</td>\n      <td>1/3/2015</td>\n      <td>2015-01-03</td>\n      <td>2015</td>\n    </tr>\n    <tr>\n      <td>3</td>\n      <td>1/2/2015</td>\n      <td>2015-01-02</td>\n      <td>2015</td>\n    </tr>\n    <tr>\n      <td>4</td>\n      <td>12/31/2014</td>\n      <td>2014-12-31</td>\n      <td>2014</td>\n    </tr>\n  </tbody>\n</table>\n</div>"
     },
     "metadata": {},
     "execution_count": 20
    }
   ],
   "source": [
    "# We can create a new column that store year based on the \"Date\" column \n",
    "\n",
    "data[\"Year\"] = data[\"Date_dt\"].dt.year # note that Date column in the data variable is a object, NOT a datetime object \n",
    "data[[\"Date\", \"Date_dt\",\"Year\"]].head()"
   ]
  },
  {
   "cell_type": "code",
   "execution_count": 21,
   "metadata": {},
   "outputs": [
    {
     "output_type": "execute_result",
     "data": {
      "text/plain": "        Date  Year\n0 2015-01-05  2015\n1 2015-01-04  2015\n2 2015-01-03  2015\n3 2015-01-02  2015\n4 2014-12-31  2014",
      "text/html": "<div>\n<style scoped>\n    .dataframe tbody tr th:only-of-type {\n        vertical-align: middle;\n    }\n\n    .dataframe tbody tr th {\n        vertical-align: top;\n    }\n\n    .dataframe thead th {\n        text-align: right;\n    }\n</style>\n<table border=\"1\" class=\"dataframe\">\n  <thead>\n    <tr style=\"text-align: right;\">\n      <th></th>\n      <th>Date</th>\n      <th>Year</th>\n    </tr>\n  </thead>\n  <tbody>\n    <tr>\n      <td>0</td>\n      <td>2015-01-05</td>\n      <td>2015</td>\n    </tr>\n    <tr>\n      <td>1</td>\n      <td>2015-01-04</td>\n      <td>2015</td>\n    </tr>\n    <tr>\n      <td>2</td>\n      <td>2015-01-03</td>\n      <td>2015</td>\n    </tr>\n    <tr>\n      <td>3</td>\n      <td>2015-01-02</td>\n      <td>2015</td>\n    </tr>\n    <tr>\n      <td>4</td>\n      <td>2014-12-31</td>\n      <td>2014</td>\n    </tr>\n  </tbody>\n</table>\n</div>"
     },
     "metadata": {},
     "execution_count": 21
    }
   ],
   "source": [
    "data_revised[\"Year\"] = data_revised[\"Date\"].dt.year # note that the Date column in the data_revised variable is a datetime object \n",
    "data_revised[[\"Date\",\"Year\"]].head()"
   ]
  },
  {
   "cell_type": "code",
   "execution_count": 22,
   "metadata": {},
   "outputs": [
    {
     "output_type": "execute_result",
     "data": {
      "text/plain": "   Year  Month  Day\n0  2015      1    5\n1  2015      1    4\n2  2015      1    3\n3  2015      1    2\n4  2014     12   31",
      "text/html": "<div>\n<style scoped>\n    .dataframe tbody tr th:only-of-type {\n        vertical-align: middle;\n    }\n\n    .dataframe tbody tr th {\n        vertical-align: top;\n    }\n\n    .dataframe thead th {\n        text-align: right;\n    }\n</style>\n<table border=\"1\" class=\"dataframe\">\n  <thead>\n    <tr style=\"text-align: right;\">\n      <th></th>\n      <th>Year</th>\n      <th>Month</th>\n      <th>Day</th>\n    </tr>\n  </thead>\n  <tbody>\n    <tr>\n      <td>0</td>\n      <td>2015</td>\n      <td>1</td>\n      <td>5</td>\n    </tr>\n    <tr>\n      <td>1</td>\n      <td>2015</td>\n      <td>1</td>\n      <td>4</td>\n    </tr>\n    <tr>\n      <td>2</td>\n      <td>2015</td>\n      <td>1</td>\n      <td>3</td>\n    </tr>\n    <tr>\n      <td>3</td>\n      <td>2015</td>\n      <td>1</td>\n      <td>2</td>\n    </tr>\n    <tr>\n      <td>4</td>\n      <td>2014</td>\n      <td>12</td>\n      <td>31</td>\n    </tr>\n  </tbody>\n</table>\n</div>"
     },
     "metadata": {},
     "execution_count": 22
    }
   ],
   "source": [
    "data_revised[\"Month\"], data_revised[\"Day\"] = data_revised[\"Date\"].dt.month, data_revised[\"Date\"].dt.day\n",
    "data_revised[[\"Year\",\"Month\",\"Day\"]].head()"
   ]
  },
  {
   "cell_type": "markdown",
   "metadata": {},
   "source": [
    "# Date Calculations and Timedeltas"
   ]
  },
  {
   "cell_type": "code",
   "execution_count": 23,
   "metadata": {
    "tags": []
   },
   "outputs": [
    {
     "output_type": "stream",
     "name": "stdout",
     "text": "2014-03-22 00:00:00\n"
    }
   ],
   "source": [
    "# to obtain the first day of the outbreak, i.e. the earliest day of the outbreak, we need to get the minimum date value\n",
    "\n",
    "outbreak = data_revised[\"Date\"].min()\n",
    "print(outbreak)"
   ]
  },
  {
   "cell_type": "code",
   "execution_count": 24,
   "metadata": {},
   "outputs": [
    {
     "output_type": "execute_result",
     "data": {
      "text/plain": "pandas._libs.tslibs.timestamps.Timestamp"
     },
     "metadata": {},
     "execution_count": 24
    }
   ],
   "source": [
    "type(outbreak)"
   ]
  },
  {
   "cell_type": "code",
   "execution_count": 25,
   "metadata": {},
   "outputs": [],
   "source": [
    "data_revised[\"days_since_outbreak\"] = data_revised[\"Date\"] - outbreak"
   ]
  },
  {
   "cell_type": "code",
   "execution_count": 26,
   "metadata": {
    "tags": []
   },
   "outputs": [
    {
     "output_type": "stream",
     "name": "stdout",
     "text": "<class 'pandas.core.frame.DataFrame'>\nRangeIndex: 122 entries, 0 to 121\nData columns (total 21 columns):\nDate                   122 non-null datetime64[ns]\nDay                    122 non-null int64\nCases_Guinea           93 non-null float64\nCases_Liberia          83 non-null float64\nCases_SierraLeone      87 non-null float64\nCases_Nigeria          38 non-null float64\nCases_Senegal          25 non-null float64\nCases_UnitedStates     18 non-null float64\nCases_Spain            16 non-null float64\nCases_Mali             12 non-null float64\nDeaths_Guinea          92 non-null float64\nDeaths_Liberia         81 non-null float64\nDeaths_SierraLeone     87 non-null float64\nDeaths_Nigeria         38 non-null float64\nDeaths_Senegal         22 non-null float64\nDeaths_UnitedStates    18 non-null float64\nDeaths_Spain           16 non-null float64\nDeaths_Mali            17 non-null float64\nYear                   122 non-null int64\nMonth                  122 non-null int64\ndays_since_outbreak    122 non-null timedelta64[ns]\ndtypes: datetime64[ns](1), float64(16), int64(3), timedelta64[ns](1)\nmemory usage: 20.1 KB\n"
    }
   ],
   "source": [
    "data_revised.info() # notice that the column \"days_since_outbreak\" is a timedelta object\n",
    "# note that whenever perform calculation on a datetime object, we return a timedelta object\n"
   ]
  },
  {
   "cell_type": "code",
   "execution_count": 27,
   "metadata": {},
   "outputs": [
    {
     "output_type": "execute_result",
     "data": {
      "text/plain": "          Date  Day  Cases_Guinea  Cases_Liberia  Cases_SierraLeone  \\\n117 2014-03-27   27         103.0            8.0                6.0   \n118 2014-03-26   26          86.0            NaN                NaN   \n119 2014-03-25   25          86.0            NaN                NaN   \n120 2014-03-24   24          86.0            NaN                NaN   \n121 2014-03-22   22          49.0            NaN                NaN   \n\n     Cases_Nigeria  Cases_Senegal  Cases_UnitedStates  Cases_Spain  \\\n117            NaN            NaN                 NaN          NaN   \n118            NaN            NaN                 NaN          NaN   \n119            NaN            NaN                 NaN          NaN   \n120            NaN            NaN                 NaN          NaN   \n121            NaN            NaN                 NaN          NaN   \n\n     Cases_Mali  ...  Deaths_Liberia  Deaths_SierraLeone  Deaths_Nigeria  \\\n117         NaN  ...             6.0                 5.0             NaN   \n118         NaN  ...             NaN                 NaN             NaN   \n119         NaN  ...             NaN                 NaN             NaN   \n120         NaN  ...             NaN                 NaN             NaN   \n121         NaN  ...             NaN                 NaN             NaN   \n\n     Deaths_Senegal  Deaths_UnitedStates  Deaths_Spain  Deaths_Mali  Year  \\\n117             NaN                  NaN           NaN          NaN  2014   \n118             NaN                  NaN           NaN          NaN  2014   \n119             NaN                  NaN           NaN          NaN  2014   \n120             NaN                  NaN           NaN          NaN  2014   \n121             NaN                  NaN           NaN          NaN  2014   \n\n     Month  days_since_outbreak  \n117      3               5 days  \n118      3               4 days  \n119      3               3 days  \n120      3               2 days  \n121      3               0 days  \n\n[5 rows x 21 columns]",
      "text/html": "<div>\n<style scoped>\n    .dataframe tbody tr th:only-of-type {\n        vertical-align: middle;\n    }\n\n    .dataframe tbody tr th {\n        vertical-align: top;\n    }\n\n    .dataframe thead th {\n        text-align: right;\n    }\n</style>\n<table border=\"1\" class=\"dataframe\">\n  <thead>\n    <tr style=\"text-align: right;\">\n      <th></th>\n      <th>Date</th>\n      <th>Day</th>\n      <th>Cases_Guinea</th>\n      <th>Cases_Liberia</th>\n      <th>Cases_SierraLeone</th>\n      <th>Cases_Nigeria</th>\n      <th>Cases_Senegal</th>\n      <th>Cases_UnitedStates</th>\n      <th>Cases_Spain</th>\n      <th>Cases_Mali</th>\n      <th>...</th>\n      <th>Deaths_Liberia</th>\n      <th>Deaths_SierraLeone</th>\n      <th>Deaths_Nigeria</th>\n      <th>Deaths_Senegal</th>\n      <th>Deaths_UnitedStates</th>\n      <th>Deaths_Spain</th>\n      <th>Deaths_Mali</th>\n      <th>Year</th>\n      <th>Month</th>\n      <th>days_since_outbreak</th>\n    </tr>\n  </thead>\n  <tbody>\n    <tr>\n      <td>117</td>\n      <td>2014-03-27</td>\n      <td>27</td>\n      <td>103.0</td>\n      <td>8.0</td>\n      <td>6.0</td>\n      <td>NaN</td>\n      <td>NaN</td>\n      <td>NaN</td>\n      <td>NaN</td>\n      <td>NaN</td>\n      <td>...</td>\n      <td>6.0</td>\n      <td>5.0</td>\n      <td>NaN</td>\n      <td>NaN</td>\n      <td>NaN</td>\n      <td>NaN</td>\n      <td>NaN</td>\n      <td>2014</td>\n      <td>3</td>\n      <td>5 days</td>\n    </tr>\n    <tr>\n      <td>118</td>\n      <td>2014-03-26</td>\n      <td>26</td>\n      <td>86.0</td>\n      <td>NaN</td>\n      <td>NaN</td>\n      <td>NaN</td>\n      <td>NaN</td>\n      <td>NaN</td>\n      <td>NaN</td>\n      <td>NaN</td>\n      <td>...</td>\n      <td>NaN</td>\n      <td>NaN</td>\n      <td>NaN</td>\n      <td>NaN</td>\n      <td>NaN</td>\n      <td>NaN</td>\n      <td>NaN</td>\n      <td>2014</td>\n      <td>3</td>\n      <td>4 days</td>\n    </tr>\n    <tr>\n      <td>119</td>\n      <td>2014-03-25</td>\n      <td>25</td>\n      <td>86.0</td>\n      <td>NaN</td>\n      <td>NaN</td>\n      <td>NaN</td>\n      <td>NaN</td>\n      <td>NaN</td>\n      <td>NaN</td>\n      <td>NaN</td>\n      <td>...</td>\n      <td>NaN</td>\n      <td>NaN</td>\n      <td>NaN</td>\n      <td>NaN</td>\n      <td>NaN</td>\n      <td>NaN</td>\n      <td>NaN</td>\n      <td>2014</td>\n      <td>3</td>\n      <td>3 days</td>\n    </tr>\n    <tr>\n      <td>120</td>\n      <td>2014-03-24</td>\n      <td>24</td>\n      <td>86.0</td>\n      <td>NaN</td>\n      <td>NaN</td>\n      <td>NaN</td>\n      <td>NaN</td>\n      <td>NaN</td>\n      <td>NaN</td>\n      <td>NaN</td>\n      <td>...</td>\n      <td>NaN</td>\n      <td>NaN</td>\n      <td>NaN</td>\n      <td>NaN</td>\n      <td>NaN</td>\n      <td>NaN</td>\n      <td>NaN</td>\n      <td>2014</td>\n      <td>3</td>\n      <td>2 days</td>\n    </tr>\n    <tr>\n      <td>121</td>\n      <td>2014-03-22</td>\n      <td>22</td>\n      <td>49.0</td>\n      <td>NaN</td>\n      <td>NaN</td>\n      <td>NaN</td>\n      <td>NaN</td>\n      <td>NaN</td>\n      <td>NaN</td>\n      <td>NaN</td>\n      <td>...</td>\n      <td>NaN</td>\n      <td>NaN</td>\n      <td>NaN</td>\n      <td>NaN</td>\n      <td>NaN</td>\n      <td>NaN</td>\n      <td>NaN</td>\n      <td>2014</td>\n      <td>3</td>\n      <td>0 days</td>\n    </tr>\n  </tbody>\n</table>\n<p>5 rows × 21 columns</p>\n</div>"
     },
     "metadata": {},
     "execution_count": 27
    }
   ],
   "source": [
    "data_revised.tail()"
   ]
  },
  {
   "cell_type": "markdown",
   "metadata": {},
   "source": [
    "# Datetime Methods "
   ]
  },
  {
   "cell_type": "code",
   "execution_count": 28,
   "metadata": {},
   "outputs": [],
   "source": [
    "banks = pd.read_csv(r\"C:\\Users\\tanzh\\Documents\\Python\\Pandas for Everyone\\datasets\\banklist.csv\", parse_dates= [5,6])\n",
    "# note that we are parsing the date column at column index value of 5 and 6"
   ]
  },
  {
   "cell_type": "code",
   "execution_count": 29,
   "metadata": {},
   "outputs": [
    {
     "output_type": "execute_result",
     "data": {
      "text/plain": "Index(['Bank Name', 'City', 'ST', 'CERT', 'Acquiring Institution',\n       'Closing Date', 'Updated Date'],\n      dtype='object')"
     },
     "metadata": {},
     "execution_count": 29
    }
   ],
   "source": [
    "banks.columns"
   ]
  },
  {
   "cell_type": "code",
   "execution_count": 30,
   "metadata": {
    "tags": []
   },
   "outputs": [
    {
     "output_type": "stream",
     "name": "stdout",
     "text": "<class 'pandas.core.frame.DataFrame'>\nRangeIndex: 553 entries, 0 to 552\nData columns (total 7 columns):\nBank Name                553 non-null object\nCity                     553 non-null object\nST                       553 non-null object\nCERT                     553 non-null int64\nAcquiring Institution    553 non-null object\nClosing Date             553 non-null datetime64[ns]\nUpdated Date             553 non-null datetime64[ns]\ndtypes: datetime64[ns](2), int64(1), object(4)\nmemory usage: 30.4+ KB\n"
    }
   ],
   "source": [
    "banks.info()"
   ]
  },
  {
   "cell_type": "code",
   "execution_count": 31,
   "metadata": {},
   "outputs": [],
   "source": [
    "banks[\"close_year\"], banks[\"close_quarter\"], banks[\"close_month\"] = banks[\"Closing Date\"].dt.year, banks[\"Closing Date\"].dt.quarter, banks[\"Closing Date\"].dt.month "
   ]
  },
  {
   "cell_type": "code",
   "execution_count": 32,
   "metadata": {},
   "outputs": [],
   "source": [
    "close_year_report = banks.groupby([\"close_year\"]).size() # size method simply the count the number of row items \n",
    "close_year_report_quarter = banks.groupby([\"close_year\",\"close_quarter\"]).size()"
   ]
  },
  {
   "cell_type": "code",
   "execution_count": 33,
   "metadata": {
    "tags": []
   },
   "outputs": [
    {
     "output_type": "stream",
     "name": "stdout",
     "text": "close_year\n2000      2\n2001      4\n2002     11\n2003      3\n2004      4\n2007      3\n2008     25\n2009    140\n2010    157\n2011     92\n2012     51\n2013     24\n2014     18\n2015      8\n2016      5\n2017      6\ndtype: int64\n"
    }
   ],
   "source": [
    "print(close_year_report)"
   ]
  },
  {
   "cell_type": "code",
   "execution_count": 34,
   "metadata": {
    "tags": []
   },
   "outputs": [
    {
     "output_type": "stream",
     "name": "stdout",
     "text": "close_year  close_quarter\n2000        4                 2\n2001        1                 1\n            2                 1\n            3                 2\n2002        1                 6\n            2                 2\n            3                 1\n            4                 2\n2003        1                 1\n            2                 1\n            4                 1\n2004        1                 3\n            2                 1\n2007        1                 1\n            3                 1\n            4                 1\n2008        1                 2\n            2                 2\n            3                 9\n            4                12\n2009        1                21\n            2                24\n            3                50\n            4                45\n2010        1                41\n            2                45\n            3                41\n            4                30\n2011        1                26\n            2                22\n            3                26\n            4                18\n2012        1                16\n            2                15\n            3                12\n            4                 8\n2013        1                 4\n            2                12\n            3                 6\n            4                 2\n2014        1                 5\n            2                 7\n            3                 2\n            4                 4\n2015        1                 4\n            2                 1\n            3                 1\n            4                 2\n2016        1                 1\n            2                 2\n            3                 2\n2017        1                 3\n            2                 3\ndtype: int64\n"
    }
   ],
   "source": [
    "print(close_year_report_quarter)"
   ]
  },
  {
   "cell_type": "code",
   "execution_count": 35,
   "metadata": {},
   "outputs": [
    {
     "output_type": "display_data",
     "data": {
      "text/plain": "<Figure size 640x480 with 1 Axes>"
     },
     "metadata": {}
    },
    {
     "output_type": "display_data",
     "data": {
      "text/plain": "<Figure size 640x480 with 1 Axes>"
     },
     "metadata": {}
    }
   ],
   "source": [
    "import matplotlib.pyplot as plt \n",
    "\n",
    "fig, ax = plt.subplots()\n",
    "ax = close_year_report.plot()\n",
    "plt.show()\n",
    "\n",
    "fig, ax = plt.subplots()\n",
    "ax = close_year_report_quarter.plot()\n",
    "plt.show()"
   ]
  },
  {
   "cell_type": "markdown",
   "metadata": {},
   "source": [
    "# Getting stock data"
   ]
  },
  {
   "cell_type": "code",
   "execution_count": 36,
   "metadata": {},
   "outputs": [
    {
     "output_type": "execute_result",
     "data": {
      "text/plain": "        Date       Open   High        Low      Close  Adj Close    Volume\n0 2010-06-29  19.000000  25.00  17.540001  23.889999  23.889999  18766300\n1 2010-06-30  25.790001  30.42  23.299999  23.830000  23.830000  17187100\n2 2010-07-01  25.000000  25.92  20.270000  21.959999  21.959999   8218800\n3 2010-07-02  23.000000  23.10  18.709999  19.200001  19.200001   5139800\n4 2010-07-06  20.000000  20.00  15.830000  16.110001  16.110001   6866900",
      "text/html": "<div>\n<style scoped>\n    .dataframe tbody tr th:only-of-type {\n        vertical-align: middle;\n    }\n\n    .dataframe tbody tr th {\n        vertical-align: top;\n    }\n\n    .dataframe thead th {\n        text-align: right;\n    }\n</style>\n<table border=\"1\" class=\"dataframe\">\n  <thead>\n    <tr style=\"text-align: right;\">\n      <th></th>\n      <th>Date</th>\n      <th>Open</th>\n      <th>High</th>\n      <th>Low</th>\n      <th>Close</th>\n      <th>Adj Close</th>\n      <th>Volume</th>\n    </tr>\n  </thead>\n  <tbody>\n    <tr>\n      <td>0</td>\n      <td>2010-06-29</td>\n      <td>19.000000</td>\n      <td>25.00</td>\n      <td>17.540001</td>\n      <td>23.889999</td>\n      <td>23.889999</td>\n      <td>18766300</td>\n    </tr>\n    <tr>\n      <td>1</td>\n      <td>2010-06-30</td>\n      <td>25.790001</td>\n      <td>30.42</td>\n      <td>23.299999</td>\n      <td>23.830000</td>\n      <td>23.830000</td>\n      <td>17187100</td>\n    </tr>\n    <tr>\n      <td>2</td>\n      <td>2010-07-01</td>\n      <td>25.000000</td>\n      <td>25.92</td>\n      <td>20.270000</td>\n      <td>21.959999</td>\n      <td>21.959999</td>\n      <td>8218800</td>\n    </tr>\n    <tr>\n      <td>3</td>\n      <td>2010-07-02</td>\n      <td>23.000000</td>\n      <td>23.10</td>\n      <td>18.709999</td>\n      <td>19.200001</td>\n      <td>19.200001</td>\n      <td>5139800</td>\n    </tr>\n    <tr>\n      <td>4</td>\n      <td>2010-07-06</td>\n      <td>20.000000</td>\n      <td>20.00</td>\n      <td>15.830000</td>\n      <td>16.110001</td>\n      <td>16.110001</td>\n      <td>6866900</td>\n    </tr>\n  </tbody>\n</table>\n</div>"
     },
     "metadata": {},
     "execution_count": 36
    }
   ],
   "source": [
    "tesla = pd.read_csv(r\"C:\\Users\\tanzh\\Documents\\Python\\Pandas for Everyone\\datasets\\tesla_stock_yahoo.csv\", parse_dates= [0])\n",
    "tesla.head()\n"
   ]
  },
  {
   "cell_type": "code",
   "execution_count": 37,
   "metadata": {
    "tags": []
   },
   "outputs": [
    {
     "output_type": "stream",
     "name": "stdout",
     "text": "<class 'pandas.core.frame.DataFrame'>\nRangeIndex: 1791 entries, 0 to 1790\nData columns (total 7 columns):\nDate         1791 non-null datetime64[ns]\nOpen         1791 non-null float64\nHigh         1791 non-null float64\nLow          1791 non-null float64\nClose        1791 non-null float64\nAdj Close    1791 non-null float64\nVolume       1791 non-null int64\ndtypes: datetime64[ns](1), float64(5), int64(1)\nmemory usage: 98.1 KB\n"
    }
   ],
   "source": [
    "tesla.info()"
   ]
  },
  {
   "cell_type": "code",
   "execution_count": 38,
   "metadata": {},
   "outputs": [
    {
     "output_type": "execute_result",
     "data": {
      "text/plain": "              Open         High          Low        Close    Adj Close  \\\ncount  1791.000000  1791.000000  1791.000000  1791.000000  1791.000000   \nmean    143.053222   145.496315   140.449425   143.039464   143.039464   \nstd     101.898965   103.311576   100.320158   101.886058   101.886058   \nmin      16.139999    16.629999    14.980000    15.800000    15.800000   \n25%      30.564999    31.355000    29.730001    30.660000    30.660000   \n50%     176.160004   180.470001   171.199997   177.110001   177.110001   \n75%     227.209999   230.794999   222.860001   226.940002   226.940002   \nmax     386.690002   386.989990   379.350006   383.450012   383.450012   \n\n             Volume  \ncount  1.791000e+03  \nmean   4.448296e+06  \nstd    4.308184e+06  \nmin    1.185000e+05  \n25%    1.261750e+06  \n50%    3.427400e+06  \n75%    5.974700e+06  \nmax    3.716390e+07  ",
      "text/html": "<div>\n<style scoped>\n    .dataframe tbody tr th:only-of-type {\n        vertical-align: middle;\n    }\n\n    .dataframe tbody tr th {\n        vertical-align: top;\n    }\n\n    .dataframe thead th {\n        text-align: right;\n    }\n</style>\n<table border=\"1\" class=\"dataframe\">\n  <thead>\n    <tr style=\"text-align: right;\">\n      <th></th>\n      <th>Open</th>\n      <th>High</th>\n      <th>Low</th>\n      <th>Close</th>\n      <th>Adj Close</th>\n      <th>Volume</th>\n    </tr>\n  </thead>\n  <tbody>\n    <tr>\n      <td>count</td>\n      <td>1791.000000</td>\n      <td>1791.000000</td>\n      <td>1791.000000</td>\n      <td>1791.000000</td>\n      <td>1791.000000</td>\n      <td>1.791000e+03</td>\n    </tr>\n    <tr>\n      <td>mean</td>\n      <td>143.053222</td>\n      <td>145.496315</td>\n      <td>140.449425</td>\n      <td>143.039464</td>\n      <td>143.039464</td>\n      <td>4.448296e+06</td>\n    </tr>\n    <tr>\n      <td>std</td>\n      <td>101.898965</td>\n      <td>103.311576</td>\n      <td>100.320158</td>\n      <td>101.886058</td>\n      <td>101.886058</td>\n      <td>4.308184e+06</td>\n    </tr>\n    <tr>\n      <td>min</td>\n      <td>16.139999</td>\n      <td>16.629999</td>\n      <td>14.980000</td>\n      <td>15.800000</td>\n      <td>15.800000</td>\n      <td>1.185000e+05</td>\n    </tr>\n    <tr>\n      <td>25%</td>\n      <td>30.564999</td>\n      <td>31.355000</td>\n      <td>29.730001</td>\n      <td>30.660000</td>\n      <td>30.660000</td>\n      <td>1.261750e+06</td>\n    </tr>\n    <tr>\n      <td>50%</td>\n      <td>176.160004</td>\n      <td>180.470001</td>\n      <td>171.199997</td>\n      <td>177.110001</td>\n      <td>177.110001</td>\n      <td>3.427400e+06</td>\n    </tr>\n    <tr>\n      <td>75%</td>\n      <td>227.209999</td>\n      <td>230.794999</td>\n      <td>222.860001</td>\n      <td>226.940002</td>\n      <td>226.940002</td>\n      <td>5.974700e+06</td>\n    </tr>\n    <tr>\n      <td>max</td>\n      <td>386.690002</td>\n      <td>386.989990</td>\n      <td>379.350006</td>\n      <td>383.450012</td>\n      <td>383.450012</td>\n      <td>3.716390e+07</td>\n    </tr>\n  </tbody>\n</table>\n</div>"
     },
     "metadata": {},
     "execution_count": 38
    }
   ],
   "source": [
    "tesla.describe()"
   ]
  },
  {
   "cell_type": "code",
   "execution_count": 39,
   "metadata": {},
   "outputs": [
    {
     "output_type": "execute_result",
     "data": {
      "text/plain": "Index(['Date', 'Open', 'High', 'Low', 'Close', 'Adj Close', 'Volume'], dtype='object')"
     },
     "metadata": {},
     "execution_count": 39
    }
   ],
   "source": [
    "tesla.columns"
   ]
  },
  {
   "cell_type": "code",
   "execution_count": 40,
   "metadata": {},
   "outputs": [
    {
     "output_type": "execute_result",
     "data": {
      "text/plain": "        Date       Open   High        Low      Close  Adj Close    Volume\n0 2010-06-29  19.000000  25.00  17.540001  23.889999  23.889999  18766300\n1 2010-06-30  25.790001  30.42  23.299999  23.830000  23.830000  17187100",
      "text/html": "<div>\n<style scoped>\n    .dataframe tbody tr th:only-of-type {\n        vertical-align: middle;\n    }\n\n    .dataframe tbody tr th {\n        vertical-align: top;\n    }\n\n    .dataframe thead th {\n        text-align: right;\n    }\n</style>\n<table border=\"1\" class=\"dataframe\">\n  <thead>\n    <tr style=\"text-align: right;\">\n      <th></th>\n      <th>Date</th>\n      <th>Open</th>\n      <th>High</th>\n      <th>Low</th>\n      <th>Close</th>\n      <th>Adj Close</th>\n      <th>Volume</th>\n    </tr>\n  </thead>\n  <tbody>\n    <tr>\n      <td>0</td>\n      <td>2010-06-29</td>\n      <td>19.000000</td>\n      <td>25.00</td>\n      <td>17.540001</td>\n      <td>23.889999</td>\n      <td>23.889999</td>\n      <td>18766300</td>\n    </tr>\n    <tr>\n      <td>1</td>\n      <td>2010-06-30</td>\n      <td>25.790001</td>\n      <td>30.42</td>\n      <td>23.299999</td>\n      <td>23.830000</td>\n      <td>23.830000</td>\n      <td>17187100</td>\n    </tr>\n  </tbody>\n</table>\n</div>"
     },
     "metadata": {},
     "execution_count": 40
    }
   ],
   "source": [
    "# if we need data from June 2010, we can : \n",
    "\n",
    "tesla_june2010 = tesla.loc[(tesla.Date.dt.year == 2010) & (tesla.Date.dt.month == 6)]\n",
    "tesla_june2010.head()"
   ]
  },
  {
   "cell_type": "markdown",
   "metadata": {},
   "source": [
    "# Datetimeindex Object"
   ]
  },
  {
   "cell_type": "code",
   "execution_count": 41,
   "metadata": {
    "tags": []
   },
   "outputs": [
    {
     "output_type": "stream",
     "name": "stdout",
     "text": "DatetimeIndex(['2010-06-29', '2010-06-30', '2010-07-01', '2010-07-02',\n               '2010-07-06', '2010-07-07', '2010-07-08', '2010-07-09',\n               '2010-07-12', '2010-07-13',\n               ...\n               '2017-07-26', '2017-07-27', '2017-07-28', '2017-07-31',\n               '2017-08-01', '2017-08-02', '2017-08-03', '2017-08-04',\n               '2017-08-07', '2017-08-08'],\n              dtype='datetime64[ns]', name='Date', length=1791, freq=None)\n"
    }
   ],
   "source": [
    "# in Pandas, by default, the row number is the row index\n",
    "tesla.index = tesla[\"Date\"] # here we assign the row index to the Date column\n",
    "print(tesla.index)"
   ]
  },
  {
   "cell_type": "code",
   "execution_count": 42,
   "metadata": {},
   "outputs": [],
   "source": [
    "# with the index set as a date object, the index is now a datetimeindex\n",
    "# with the index set as the datetimeindex object, we can use the date directly to subset the row data"
   ]
  },
  {
   "cell_type": "code",
   "execution_count": 43,
   "metadata": {
    "tags": []
   },
   "outputs": [
    {
     "output_type": "stream",
     "name": "stdout",
     "text": "Date        Open    High         Low       Close   Adj Close  \\\nDate                                                                            \n2015-01-02 2015-01-02  222.869995  223.25  213.259995  219.309998  219.309998   \n2015-01-05 2015-01-05  214.550003  216.50  207.160004  210.089996  210.089996   \n\n             Volume  \nDate                 \n2015-01-02  4764400  \n2015-01-05  5368500  \n"
    }
   ],
   "source": [
    "print(tesla[\"2015\"].head(2))\n",
    "# if the date is not set to the index, tesla[\"2015\"] will generate an error"
   ]
  },
  {
   "cell_type": "code",
   "execution_count": 44,
   "metadata": {},
   "outputs": [
    {
     "output_type": "execute_result",
     "data": {
      "text/plain": "array([2010, 2011, 2012, 2013, 2014, 2015, 2016, 2017], dtype=int64)"
     },
     "metadata": {},
     "execution_count": 44
    }
   ],
   "source": [
    "tesla.Date.dt.year.unique()"
   ]
  },
  {
   "cell_type": "code",
   "execution_count": 45,
   "metadata": {},
   "outputs": [
    {
     "output_type": "execute_result",
     "data": {
      "text/plain": "                 Date       Open   High        Low      Close\nDate                                                         \n2010-06-29 2010-06-29  19.000000  25.00  17.540001  23.889999\n2010-06-30 2010-06-30  25.790001  30.42  23.299999  23.830000",
      "text/html": "<div>\n<style scoped>\n    .dataframe tbody tr th:only-of-type {\n        vertical-align: middle;\n    }\n\n    .dataframe tbody tr th {\n        vertical-align: top;\n    }\n\n    .dataframe thead th {\n        text-align: right;\n    }\n</style>\n<table border=\"1\" class=\"dataframe\">\n  <thead>\n    <tr style=\"text-align: right;\">\n      <th></th>\n      <th>Date</th>\n      <th>Open</th>\n      <th>High</th>\n      <th>Low</th>\n      <th>Close</th>\n    </tr>\n    <tr>\n      <th>Date</th>\n      <th></th>\n      <th></th>\n      <th></th>\n      <th></th>\n      <th></th>\n    </tr>\n  </thead>\n  <tbody>\n    <tr>\n      <td>2010-06-29</td>\n      <td>2010-06-29</td>\n      <td>19.000000</td>\n      <td>25.00</td>\n      <td>17.540001</td>\n      <td>23.889999</td>\n    </tr>\n    <tr>\n      <td>2010-06-30</td>\n      <td>2010-06-30</td>\n      <td>25.790001</td>\n      <td>30.42</td>\n      <td>23.299999</td>\n      <td>23.830000</td>\n    </tr>\n  </tbody>\n</table>\n</div>"
     },
     "metadata": {},
     "execution_count": 45
    }
   ],
   "source": [
    "tesla[\"2010-06\"].iloc[:,:5]"
   ]
  },
  {
   "cell_type": "markdown",
   "metadata": {},
   "source": [
    "# Timedeltaindex object"
   ]
  },
  {
   "cell_type": "code",
   "execution_count": 46,
   "metadata": {
    "tags": []
   },
   "outputs": [
    {
     "output_type": "stream",
     "name": "stdout",
     "text": "Date\n2010-06-29   0 days\n2010-06-30   1 days\n2010-07-01   2 days\n2010-07-02   3 days\n2010-07-06   7 days\nName: ref_date, dtype: timedelta64[ns]\n"
    }
   ],
   "source": [
    "# similar to how we use a datetime object to create a datetimeindex, we can use timedelta object to create a timedeltaindex\n",
    "\n",
    "tesla[\"ref_date\"] = tesla[\"Date\"] - tesla[\"Date\"].min() # this minus the date column with the min (earliest) value of the date column\n",
    "print(tesla[\"ref_date\"].head())\n",
    "tesla.index = tesla[\"ref_date\"]"
   ]
  },
  {
   "cell_type": "code",
   "execution_count": 47,
   "metadata": {
    "tags": []
   },
   "outputs": [
    {
     "output_type": "stream",
     "name": "stdout",
     "text": "Date       Open   High        Low      Close  Adj Close  \\\nref_date                                                                 \n0 days   2010-06-29  19.000000  25.00  17.540001  23.889999  23.889999   \n1 days   2010-06-30  25.790001  30.42  23.299999  23.830000  23.830000   \n2 days   2010-07-01  25.000000  25.92  20.270000  21.959999  21.959999   \n3 days   2010-07-02  23.000000  23.10  18.709999  19.200001  19.200001   \n7 days   2010-07-06  20.000000  20.00  15.830000  16.110001  16.110001   \n\n            Volume ref_date  \nref_date                     \n0 days    18766300   0 days  \n1 days    17187100   1 days  \n2 days     8218800   2 days  \n3 days     5139800   3 days  \n7 days     6866900   7 days  \n"
    }
   ],
   "source": [
    "print(tesla.head(5)) # the index column will alway be on the extreme left of the DataFrame object"
   ]
  },
  {
   "cell_type": "markdown",
   "metadata": {},
   "source": [
    "# Date Range "
   ]
  },
  {
   "cell_type": "code",
   "execution_count": 48,
   "metadata": {},
   "outputs": [],
   "source": [
    "# Not every dataset will have a fixed frequency of value\n",
    "# in the data_revised variable which contain the ebola dataset, we do not have an observations for every day in the date range \n",
    "# for example, 2015-01-01 and 2014-03-23 is missing from the dataset\n",
    "# it is common practise to create a date range to reindex a dataset, we can leverage on date_range function for this purpose "
   ]
  },
  {
   "cell_type": "code",
   "execution_count": 49,
   "metadata": {
    "tags": []
   },
   "outputs": [
    {
     "output_type": "stream",
     "name": "stdout",
     "text": "DatetimeIndex(['2014-12-31', '2015-01-01', '2015-01-02', '2015-01-03',\n               '2015-01-04', '2015-01-05'],\n              dtype='datetime64[ns]', freq='D')\n"
    }
   ],
   "source": [
    "# first, lets create a date range for specific range. for example the head range\n",
    "\n",
    "head_range = pd.date_range(start=\"2014-12-31\", end=\"2015-01-05\")\n",
    "print(head_range)"
   ]
  },
  {
   "cell_type": "code",
   "execution_count": 50,
   "metadata": {},
   "outputs": [],
   "source": [
    "data_revised_5 = data_revised.head(5) # we will work with the first 5 rows of the data "
   ]
  },
  {
   "cell_type": "code",
   "execution_count": 51,
   "metadata": {},
   "outputs": [],
   "source": [
    "# second, we set the original Date column as the index \n",
    "data_revised_5.index = data_revised_5[\"Date\"]"
   ]
  },
  {
   "cell_type": "code",
   "execution_count": 52,
   "metadata": {},
   "outputs": [
    {
     "output_type": "execute_result",
     "data": {
      "text/plain": "                 Date   Day  Cases_Guinea  Cases_Liberia  Cases_SierraLeone  \\\n2014-12-31 2014-12-31  31.0        2730.0         8115.0             9633.0   \n2015-01-01        NaT   NaN           NaN            NaN                NaN   \n2015-01-02 2015-01-02   2.0           NaN         8157.0                NaN   \n2015-01-03 2015-01-03   3.0        2769.0         8166.0             9722.0   \n2015-01-04 2015-01-04   4.0        2775.0            NaN             9780.0   \n2015-01-05 2015-01-05   5.0        2776.0            NaN            10030.0   \n\n            Cases_Nigeria  Cases_Senegal  Cases_UnitedStates  Cases_Spain  \\\n2014-12-31            NaN            NaN                 NaN          NaN   \n2015-01-01            NaN            NaN                 NaN          NaN   \n2015-01-02            NaN            NaN                 NaN          NaN   \n2015-01-03            NaN            NaN                 NaN          NaN   \n2015-01-04            NaN            NaN                 NaN          NaN   \n2015-01-05            NaN            NaN                 NaN          NaN   \n\n            Cases_Mali  ...  Deaths_Liberia  Deaths_SierraLeone  \\\n2014-12-31         NaN  ...          3471.0              2827.0   \n2015-01-01         NaN  ...             NaN                 NaN   \n2015-01-02         NaN  ...          3496.0                 NaN   \n2015-01-03         NaN  ...          3496.0              2915.0   \n2015-01-04         NaN  ...             NaN              2943.0   \n2015-01-05         NaN  ...             NaN              2977.0   \n\n            Deaths_Nigeria  Deaths_Senegal  Deaths_UnitedStates  Deaths_Spain  \\\n2014-12-31             NaN             NaN                  NaN           NaN   \n2015-01-01             NaN             NaN                  NaN           NaN   \n2015-01-02             NaN             NaN                  NaN           NaN   \n2015-01-03             NaN             NaN                  NaN           NaN   \n2015-01-04             NaN             NaN                  NaN           NaN   \n2015-01-05             NaN             NaN                  NaN           NaN   \n\n            Deaths_Mali    Year  Month  days_since_outbreak  \n2014-12-31          0.0  2014.0   12.0             284 days  \n2015-01-01          NaN     NaN    NaN                  NaT  \n2015-01-02          0.0  2015.0    1.0             286 days  \n2015-01-03          0.0  2015.0    1.0             287 days  \n2015-01-04          0.0  2015.0    1.0             288 days  \n2015-01-05          0.0  2015.0    1.0             289 days  \n\n[6 rows x 21 columns]",
      "text/html": "<div>\n<style scoped>\n    .dataframe tbody tr th:only-of-type {\n        vertical-align: middle;\n    }\n\n    .dataframe tbody tr th {\n        vertical-align: top;\n    }\n\n    .dataframe thead th {\n        text-align: right;\n    }\n</style>\n<table border=\"1\" class=\"dataframe\">\n  <thead>\n    <tr style=\"text-align: right;\">\n      <th></th>\n      <th>Date</th>\n      <th>Day</th>\n      <th>Cases_Guinea</th>\n      <th>Cases_Liberia</th>\n      <th>Cases_SierraLeone</th>\n      <th>Cases_Nigeria</th>\n      <th>Cases_Senegal</th>\n      <th>Cases_UnitedStates</th>\n      <th>Cases_Spain</th>\n      <th>Cases_Mali</th>\n      <th>...</th>\n      <th>Deaths_Liberia</th>\n      <th>Deaths_SierraLeone</th>\n      <th>Deaths_Nigeria</th>\n      <th>Deaths_Senegal</th>\n      <th>Deaths_UnitedStates</th>\n      <th>Deaths_Spain</th>\n      <th>Deaths_Mali</th>\n      <th>Year</th>\n      <th>Month</th>\n      <th>days_since_outbreak</th>\n    </tr>\n  </thead>\n  <tbody>\n    <tr>\n      <td>2014-12-31</td>\n      <td>2014-12-31</td>\n      <td>31.0</td>\n      <td>2730.0</td>\n      <td>8115.0</td>\n      <td>9633.0</td>\n      <td>NaN</td>\n      <td>NaN</td>\n      <td>NaN</td>\n      <td>NaN</td>\n      <td>NaN</td>\n      <td>...</td>\n      <td>3471.0</td>\n      <td>2827.0</td>\n      <td>NaN</td>\n      <td>NaN</td>\n      <td>NaN</td>\n      <td>NaN</td>\n      <td>0.0</td>\n      <td>2014.0</td>\n      <td>12.0</td>\n      <td>284 days</td>\n    </tr>\n    <tr>\n      <td>2015-01-01</td>\n      <td>NaT</td>\n      <td>NaN</td>\n      <td>NaN</td>\n      <td>NaN</td>\n      <td>NaN</td>\n      <td>NaN</td>\n      <td>NaN</td>\n      <td>NaN</td>\n      <td>NaN</td>\n      <td>NaN</td>\n      <td>...</td>\n      <td>NaN</td>\n      <td>NaN</td>\n      <td>NaN</td>\n      <td>NaN</td>\n      <td>NaN</td>\n      <td>NaN</td>\n      <td>NaN</td>\n      <td>NaN</td>\n      <td>NaN</td>\n      <td>NaT</td>\n    </tr>\n    <tr>\n      <td>2015-01-02</td>\n      <td>2015-01-02</td>\n      <td>2.0</td>\n      <td>NaN</td>\n      <td>8157.0</td>\n      <td>NaN</td>\n      <td>NaN</td>\n      <td>NaN</td>\n      <td>NaN</td>\n      <td>NaN</td>\n      <td>NaN</td>\n      <td>...</td>\n      <td>3496.0</td>\n      <td>NaN</td>\n      <td>NaN</td>\n      <td>NaN</td>\n      <td>NaN</td>\n      <td>NaN</td>\n      <td>0.0</td>\n      <td>2015.0</td>\n      <td>1.0</td>\n      <td>286 days</td>\n    </tr>\n    <tr>\n      <td>2015-01-03</td>\n      <td>2015-01-03</td>\n      <td>3.0</td>\n      <td>2769.0</td>\n      <td>8166.0</td>\n      <td>9722.0</td>\n      <td>NaN</td>\n      <td>NaN</td>\n      <td>NaN</td>\n      <td>NaN</td>\n      <td>NaN</td>\n      <td>...</td>\n      <td>3496.0</td>\n      <td>2915.0</td>\n      <td>NaN</td>\n      <td>NaN</td>\n      <td>NaN</td>\n      <td>NaN</td>\n      <td>0.0</td>\n      <td>2015.0</td>\n      <td>1.0</td>\n      <td>287 days</td>\n    </tr>\n    <tr>\n      <td>2015-01-04</td>\n      <td>2015-01-04</td>\n      <td>4.0</td>\n      <td>2775.0</td>\n      <td>NaN</td>\n      <td>9780.0</td>\n      <td>NaN</td>\n      <td>NaN</td>\n      <td>NaN</td>\n      <td>NaN</td>\n      <td>NaN</td>\n      <td>...</td>\n      <td>NaN</td>\n      <td>2943.0</td>\n      <td>NaN</td>\n      <td>NaN</td>\n      <td>NaN</td>\n      <td>NaN</td>\n      <td>0.0</td>\n      <td>2015.0</td>\n      <td>1.0</td>\n      <td>288 days</td>\n    </tr>\n    <tr>\n      <td>2015-01-05</td>\n      <td>2015-01-05</td>\n      <td>5.0</td>\n      <td>2776.0</td>\n      <td>NaN</td>\n      <td>10030.0</td>\n      <td>NaN</td>\n      <td>NaN</td>\n      <td>NaN</td>\n      <td>NaN</td>\n      <td>NaN</td>\n      <td>...</td>\n      <td>NaN</td>\n      <td>2977.0</td>\n      <td>NaN</td>\n      <td>NaN</td>\n      <td>NaN</td>\n      <td>NaN</td>\n      <td>0.0</td>\n      <td>2015.0</td>\n      <td>1.0</td>\n      <td>289 days</td>\n    </tr>\n  </tbody>\n</table>\n<p>6 rows × 21 columns</p>\n</div>"
     },
     "metadata": {},
     "execution_count": 52
    }
   ],
   "source": [
    "# third, we reindex our data \n",
    "data_revised_5.reindex(head_range)"
   ]
  },
  {
   "cell_type": "code",
   "execution_count": 53,
   "metadata": {
    "tags": []
   },
   "outputs": [
    {
     "output_type": "stream",
     "name": "stdout",
     "text": "Date  Day  Cases_Guinea  Cases_Liberia  Cases_SierraLeone\nDate                                                                      \n2015-01-05 2015-01-05    5        2776.0            NaN            10030.0\n2015-01-04 2015-01-04    4        2775.0            NaN             9780.0\n2015-01-03 2015-01-03    3        2769.0         8166.0             9722.0\n2015-01-02 2015-01-02    2           NaN         8157.0                NaN\n2014-12-31 2014-12-31   31        2730.0         8115.0             9633.0\n"
    }
   ],
   "source": [
    "print(data_revised_5.iloc[:,:5])"
   ]
  },
  {
   "cell_type": "markdown",
   "metadata": {},
   "source": [
    "# Frequencies "
   ]
  },
  {
   "cell_type": "code",
   "execution_count": 54,
   "metadata": {},
   "outputs": [
    {
     "output_type": "execute_result",
     "data": {
      "text/plain": "DatetimeIndex(['2017-01-02', '2017-01-03', '2017-01-04', '2017-01-05',\n               '2017-01-06'],\n              dtype='datetime64[ns]', freq='B')"
     },
     "metadata": {},
     "execution_count": 54
    }
   ],
   "source": [
    "# When we created our head_range, the print statement included a parameter called freq\n",
    "# in the above example, freq was \"D\" which stands for \"day\"\n",
    "# that is the values in our date range were stepped through using a day-by-day increment \n",
    "\n",
    "pd.date_range(start=\"2017-01-01\", end=\"2017-01-07\", freq = \"B\" ) # note that 2017-01-01 was a Sunday\n",
    "# refer to page 229 for the list of frequencies "
   ]
  },
  {
   "cell_type": "code",
   "execution_count": 57,
   "metadata": {},
   "outputs": [
    {
     "output_type": "execute_result",
     "data": {
      "text/plain": "DatetimeIndex(['2020-01-01', '2020-02-01', '2020-03-01', '2020-04-01',\n               '2020-05-01'],\n              dtype='datetime64[ns]', freq='MS')"
     },
     "metadata": {},
     "execution_count": 57
    }
   ],
   "source": [
    "pd.date_range(start=\"2020-01-01\", periods=5, freq=\"MS\")"
   ]
  },
  {
   "cell_type": "markdown",
   "metadata": {},
   "source": [
    "# Shifting Values"
   ]
  },
  {
   "cell_type": "code",
   "execution_count": 62,
   "metadata": {},
   "outputs": [],
   "source": [
    "import matplotlib.pyplot as plt\n",
    "data.index = data[\"Date\"]"
   ]
  },
  {
   "cell_type": "code",
   "execution_count": 65,
   "metadata": {},
   "outputs": [
    {
     "output_type": "error",
     "ename": "TypeError",
     "evalue": "unhashable type: 'numpy.ndarray'",
     "traceback": [
      "\u001b[1;31m---------------------------------------------------------------------------\u001b[0m",
      "\u001b[1;31mTypeError\u001b[0m                                 Traceback (most recent call last)",
      "\u001b[1;32m<ipython-input-65-727d88478626>\u001b[0m in \u001b[0;36m<module>\u001b[1;34m\u001b[0m\n\u001b[1;32m----> 1\u001b[1;33m \u001b[0mplt\u001b[0m\u001b[1;33m.\u001b[0m\u001b[0mplot\u001b[0m\u001b[1;33m(\u001b[0m\u001b[0mdata\u001b[0m\u001b[1;33m)\u001b[0m\u001b[1;33m\u001b[0m\u001b[1;33m\u001b[0m\u001b[0m\n\u001b[0m",
      "\u001b[1;32m~\\Anaconda3\\lib\\site-packages\\matplotlib\\pyplot.py\u001b[0m in \u001b[0;36mplot\u001b[1;34m(scalex, scaley, data, *args, **kwargs)\u001b[0m\n\u001b[0;32m   2793\u001b[0m     return gca().plot(\n\u001b[0;32m   2794\u001b[0m         *args, scalex=scalex, scaley=scaley, **({\"data\": data} if data\n\u001b[1;32m-> 2795\u001b[1;33m         is not None else {}), **kwargs)\n\u001b[0m\u001b[0;32m   2796\u001b[0m \u001b[1;33m\u001b[0m\u001b[0m\n\u001b[0;32m   2797\u001b[0m \u001b[1;33m\u001b[0m\u001b[0m\n",
      "\u001b[1;32m~\\Anaconda3\\lib\\site-packages\\matplotlib\\axes\\_axes.py\u001b[0m in \u001b[0;36mplot\u001b[1;34m(self, scalex, scaley, data, *args, **kwargs)\u001b[0m\n\u001b[0;32m   1664\u001b[0m         \"\"\"\n\u001b[0;32m   1665\u001b[0m         \u001b[0mkwargs\u001b[0m \u001b[1;33m=\u001b[0m \u001b[0mcbook\u001b[0m\u001b[1;33m.\u001b[0m\u001b[0mnormalize_kwargs\u001b[0m\u001b[1;33m(\u001b[0m\u001b[0mkwargs\u001b[0m\u001b[1;33m,\u001b[0m \u001b[0mmlines\u001b[0m\u001b[1;33m.\u001b[0m\u001b[0mLine2D\u001b[0m\u001b[1;33m.\u001b[0m\u001b[0m_alias_map\u001b[0m\u001b[1;33m)\u001b[0m\u001b[1;33m\u001b[0m\u001b[1;33m\u001b[0m\u001b[0m\n\u001b[1;32m-> 1666\u001b[1;33m         \u001b[0mlines\u001b[0m \u001b[1;33m=\u001b[0m \u001b[1;33m[\u001b[0m\u001b[1;33m*\u001b[0m\u001b[0mself\u001b[0m\u001b[1;33m.\u001b[0m\u001b[0m_get_lines\u001b[0m\u001b[1;33m(\u001b[0m\u001b[1;33m*\u001b[0m\u001b[0margs\u001b[0m\u001b[1;33m,\u001b[0m \u001b[0mdata\u001b[0m\u001b[1;33m=\u001b[0m\u001b[0mdata\u001b[0m\u001b[1;33m,\u001b[0m \u001b[1;33m**\u001b[0m\u001b[0mkwargs\u001b[0m\u001b[1;33m)\u001b[0m\u001b[1;33m]\u001b[0m\u001b[1;33m\u001b[0m\u001b[1;33m\u001b[0m\u001b[0m\n\u001b[0m\u001b[0;32m   1667\u001b[0m         \u001b[1;32mfor\u001b[0m \u001b[0mline\u001b[0m \u001b[1;32min\u001b[0m \u001b[0mlines\u001b[0m\u001b[1;33m:\u001b[0m\u001b[1;33m\u001b[0m\u001b[1;33m\u001b[0m\u001b[0m\n\u001b[0;32m   1668\u001b[0m             \u001b[0mself\u001b[0m\u001b[1;33m.\u001b[0m\u001b[0madd_line\u001b[0m\u001b[1;33m(\u001b[0m\u001b[0mline\u001b[0m\u001b[1;33m)\u001b[0m\u001b[1;33m\u001b[0m\u001b[1;33m\u001b[0m\u001b[0m\n",
      "\u001b[1;32m~\\Anaconda3\\lib\\site-packages\\matplotlib\\axes\\_base.py\u001b[0m in \u001b[0;36m__call__\u001b[1;34m(self, *args, **kwargs)\u001b[0m\n\u001b[0;32m    223\u001b[0m                 \u001b[0mthis\u001b[0m \u001b[1;33m+=\u001b[0m \u001b[0margs\u001b[0m\u001b[1;33m[\u001b[0m\u001b[1;36m0\u001b[0m\u001b[1;33m]\u001b[0m\u001b[1;33m,\u001b[0m\u001b[1;33m\u001b[0m\u001b[1;33m\u001b[0m\u001b[0m\n\u001b[0;32m    224\u001b[0m                 \u001b[0margs\u001b[0m \u001b[1;33m=\u001b[0m \u001b[0margs\u001b[0m\u001b[1;33m[\u001b[0m\u001b[1;36m1\u001b[0m\u001b[1;33m:\u001b[0m\u001b[1;33m]\u001b[0m\u001b[1;33m\u001b[0m\u001b[1;33m\u001b[0m\u001b[0m\n\u001b[1;32m--> 225\u001b[1;33m             \u001b[1;32myield\u001b[0m \u001b[1;32mfrom\u001b[0m \u001b[0mself\u001b[0m\u001b[1;33m.\u001b[0m\u001b[0m_plot_args\u001b[0m\u001b[1;33m(\u001b[0m\u001b[0mthis\u001b[0m\u001b[1;33m,\u001b[0m \u001b[0mkwargs\u001b[0m\u001b[1;33m)\u001b[0m\u001b[1;33m\u001b[0m\u001b[1;33m\u001b[0m\u001b[0m\n\u001b[0m\u001b[0;32m    226\u001b[0m \u001b[1;33m\u001b[0m\u001b[0m\n\u001b[0;32m    227\u001b[0m     \u001b[1;32mdef\u001b[0m \u001b[0mget_next_color\u001b[0m\u001b[1;33m(\u001b[0m\u001b[0mself\u001b[0m\u001b[1;33m)\u001b[0m\u001b[1;33m:\u001b[0m\u001b[1;33m\u001b[0m\u001b[1;33m\u001b[0m\u001b[0m\n",
      "\u001b[1;32m~\\Anaconda3\\lib\\site-packages\\matplotlib\\axes\\_base.py\u001b[0m in \u001b[0;36m_plot_args\u001b[1;34m(self, tup, kwargs)\u001b[0m\n\u001b[0;32m    389\u001b[0m             \u001b[0mx\u001b[0m\u001b[1;33m,\u001b[0m \u001b[0my\u001b[0m \u001b[1;33m=\u001b[0m \u001b[0mindex_of\u001b[0m\u001b[1;33m(\u001b[0m\u001b[0mtup\u001b[0m\u001b[1;33m[\u001b[0m\u001b[1;33m-\u001b[0m\u001b[1;36m1\u001b[0m\u001b[1;33m]\u001b[0m\u001b[1;33m)\u001b[0m\u001b[1;33m\u001b[0m\u001b[1;33m\u001b[0m\u001b[0m\n\u001b[0;32m    390\u001b[0m \u001b[1;33m\u001b[0m\u001b[0m\n\u001b[1;32m--> 391\u001b[1;33m         \u001b[0mx\u001b[0m\u001b[1;33m,\u001b[0m \u001b[0my\u001b[0m \u001b[1;33m=\u001b[0m \u001b[0mself\u001b[0m\u001b[1;33m.\u001b[0m\u001b[0m_xy_from_xy\u001b[0m\u001b[1;33m(\u001b[0m\u001b[0mx\u001b[0m\u001b[1;33m,\u001b[0m \u001b[0my\u001b[0m\u001b[1;33m)\u001b[0m\u001b[1;33m\u001b[0m\u001b[1;33m\u001b[0m\u001b[0m\n\u001b[0m\u001b[0;32m    392\u001b[0m \u001b[1;33m\u001b[0m\u001b[0m\n\u001b[0;32m    393\u001b[0m         \u001b[1;32mif\u001b[0m \u001b[0mself\u001b[0m\u001b[1;33m.\u001b[0m\u001b[0mcommand\u001b[0m \u001b[1;33m==\u001b[0m \u001b[1;34m'plot'\u001b[0m\u001b[1;33m:\u001b[0m\u001b[1;33m\u001b[0m\u001b[1;33m\u001b[0m\u001b[0m\n",
      "\u001b[1;32m~\\Anaconda3\\lib\\site-packages\\matplotlib\\axes\\_base.py\u001b[0m in \u001b[0;36m_xy_from_xy\u001b[1;34m(self, x, y)\u001b[0m\n\u001b[0;32m    242\u001b[0m         \u001b[1;32mif\u001b[0m \u001b[0mself\u001b[0m\u001b[1;33m.\u001b[0m\u001b[0maxes\u001b[0m\u001b[1;33m.\u001b[0m\u001b[0mxaxis\u001b[0m \u001b[1;32mis\u001b[0m \u001b[1;32mnot\u001b[0m \u001b[1;32mNone\u001b[0m \u001b[1;32mand\u001b[0m \u001b[0mself\u001b[0m\u001b[1;33m.\u001b[0m\u001b[0maxes\u001b[0m\u001b[1;33m.\u001b[0m\u001b[0myaxis\u001b[0m \u001b[1;32mis\u001b[0m \u001b[1;32mnot\u001b[0m \u001b[1;32mNone\u001b[0m\u001b[1;33m:\u001b[0m\u001b[1;33m\u001b[0m\u001b[1;33m\u001b[0m\u001b[0m\n\u001b[0;32m    243\u001b[0m             \u001b[0mbx\u001b[0m \u001b[1;33m=\u001b[0m \u001b[0mself\u001b[0m\u001b[1;33m.\u001b[0m\u001b[0maxes\u001b[0m\u001b[1;33m.\u001b[0m\u001b[0mxaxis\u001b[0m\u001b[1;33m.\u001b[0m\u001b[0mupdate_units\u001b[0m\u001b[1;33m(\u001b[0m\u001b[0mx\u001b[0m\u001b[1;33m)\u001b[0m\u001b[1;33m\u001b[0m\u001b[1;33m\u001b[0m\u001b[0m\n\u001b[1;32m--> 244\u001b[1;33m             \u001b[0mby\u001b[0m \u001b[1;33m=\u001b[0m \u001b[0mself\u001b[0m\u001b[1;33m.\u001b[0m\u001b[0maxes\u001b[0m\u001b[1;33m.\u001b[0m\u001b[0myaxis\u001b[0m\u001b[1;33m.\u001b[0m\u001b[0mupdate_units\u001b[0m\u001b[1;33m(\u001b[0m\u001b[0my\u001b[0m\u001b[1;33m)\u001b[0m\u001b[1;33m\u001b[0m\u001b[1;33m\u001b[0m\u001b[0m\n\u001b[0m\u001b[0;32m    245\u001b[0m \u001b[1;33m\u001b[0m\u001b[0m\n\u001b[0;32m    246\u001b[0m             \u001b[1;32mif\u001b[0m \u001b[0mself\u001b[0m\u001b[1;33m.\u001b[0m\u001b[0mcommand\u001b[0m \u001b[1;33m!=\u001b[0m \u001b[1;34m'plot'\u001b[0m\u001b[1;33m:\u001b[0m\u001b[1;33m\u001b[0m\u001b[1;33m\u001b[0m\u001b[0m\n",
      "\u001b[1;32m~\\Anaconda3\\lib\\site-packages\\matplotlib\\axis.py\u001b[0m in \u001b[0;36mupdate_units\u001b[1;34m(self, data)\u001b[0m\n\u001b[0;32m   1491\u001b[0m         \u001b[0mneednew\u001b[0m \u001b[1;33m=\u001b[0m \u001b[0mself\u001b[0m\u001b[1;33m.\u001b[0m\u001b[0mconverter\u001b[0m \u001b[1;33m!=\u001b[0m \u001b[0mconverter\u001b[0m\u001b[1;33m\u001b[0m\u001b[1;33m\u001b[0m\u001b[0m\n\u001b[0;32m   1492\u001b[0m         \u001b[0mself\u001b[0m\u001b[1;33m.\u001b[0m\u001b[0mconverter\u001b[0m \u001b[1;33m=\u001b[0m \u001b[0mconverter\u001b[0m\u001b[1;33m\u001b[0m\u001b[1;33m\u001b[0m\u001b[0m\n\u001b[1;32m-> 1493\u001b[1;33m         \u001b[0mdefault\u001b[0m \u001b[1;33m=\u001b[0m \u001b[0mself\u001b[0m\u001b[1;33m.\u001b[0m\u001b[0mconverter\u001b[0m\u001b[1;33m.\u001b[0m\u001b[0mdefault_units\u001b[0m\u001b[1;33m(\u001b[0m\u001b[0mdata\u001b[0m\u001b[1;33m,\u001b[0m \u001b[0mself\u001b[0m\u001b[1;33m)\u001b[0m\u001b[1;33m\u001b[0m\u001b[1;33m\u001b[0m\u001b[0m\n\u001b[0m\u001b[0;32m   1494\u001b[0m         \u001b[1;32mif\u001b[0m \u001b[0mdefault\u001b[0m \u001b[1;32mis\u001b[0m \u001b[1;32mnot\u001b[0m \u001b[1;32mNone\u001b[0m \u001b[1;32mand\u001b[0m \u001b[0mself\u001b[0m\u001b[1;33m.\u001b[0m\u001b[0munits\u001b[0m \u001b[1;32mis\u001b[0m \u001b[1;32mNone\u001b[0m\u001b[1;33m:\u001b[0m\u001b[1;33m\u001b[0m\u001b[1;33m\u001b[0m\u001b[0m\n\u001b[0;32m   1495\u001b[0m             \u001b[0mself\u001b[0m\u001b[1;33m.\u001b[0m\u001b[0mset_units\u001b[0m\u001b[1;33m(\u001b[0m\u001b[0mdefault\u001b[0m\u001b[1;33m)\u001b[0m\u001b[1;33m\u001b[0m\u001b[1;33m\u001b[0m\u001b[0m\n",
      "\u001b[1;32m~\\Anaconda3\\lib\\site-packages\\matplotlib\\category.py\u001b[0m in \u001b[0;36mdefault_units\u001b[1;34m(data, axis)\u001b[0m\n\u001b[0;32m    113\u001b[0m         \u001b[1;31m# default_units->axis_info->convert\u001b[0m\u001b[1;33m\u001b[0m\u001b[1;33m\u001b[0m\u001b[1;33m\u001b[0m\u001b[0m\n\u001b[0;32m    114\u001b[0m         \u001b[1;32mif\u001b[0m \u001b[0maxis\u001b[0m\u001b[1;33m.\u001b[0m\u001b[0munits\u001b[0m \u001b[1;32mis\u001b[0m \u001b[1;32mNone\u001b[0m\u001b[1;33m:\u001b[0m\u001b[1;33m\u001b[0m\u001b[1;33m\u001b[0m\u001b[0m\n\u001b[1;32m--> 115\u001b[1;33m             \u001b[0maxis\u001b[0m\u001b[1;33m.\u001b[0m\u001b[0mset_units\u001b[0m\u001b[1;33m(\u001b[0m\u001b[0mUnitData\u001b[0m\u001b[1;33m(\u001b[0m\u001b[0mdata\u001b[0m\u001b[1;33m)\u001b[0m\u001b[1;33m)\u001b[0m\u001b[1;33m\u001b[0m\u001b[1;33m\u001b[0m\u001b[0m\n\u001b[0m\u001b[0;32m    116\u001b[0m         \u001b[1;32melse\u001b[0m\u001b[1;33m:\u001b[0m\u001b[1;33m\u001b[0m\u001b[1;33m\u001b[0m\u001b[0m\n\u001b[0;32m    117\u001b[0m             \u001b[0maxis\u001b[0m\u001b[1;33m.\u001b[0m\u001b[0munits\u001b[0m\u001b[1;33m.\u001b[0m\u001b[0mupdate\u001b[0m\u001b[1;33m(\u001b[0m\u001b[0mdata\u001b[0m\u001b[1;33m)\u001b[0m\u001b[1;33m\u001b[0m\u001b[1;33m\u001b[0m\u001b[0m\n",
      "\u001b[1;32m~\\Anaconda3\\lib\\site-packages\\matplotlib\\category.py\u001b[0m in \u001b[0;36m__init__\u001b[1;34m(self, data)\u001b[0m\n\u001b[0;32m    179\u001b[0m         \u001b[0mself\u001b[0m\u001b[1;33m.\u001b[0m\u001b[0m_counter\u001b[0m \u001b[1;33m=\u001b[0m \u001b[0mitertools\u001b[0m\u001b[1;33m.\u001b[0m\u001b[0mcount\u001b[0m\u001b[1;33m(\u001b[0m\u001b[1;33m)\u001b[0m\u001b[1;33m\u001b[0m\u001b[1;33m\u001b[0m\u001b[0m\n\u001b[0;32m    180\u001b[0m         \u001b[1;32mif\u001b[0m \u001b[0mdata\u001b[0m \u001b[1;32mis\u001b[0m \u001b[1;32mnot\u001b[0m \u001b[1;32mNone\u001b[0m\u001b[1;33m:\u001b[0m\u001b[1;33m\u001b[0m\u001b[1;33m\u001b[0m\u001b[0m\n\u001b[1;32m--> 181\u001b[1;33m             \u001b[0mself\u001b[0m\u001b[1;33m.\u001b[0m\u001b[0mupdate\u001b[0m\u001b[1;33m(\u001b[0m\u001b[0mdata\u001b[0m\u001b[1;33m)\u001b[0m\u001b[1;33m\u001b[0m\u001b[1;33m\u001b[0m\u001b[0m\n\u001b[0m\u001b[0;32m    182\u001b[0m \u001b[1;33m\u001b[0m\u001b[0m\n\u001b[0;32m    183\u001b[0m     \u001b[1;33m@\u001b[0m\u001b[0mstaticmethod\u001b[0m\u001b[1;33m\u001b[0m\u001b[1;33m\u001b[0m\u001b[0m\n",
      "\u001b[1;32m~\\Anaconda3\\lib\\site-packages\\matplotlib\\category.py\u001b[0m in \u001b[0;36mupdate\u001b[1;34m(self, data)\u001b[0m\n\u001b[0;32m    213\u001b[0m         \u001b[1;31m# check if convertible to number:\u001b[0m\u001b[1;33m\u001b[0m\u001b[1;33m\u001b[0m\u001b[1;33m\u001b[0m\u001b[0m\n\u001b[0;32m    214\u001b[0m         \u001b[0mconvertible\u001b[0m \u001b[1;33m=\u001b[0m \u001b[1;32mTrue\u001b[0m\u001b[1;33m\u001b[0m\u001b[1;33m\u001b[0m\u001b[0m\n\u001b[1;32m--> 215\u001b[1;33m         \u001b[1;32mfor\u001b[0m \u001b[0mval\u001b[0m \u001b[1;32min\u001b[0m \u001b[0mOrderedDict\u001b[0m\u001b[1;33m.\u001b[0m\u001b[0mfromkeys\u001b[0m\u001b[1;33m(\u001b[0m\u001b[0mdata\u001b[0m\u001b[1;33m)\u001b[0m\u001b[1;33m:\u001b[0m\u001b[1;33m\u001b[0m\u001b[1;33m\u001b[0m\u001b[0m\n\u001b[0m\u001b[0;32m    216\u001b[0m             \u001b[1;31m# OrderedDict just iterates over unique values in data.\u001b[0m\u001b[1;33m\u001b[0m\u001b[1;33m\u001b[0m\u001b[1;33m\u001b[0m\u001b[0m\n\u001b[0;32m    217\u001b[0m             \u001b[1;32mif\u001b[0m \u001b[1;32mnot\u001b[0m \u001b[0misinstance\u001b[0m\u001b[1;33m(\u001b[0m\u001b[0mval\u001b[0m\u001b[1;33m,\u001b[0m \u001b[1;33m(\u001b[0m\u001b[0mstr\u001b[0m\u001b[1;33m,\u001b[0m \u001b[0mbytes\u001b[0m\u001b[1;33m)\u001b[0m\u001b[1;33m)\u001b[0m\u001b[1;33m:\u001b[0m\u001b[1;33m\u001b[0m\u001b[1;33m\u001b[0m\u001b[0m\n",
      "\u001b[1;31mTypeError\u001b[0m: unhashable type: 'numpy.ndarray'"
     ]
    }
   ],
   "source": [
    "plt.plot(data)"
   ]
  },
  {
   "cell_type": "code",
   "execution_count": null,
   "metadata": {},
   "outputs": [],
   "source": []
  },
  {
   "cell_type": "code",
   "execution_count": null,
   "metadata": {},
   "outputs": [],
   "source": []
  },
  {
   "cell_type": "code",
   "execution_count": null,
   "metadata": {},
   "outputs": [],
   "source": []
  },
  {
   "cell_type": "code",
   "execution_count": null,
   "metadata": {},
   "outputs": [],
   "source": []
  },
  {
   "cell_type": "code",
   "execution_count": null,
   "metadata": {},
   "outputs": [],
   "source": []
  },
  {
   "cell_type": "code",
   "execution_count": null,
   "metadata": {},
   "outputs": [],
   "source": []
  },
  {
   "cell_type": "code",
   "execution_count": null,
   "metadata": {},
   "outputs": [],
   "source": []
  },
  {
   "cell_type": "code",
   "execution_count": null,
   "metadata": {},
   "outputs": [],
   "source": []
  },
  {
   "cell_type": "code",
   "execution_count": null,
   "metadata": {},
   "outputs": [],
   "source": []
  },
  {
   "cell_type": "code",
   "execution_count": null,
   "metadata": {},
   "outputs": [],
   "source": []
  },
  {
   "cell_type": "code",
   "execution_count": null,
   "metadata": {},
   "outputs": [],
   "source": []
  },
  {
   "cell_type": "code",
   "execution_count": null,
   "metadata": {},
   "outputs": [],
   "source": []
  },
  {
   "cell_type": "code",
   "execution_count": null,
   "metadata": {},
   "outputs": [],
   "source": []
  },
  {
   "cell_type": "code",
   "execution_count": null,
   "metadata": {},
   "outputs": [],
   "source": []
  },
  {
   "cell_type": "code",
   "execution_count": null,
   "metadata": {},
   "outputs": [],
   "source": []
  }
 ],
 "metadata": {
  "language_info": {
   "name": "python",
   "codemirror_mode": {
    "name": "ipython",
    "version": 3
   },
   "version": "3.7.4-final"
  },
  "orig_nbformat": 2,
  "file_extension": ".py",
  "mimetype": "text/x-python",
  "name": "python",
  "npconvert_exporter": "python",
  "pygments_lexer": "ipython3",
  "version": 3,
  "kernelspec": {
   "name": "python37464bitbaseconda6db2893f0e1b4b6ea66d23044bec9473",
   "display_name": "Python 3.7.4 64-bit ('base': conda)"
  }
 },
 "nbformat": 4,
 "nbformat_minor": 2
}