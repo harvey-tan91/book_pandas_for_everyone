{
 "cells": [
  {
   "cell_type": "code",
   "execution_count": 49,
   "metadata": {},
   "outputs": [],
   "source": [
    "# groupby operation rely on a concept called \"split-apply-combine\"\n",
    "# the \"split-apply-combine\" concept is also used heavily in \"big data\" systems that uses distributed computing "
   ]
  },
  {
   "cell_type": "markdown",
   "metadata": {},
   "source": [
    "# Basic one-variable grouped aggregation"
   ]
  },
  {
   "cell_type": "code",
   "execution_count": 1,
   "metadata": {},
   "outputs": [],
   "source": [
    "import pandas as pd\n",
    "import numpy as np\n",
    "data = pd.read_excel(r\"C:\\Users\\tanzh\\Documents\\Python\\Pandas for Everyone\\datasets\\gapminder.xlsx\")"
   ]
  },
  {
   "cell_type": "code",
   "execution_count": 51,
   "metadata": {},
   "outputs": [],
   "source": [
    "avg_life_exp_by_year = data.groupby(\"year\").lifeExp.mean()\n",
    "\n",
    "# this group the data by year and display the average life expectancy by year\n",
    "#1 the groupby statement can be though of creating a subset of each unique value of a column / unique pairs from columns"
   ]
  },
  {
   "cell_type": "code",
   "execution_count": 52,
   "metadata": {},
   "outputs": [
    {
     "name": "stdout",
     "output_type": "stream",
     "text": "year\n1952    49.057620\n1957    51.507401\n1962    53.609249\n1967    55.678290\n1972    57.647386\n1977    59.570157\n1982    61.533197\n1987    63.212613\n1992    64.160338\n1997    65.014676\n2002    65.694923\n2007    67.007423\nName: lifeExp, dtype: float64\n"
    }
   ],
   "source": [
    "print(avg_life_exp_by_year)"
   ]
  },
  {
   "cell_type": "code",
   "execution_count": 53,
   "metadata": {},
   "outputs": [
    {
     "data": {
      "text/plain": "array([1952, 1957, 1962, 1967, 1972, 1977, 1982, 1987, 1992, 1997, 2002,\n       2007], dtype=int64)"
     },
     "execution_count": 53,
     "metadata": {},
     "output_type": "execute_result"
    }
   ],
   "source": [
    "# ths below allow us to extract the unqiue values in the defined columns \n",
    "data.year.unique()"
   ]
  },
  {
   "cell_type": "code",
   "execution_count": 54,
   "metadata": {},
   "outputs": [
    {
     "name": "stdout",
     "output_type": "stream",
     "text": "country continent  year  lifeExp       pop    gdpPercap\n0            Afghanistan      Asia  1952   28.801   8425333   779.445314\n12               Albania    Europe  1952   55.230   1282697  1601.056136\n24               Algeria    Africa  1952   43.077   9279525  2449.008185\n36                Angola    Africa  1952   30.015   4232095  3520.610273\n48             Argentina  Americas  1952   62.485  17876956  5911.315053\n...                  ...       ...   ...      ...       ...          ...\n1644             Vietnam      Asia  1952   40.412  26246839   605.066492\n1656  West Bank and Gaza      Asia  1952   43.160   1030585  1515.592329\n1668         Yemen, Rep.      Asia  1952   32.548   4963829   781.717576\n1680              Zambia    Africa  1952   42.038   2672000  1147.388831\n1692            Zimbabwe    Africa  1952   48.451   3080907   406.884115\n\n[142 rows x 6 columns]\n"
    }
   ],
   "source": [
    "# we can create a subset of data as follows : \n",
    "y1952 = data.loc[data.year == 1952, :]\n",
    "\n",
    " # this create a dataframe where the entries only contain rows from where year == 1952\n",
    "print(y1952)"
   ]
  },
  {
   "cell_type": "code",
   "execution_count": 55,
   "metadata": {},
   "outputs": [
    {
     "name": "stdout",
     "output_type": "stream",
     "text": "49.05761971830987\n"
    }
   ],
   "source": [
    "# the average life expectancy can be calculated as follows : \n",
    "print(y1952.lifeExp.mean())\n",
    "\n",
    "# the groupby statement esstentially repeat the above process for every year column and return all the results in a single dataframe"
   ]
  },
  {
   "cell_type": "markdown",
   "metadata": {},
   "source": [
    "# Built-in Aggregation Method"
   ]
  },
  {
   "cell_type": "code",
   "execution_count": 2,
   "metadata": {},
   "outputs": [
    {
     "output_type": "stream",
     "name": "stdout",
     "text": "continent  count       mean        std     min       25%      50%       75%  \\\n0    Africa  624.0  48.865330   9.150210  23.599  42.37250  47.7920  54.41150   \n1  Americas  300.0  64.658737   9.345088  37.579  58.41000  67.0480  71.69950   \n2      Asia  396.0  60.064903  11.864532  28.801  51.42625  61.7915  69.50525   \n3    Europe  360.0  71.903686   5.433178  43.585  69.57000  72.2410  75.45050   \n4   Oceania   24.0  74.326208   3.795611  69.120  71.20500  73.6650  77.55250   \n\n      max  \n0  76.442  \n1  80.653  \n2  82.603  \n3  81.757  \n4  81.235  \n"
    }
   ],
   "source": [
    "# describe is a built-in aggregation method\n",
    "\n",
    "continent_lifeexp_describe = data.groupby(\"continent\").lifeExp.describe().reset_index()\n",
    "print(continent_lifeexp_describe)"
   ]
  },
  {
   "cell_type": "markdown",
   "metadata": {},
   "source": [
    "# Aggregation Functions"
   ]
  },
  {
   "cell_type": "code",
   "execution_count": 57,
   "metadata": {},
   "outputs": [
    {
     "name": "stdout",
     "output_type": "stream",
     "text": "continent\nAfrica      48.865330\nAmericas    64.658737\nAsia        60.064903\nEurope      71.903686\nOceania     74.326208\nName: lifeExp, dtype: float64\n"
    }
   ],
   "source": [
    "# For aggregation method that are not listed in the Pandas method, you can call the agg/aggregate method and pass the aggregation function you want in there\n",
    "# for example : \n",
    "contin_agg = data.groupby(\"continent\").lifeExp.aggregate(np.mean)\n",
    "print(contin_agg)\n",
    "\n",
    "# note that agg and aggregate do the same thing"
   ]
  },
  {
   "cell_type": "markdown",
   "metadata": {},
   "source": [
    "# Custom User Functions "
   ]
  },
  {
   "cell_type": "code",
   "execution_count": 58,
   "metadata": {},
   "outputs": [],
   "source": [
    "# To perform calculation that is not provided by Pandas or another library, we can write our own function\n",
    "# the example below show a custom defined function for calcuating the mean"
   ]
  },
  {
   "cell_type": "code",
   "execution_count": 59,
   "metadata": {},
   "outputs": [],
   "source": [
    "def mean(values) : \n",
    "    return sum(values) / len(values)"
   ]
  },
  {
   "cell_type": "code",
   "execution_count": 60,
   "metadata": {},
   "outputs": [],
   "source": [
    "agg_my_mean = data.groupby(\"year\").lifeExp.agg(mean)"
   ]
  },
  {
   "cell_type": "code",
   "execution_count": 61,
   "metadata": {},
   "outputs": [
    {
     "name": "stdout",
     "output_type": "stream",
     "text": "year\n1952    49.057620\n1957    51.507401\n1962    53.609249\n1967    55.678290\n1972    57.647386\n1977    59.570157\n1982    61.533197\n1987    63.212613\n1992    64.160338\n1997    65.014676\n2002    65.694923\n2007    67.007423\nName: lifeExp, dtype: float64\n"
    }
   ],
   "source": [
    "print(agg_my_mean)"
   ]
  },
  {
   "cell_type": "code",
   "execution_count": 62,
   "metadata": {},
   "outputs": [],
   "source": [
    "# we can write functions that take multiple parameters so long as the first parameters take the series of the values from the dataframe, you can pass the other agruements as keywords into agg\n",
    "# the below , we calculate the global average life expectancy and subtract it from each grouped values "
   ]
  },
  {
   "cell_type": "code",
   "execution_count": 63,
   "metadata": {},
   "outputs": [],
   "source": [
    "def mean_diff(values, diff_values): \n",
    "    mean = sum(values) / len(values)\n",
    "    return (mean - diff_values)"
   ]
  },
  {
   "cell_type": "code",
   "execution_count": 64,
   "metadata": {},
   "outputs": [],
   "source": [
    "global_mean = data.lifeExp.mean()"
   ]
  },
  {
   "cell_type": "code",
   "execution_count": 65,
   "metadata": {},
   "outputs": [
    {
     "name": "stdout",
     "output_type": "stream",
     "text": "year\n1952   -10.416820\n1957    -7.967038\n1962    -5.865190\n1967    -3.796150\n1972    -1.827053\n1977     0.095718\n1982     2.058758\n1987     3.738173\n1992     4.685899\n1997     5.540237\n2002     6.220483\n2007     7.532983\nName: lifeExp, dtype: float64\n"
    }
   ],
   "source": [
    "agg_mean_diff = data.groupby(\"year\").lifeExp.agg(mean_diff, diff_values = global_mean)\n",
    "print(agg_mean_diff)\n",
    "\n",
    "# diff_values is a parameter in the function < mean_diff > "
   ]
  },
  {
   "cell_type": "markdown",
   "metadata": {},
   "source": [
    "# Multiple Functions Simultaneously "
   ]
  },
  {
   "cell_type": "code",
   "execution_count": 66,
   "metadata": {},
   "outputs": [],
   "source": [
    "# we can pass the individual functions into agg as a Python list "
   ]
  },
  {
   "cell_type": "code",
   "execution_count": 67,
   "metadata": {},
   "outputs": [
    {
     "name": "stdout",
     "output_type": "stream",
     "text": "count_nonzero       mean        std\nyear                                     \n1952          142.0  49.057620  12.225956\n1957          142.0  51.507401  12.231286\n1962          142.0  53.609249  12.097245\n1967          142.0  55.678290  11.718858\n1972          142.0  57.647386  11.381953\n1977          142.0  59.570157  11.227229\n1982          142.0  61.533197  10.770618\n1987          142.0  63.212613  10.556285\n1992          142.0  64.160338  11.227380\n1997          142.0  65.014676  11.559439\n2002          142.0  65.694923  12.279823\n2007          142.0  67.007423  12.073021\n"
    }
   ],
   "source": [
    "report = data.groupby(\"year\").lifeExp.agg([np.count_nonzero, np.mean, np.std]) # notice that the different count_nonzero, np.mean and np.std are in a list\n",
    "print(report)"
   ]
  },
  {
   "cell_type": "markdown",
   "metadata": {},
   "source": [
    "# Using a dict in Agg -- on a dataframe"
   ]
  },
  {
   "cell_type": "code",
   "execution_count": 68,
   "metadata": {},
   "outputs": [
    {
     "name": "stdout",
     "output_type": "stream",
     "text": "lifeExp         pop    gdpPercap\nyear                                    \n1952  49.057620   3943953.0  1968.528344\n1957  51.507401   4282942.0  2173.220291\n1962  53.609249   4686039.5  2335.439533\n1967  55.678290   5170175.5  2678.334740\n1972  57.647386   5877996.5  3339.129407\n1977  59.570157   6404036.5  3798.609244\n1982  61.533197   7007320.0  4216.228428\n1987  63.212613   7774861.5  4280.300366\n1992  64.160338   8688686.5  4386.085502\n1997  65.014676   9735063.5  4781.825478\n2002  65.694923  10372918.5  5319.804524\n2007  67.007423  10517531.0  6124.371108\n"
    }
   ],
   "source": [
    "# there are some other ways you can apply functions in the agg method. For example you can pass a agg a Python dictionary.However the results may differ depending on whether you are aggregating directly on a DataFrame or on a Series object\n",
    "\n",
    "# when specifying dict on a grouped DataFrame, THE KEYS ARE THE COLUMNS OF THE DATAFRAME, and the values are the function used in the aggregated calculation. \n",
    "# this approach allows you to group on one or more variables and use a different aggregation function on different columns simultaneously\n",
    "\n",
    "gdf_dict = data.groupby(\"year\").agg({ \"lifeExp\" : \"mean\" , \"pop\" : \"median\" , \"gdpPercap\" : \"median\"\n",
    "})\n",
    "\n",
    "print(gdf_dict)"
   ]
  },
  {
   "cell_type": "markdown",
   "metadata": {},
   "source": [
    "# Transform"
   ]
  },
  {
   "cell_type": "code",
   "execution_count": 69,
   "metadata": {},
   "outputs": [],
   "source": [
    "# when we perform agg, we take multiple values and return a single aggregated value \n",
    "# in transformation. we take multiple values and return a one-to-one transformation of the values\n",
    "# in transformation, there is no reduction of the amount of data. instead, there is an increase in the data size "
   ]
  },
  {
   "cell_type": "code",
   "execution_count": 70,
   "metadata": {},
   "outputs": [],
   "source": [
    "# z-score \n",
    "## z-score identifies the number of standard deviation from the mean of our data\n",
    "## it centers our data to mean 0 with a standard deviation of 1\n",
    "## this technique standardize our data and make it easier to compare different variables to each other"
   ]
  },
  {
   "cell_type": "code",
   "execution_count": 71,
   "metadata": {},
   "outputs": [],
   "source": [
    "def z_score(x) : \n",
    "    return ((x - x.mean()) / x.std())"
   ]
  },
  {
   "cell_type": "code",
   "execution_count": 72,
   "metadata": {},
   "outputs": [],
   "source": [
    "transform_z = data.groupby(\"year\").lifeExp.transform(z_score)"
   ]
  },
  {
   "cell_type": "code",
   "execution_count": 73,
   "metadata": {},
   "outputs": [
    {
     "data": {
      "text/plain": "(1704, 6)"
     },
     "execution_count": 73,
     "metadata": {},
     "output_type": "execute_result"
    }
   ],
   "source": [
    "data.shape # this is the number of rows and column items in our original dataset"
   ]
  },
  {
   "cell_type": "code",
   "execution_count": 74,
   "metadata": {},
   "outputs": [
    {
     "data": {
      "text/plain": "(1704,)"
     },
     "execution_count": 74,
     "metadata": {},
     "output_type": "execute_result"
    }
   ],
   "source": [
    "transform_z.shape"
   ]
  },
  {
   "cell_type": "code",
   "execution_count": 75,
   "metadata": {},
   "outputs": [],
   "source": [
    "# note that scipy library has its own z-score function \n",
    "from scipy.stats import zscore\n",
    "\n",
    "sp_z_group = data.groupby(\"year\").lifeExp.transform(zscore) # this calculates zscore on a grouped level\n",
    "\n",
    "sp_z_nogroup = zscore(data.lifeExp) # this calculate zscore on the individual row data level (non-grouped level)"
   ]
  },
  {
   "cell_type": "code",
   "execution_count": 76,
   "metadata": {},
   "outputs": [
    {
     "name": "stdout",
     "output_type": "stream",
     "text": "0   -1.656854\n1   -1.731249\n2   -1.786543\n3   -1.848157\n4   -1.894173\nName: lifeExp, dtype: float64\n"
    }
   ],
   "source": [
    "print(transform_z.head())"
   ]
  },
  {
   "cell_type": "code",
   "execution_count": 77,
   "metadata": {},
   "outputs": [
    {
     "name": "stdout",
     "output_type": "stream",
     "text": "0   -1.662719\n1   -1.737377\n2   -1.792867\n3   -1.854699\n4   -1.900878\nName: lifeExp, dtype: float64\n"
    }
   ],
   "source": [
    "print(sp_z_group.head())"
   ]
  },
  {
   "cell_type": "code",
   "execution_count": 78,
   "metadata": {},
   "outputs": [
    {
     "name": "stdout",
     "output_type": "stream",
     "text": "[-2.37533395 -2.25677417 -2.1278375  -1.97117751 -1.81103275]\n"
    }
   ],
   "source": [
    "print(sp_z_nogroup[:5])"
   ]
  },
  {
   "cell_type": "code",
   "execution_count": 79,
   "metadata": {},
   "outputs": [],
   "source": [
    "# the grouped results are similar\n",
    "# however, when we calculate the zscore outside the groupby (i.e. not at group level), we get the zscore calculated on the entire data set, not broken out by group "
   ]
  },
  {
   "cell_type": "markdown",
   "metadata": {},
   "source": [
    "# Missing Value Analysis"
   ]
  },
  {
   "cell_type": "code",
   "execution_count": 2,
   "metadata": {},
   "outputs": [],
   "source": [
    "# there are various method to fill in missing values. We can replace the missing values with : \n",
    "## mean, interpolate values\n",
    "## in this example, we are exploring filling the missing values based on a particular group\n",
    "### we will be using the \"tips\" dataset froom the seaborn library\n",
    "\n",
    "import seaborn as sns\n",
    "import numpy as np\n",
    "\n",
    "# we need to set the seed so that the results are deterministic \n",
    "np.random.seed(42)"
   ]
  },
  {
   "cell_type": "code",
   "execution_count": 3,
   "metadata": {},
   "outputs": [],
   "source": [
    "# \"tips\"dataset show the spending amount of diners \n",
    "\n",
    "tips_data = sns.load_dataset(\"tips\") # this fetch the whole dataset\n",
    "tips_10 = tips_data.sample(10) # this create a subset of 10 random sample"
   ]
  },
  {
   "cell_type": "code",
   "execution_count": 82,
   "metadata": {},
   "outputs": [],
   "source": [
    "tips_10.loc[np.random.permutation(tips_10.index)[:4],\"total_bill\"] = np.NaN\n",
    "# this randomly pick 4 total_bill values and turn them into blank values"
   ]
  },
  {
   "cell_type": "code",
   "execution_count": 83,
   "metadata": {},
   "outputs": [
    {
     "name": "stdout",
     "output_type": "stream",
     "text": "total_bill   tip     sex smoker   day    time  size\n24        19.82  3.18    Male     No   Sat  Dinner     2\n6          8.77  2.00    Male     No   Sun  Dinner     2\n153         NaN  2.00    Male     No   Sun  Dinner     4\n211         NaN  5.16    Male    Yes   Sat  Dinner     4\n198         NaN  2.00  Female    Yes  Thur   Lunch     2\n176         NaN  2.00    Male    Yes   Sun  Dinner     2\n192       28.44  2.56    Male    Yes  Thur   Lunch     2\n124       12.48  2.52  Female     No  Thur   Lunch     2\n9         14.78  3.23    Male     No   Sun  Dinner     2\n101       15.38  3.00  Female    Yes   Fri  Dinner     2\n"
    }
   ],
   "source": [
    "print(tips_10)"
   ]
  },
  {
   "cell_type": "code",
   "execution_count": 84,
   "metadata": {},
   "outputs": [],
   "source": [
    "# we may not want to use the mean value at the dataset level to compute the mean for the individual row items \n",
    "# the spending habits between male and female may and can differ significantly\n",
    "\n",
    "# we can the use groupby statement to fill in the missing values and instead of using aggregate method, we use the transform method "
   ]
  },
  {
   "cell_type": "code",
   "execution_count": 85,
   "metadata": {},
   "outputs": [
    {
     "name": "stdout",
     "output_type": "stream",
     "text": "total_bill  tip  smoker  day  time  size\nsex                                             \nMale             4    7       7    7     7     7\nFemale           2    3       3    3     3     3\n"
    }
   ],
   "source": [
    "# first, we count the number of non-missing values by sex\n",
    "\n",
    "count_sex = tips_10.groupby(\"sex\").count()\n",
    "print(count_sex)\n",
    "# 3 of the missing values come from Male and 1 come from Female "
   ]
  },
  {
   "cell_type": "code",
   "execution_count": 86,
   "metadata": {},
   "outputs": [],
   "source": [
    "# we then create a function to fill in the missing values based on the grouped average \n",
    "# the grouped is based on sex\n",
    "\n",
    "def fill_na_mean(x) : # x refer to a given vector\n",
    "    avg = x.mean()\n",
    "    return (x.fillna(avg))"
   ]
  },
  {
   "cell_type": "code",
   "execution_count": 87,
   "metadata": {},
   "outputs": [
    {
     "name": "stdout",
     "output_type": "stream",
     "text": "24     19.8200\n6       8.7700\n153    17.9525\n211    17.9525\n198    13.9300\n176    17.9525\n192    28.4400\n124    12.4800\n9      14.7800\n101    15.3800\nName: total_bill, dtype: float64\n"
    }
   ],
   "source": [
    "report_total_bill = tips_10.groupby(\"sex\").total_bill.transform(fill_na_mean)\n",
    "# this computes the average bill based on the sex\n",
    "print(report_total_bill)"
   ]
  },
  {
   "cell_type": "code",
   "execution_count": 88,
   "metadata": {},
   "outputs": [],
   "source": [
    "# note that the original dataset (tips_10) still has the missing values \n",
    "\n",
    "tips_10[\"fill_total_bill\"] = report_total_bill # this create a new column from the transformation process \n",
    "# you will noticed that the missing values column are now populated with values from the transformation process "
   ]
  },
  {
   "cell_type": "markdown",
   "metadata": {},
   "source": [
    "# Filter "
   ]
  },
  {
   "cell_type": "code",
   "execution_count": 89,
   "metadata": {},
   "outputs": [
    {
     "data": {
      "text/plain": "(244, 7)"
     },
     "execution_count": 89,
     "metadata": {},
     "output_type": "execute_result"
    }
   ],
   "source": [
    "tips_data.shape"
   ]
  },
  {
   "cell_type": "code",
   "execution_count": 90,
   "metadata": {},
   "outputs": [
    {
     "name": "stdout",
     "output_type": "stream",
     "text": "2    156\n3     38\n4     37\n5      5\n6      4\n1      4\nName: size, dtype: int64\n"
    }
   ],
   "source": [
    "print(tips_data[\"size\"].value_counts())\n",
    "# you might noticed that the table size of (5,6,1) are infrequent (5,4,4)\n",
    "# depending on your needs, you might want to filter out the data points\n",
    "\n",
    "# there is a total of 13 row items that you may want to filter our"
   ]
  },
  {
   "cell_type": "code",
   "execution_count": 101,
   "metadata": {},
   "outputs": [
    {
     "data": {
      "text/plain": "(244, 7)"
     },
     "execution_count": 101,
     "metadata": {},
     "output_type": "execute_result"
    }
   ],
   "source": [
    "tips_data.shape"
   ]
  },
  {
   "cell_type": "code",
   "execution_count": 97,
   "metadata": {},
   "outputs": [],
   "source": [
    "tips_filtered = tips_data.groupby(\"size\").filter(lambda x: x[\"size\"].count() > 30)"
   ]
  },
  {
   "cell_type": "code",
   "execution_count": 100,
   "metadata": {},
   "outputs": [
    {
     "data": {
      "text/plain": "(231, 7)"
     },
     "execution_count": 100,
     "metadata": {},
     "output_type": "execute_result"
    }
   ],
   "source": [
    "tips_filtered.shape"
   ]
  },
  {
   "cell_type": "code",
   "execution_count": 102,
   "metadata": {},
   "outputs": [
    {
     "data": {
      "text/plain": "2    156\n3     38\n4     37\nName: size, dtype: int64"
     },
     "execution_count": 102,
     "metadata": {},
     "output_type": "execute_result"
    }
   ],
   "source": [
    "tips_filtered[\"size\"].value_counts()"
   ]
  },
  {
   "cell_type": "markdown",
   "metadata": {},
   "source": [
    "# pandas.core.groupby.dataframegroupby object ---- GROUPS"
   ]
  },
  {
   "cell_type": "code",
   "execution_count": 92,
   "metadata": {},
   "outputs": [],
   "source": [
    "# throughout this chapter, we directly chained the aggregate, transform or fliter after the groupby statement \n",
    "# however, we can save the results of the groupby before we perform these other methods\n",
    "# for example, see the following codes :\n",
    "grouped_10 = tips_10.groupby(\"sex\")"
   ]
  },
  {
   "cell_type": "code",
   "execution_count": 93,
   "metadata": {},
   "outputs": [
    {
     "name": "stdout",
     "output_type": "stream",
     "text": "<pandas.core.groupby.generic.DataFrameGroupBy object at 0x0000018B723ADE48>\n"
    }
   ],
   "source": [
    "print(grouped_10)\n",
    "\n",
    "# this return the object and its memory location and the data type\n",
    "# under the hood, nothing has been calculated because we never performed an action that require a calculation"
   ]
  },
  {
   "cell_type": "code",
   "execution_count": 94,
   "metadata": {},
   "outputs": [
    {
     "name": "stdout",
     "output_type": "stream",
     "text": "{'Male': Int64Index([24, 6, 153, 211, 176, 192, 9], dtype='int64'), 'Female': Int64Index([198, 124, 101], dtype='int64')}\n"
    }
   ],
   "source": [
    "print(grouped_10.groups)\n",
    "# when we called for the groups, this will return the index of the dataframe back\n",
    "# this is intended mainly to optimize performance \n",
    "# again, we have not calculated anything yet\n",
    "# this approach allows us to save just the grouped result\n",
    "# we then perform mutiple operations (aggregate/transform/filter) without having to process the groupby statement again"
   ]
  },
  {
   "cell_type": "code",
   "execution_count": 95,
   "metadata": {},
   "outputs": [
    {
     "data": {
      "text/plain": "Index(['total_bill', 'tip', 'sex', 'smoker', 'day', 'time', 'size',\n       'fill_total_bill'],\n      dtype='object')"
     },
     "execution_count": 95,
     "metadata": {},
     "output_type": "execute_result"
    }
   ],
   "source": [
    "tips_10.columns"
   ]
  },
  {
   "cell_type": "markdown",
   "metadata": {},
   "source": [
    "# Group Calculation involving multiple variables"
   ]
  },
  {
   "cell_type": "code",
   "execution_count": null,
   "metadata": {},
   "outputs": [],
   "source": [
    "# If we specify the calculation method after the groupby statement, Python will perform calculation on all applicable columns"
   ]
  },
  {
   "cell_type": "code",
   "execution_count": 103,
   "metadata": {},
   "outputs": [
    {
     "data": {
      "text/html": "<div>\n<style scoped>\n    .dataframe tbody tr th:only-of-type {\n        vertical-align: middle;\n    }\n\n    .dataframe tbody tr th {\n        vertical-align: top;\n    }\n\n    .dataframe thead th {\n        text-align: right;\n    }\n</style>\n<table border=\"1\" class=\"dataframe\">\n  <thead>\n    <tr style=\"text-align: right;\">\n      <th></th>\n      <th>lifeExp</th>\n      <th>pop</th>\n      <th>gdpPercap</th>\n    </tr>\n    <tr>\n      <th>year</th>\n      <th></th>\n      <th></th>\n      <th></th>\n    </tr>\n  </thead>\n  <tbody>\n    <tr>\n      <td>1952</td>\n      <td>49.057620</td>\n      <td>1.695040e+07</td>\n      <td>3725.276046</td>\n    </tr>\n    <tr>\n      <td>1957</td>\n      <td>51.507401</td>\n      <td>1.876341e+07</td>\n      <td>4299.408345</td>\n    </tr>\n    <tr>\n      <td>1962</td>\n      <td>53.609249</td>\n      <td>2.042101e+07</td>\n      <td>4725.812342</td>\n    </tr>\n    <tr>\n      <td>1967</td>\n      <td>55.678290</td>\n      <td>2.265830e+07</td>\n      <td>5483.653047</td>\n    </tr>\n    <tr>\n      <td>1972</td>\n      <td>57.647386</td>\n      <td>2.518998e+07</td>\n      <td>6770.082815</td>\n    </tr>\n    <tr>\n      <td>1977</td>\n      <td>59.570157</td>\n      <td>2.767638e+07</td>\n      <td>7313.166421</td>\n    </tr>\n    <tr>\n      <td>1982</td>\n      <td>61.533197</td>\n      <td>3.020730e+07</td>\n      <td>7518.901673</td>\n    </tr>\n    <tr>\n      <td>1987</td>\n      <td>63.212613</td>\n      <td>3.303857e+07</td>\n      <td>7900.920218</td>\n    </tr>\n    <tr>\n      <td>1992</td>\n      <td>64.160338</td>\n      <td>3.599092e+07</td>\n      <td>8158.608521</td>\n    </tr>\n    <tr>\n      <td>1997</td>\n      <td>65.014676</td>\n      <td>3.883947e+07</td>\n      <td>9090.175363</td>\n    </tr>\n    <tr>\n      <td>2002</td>\n      <td>65.694923</td>\n      <td>4.145759e+07</td>\n      <td>9917.848365</td>\n    </tr>\n    <tr>\n      <td>2007</td>\n      <td>67.007423</td>\n      <td>4.402122e+07</td>\n      <td>11680.071820</td>\n    </tr>\n  </tbody>\n</table>\n</div>",
      "text/plain": "        lifeExp           pop     gdpPercap\nyear                                       \n1952  49.057620  1.695040e+07   3725.276046\n1957  51.507401  1.876341e+07   4299.408345\n1962  53.609249  2.042101e+07   4725.812342\n1967  55.678290  2.265830e+07   5483.653047\n1972  57.647386  2.518998e+07   6770.082815\n1977  59.570157  2.767638e+07   7313.166421\n1982  61.533197  3.020730e+07   7518.901673\n1987  63.212613  3.303857e+07   7900.920218\n1992  64.160338  3.599092e+07   8158.608521\n1997  65.014676  3.883947e+07   9090.175363\n2002  65.694923  4.145759e+07   9917.848365\n2007  67.007423  4.402122e+07  11680.071820"
     },
     "execution_count": 103,
     "metadata": {},
     "output_type": "execute_result"
    }
   ],
   "source": [
    "data.groupby(\"year\").mean() \n",
    "# instead of data.groupby(\"year\").lifeExp.mean()"
   ]
  },
  {
   "cell_type": "code",
   "execution_count": 104,
   "metadata": {},
   "outputs": [
    {
     "data": {
      "text/html": "<div>\n<style scoped>\n    .dataframe tbody tr th:only-of-type {\n        vertical-align: middle;\n    }\n\n    .dataframe tbody tr th {\n        vertical-align: top;\n    }\n\n    .dataframe thead th {\n        text-align: right;\n    }\n</style>\n<table border=\"1\" class=\"dataframe\">\n  <thead>\n    <tr style=\"text-align: right;\">\n      <th></th>\n      <th>total_bill</th>\n      <th>tip</th>\n      <th>size</th>\n    </tr>\n    <tr>\n      <th>sex</th>\n      <th></th>\n      <th></th>\n      <th></th>\n    </tr>\n  </thead>\n  <tbody>\n    <tr>\n      <td>Male</td>\n      <td>20.744076</td>\n      <td>3.089618</td>\n      <td>2.630573</td>\n    </tr>\n    <tr>\n      <td>Female</td>\n      <td>18.056897</td>\n      <td>2.833448</td>\n      <td>2.459770</td>\n    </tr>\n  </tbody>\n</table>\n</div>",
      "text/plain": "        total_bill       tip      size\nsex                                   \nMale     20.744076  3.089618  2.630573\nFemale   18.056897  2.833448  2.459770"
     },
     "execution_count": 104,
     "metadata": {},
     "output_type": "execute_result"
    }
   ],
   "source": [
    "tips_data.groupby(\"sex\").mean()"
   ]
  },
  {
   "cell_type": "code",
   "execution_count": 96,
   "metadata": {},
   "outputs": [
    {
     "name": "stdout",
     "output_type": "stream",
     "text": "total_bill       tip      size  fill_total_bill\nsex                                                    \nMale       17.9525  2.875714  2.571429          17.9525\nFemale     13.9300  2.506667  2.000000          13.9300\n"
    }
   ],
   "source": [
    "average_group_mean = grouped_10.mean() # this is similar to tips_10.groupby(\"sex\").mean()\n",
    "print(average_group_mean)"
   ]
  },
  {
   "cell_type": "markdown",
   "metadata": {},
   "source": [
    "# Selecting a sub group "
   ]
  },
  {
   "cell_type": "code",
   "execution_count": 107,
   "metadata": {},
   "outputs": [
    {
     "name": "stdout",
     "output_type": "stream",
     "text": "total_bill   tip smoker   day    time  size  fill_total_bill\n198         NaN  2.00    Yes  Thur   Lunch     2            13.93\n124       12.48  2.52     No  Thur   Lunch     2            12.48\n101       15.38  3.00    Yes   Fri  Dinner     2            15.38\n"
    }
   ],
   "source": [
    "# we can use the get_group function to select a group. as follows : \n",
    "\n",
    "female = grouped_10.get_group(\"Female\")\n",
    "print(female)"
   ]
  },
  {
   "cell_type": "code",
   "execution_count": 110,
   "metadata": {},
   "outputs": [
    {
     "data": {
      "text/html": "<div>\n<style scoped>\n    .dataframe tbody tr th:only-of-type {\n        vertical-align: middle;\n    }\n\n    .dataframe tbody tr th {\n        vertical-align: top;\n    }\n\n    .dataframe thead th {\n        text-align: right;\n    }\n</style>\n<table border=\"1\" class=\"dataframe\">\n  <thead>\n    <tr style=\"text-align: right;\">\n      <th></th>\n      <th>total_bill</th>\n      <th>tip</th>\n      <th>sex</th>\n      <th>smoker</th>\n      <th>day</th>\n      <th>time</th>\n      <th>size</th>\n      <th>fill_total_bill</th>\n    </tr>\n  </thead>\n  <tbody>\n    <tr>\n      <td>198</td>\n      <td>NaN</td>\n      <td>2.00</td>\n      <td>Female</td>\n      <td>Yes</td>\n      <td>Thur</td>\n      <td>Lunch</td>\n      <td>2</td>\n      <td>13.93</td>\n    </tr>\n    <tr>\n      <td>124</td>\n      <td>12.48</td>\n      <td>2.52</td>\n      <td>Female</td>\n      <td>No</td>\n      <td>Thur</td>\n      <td>Lunch</td>\n      <td>2</td>\n      <td>12.48</td>\n    </tr>\n    <tr>\n      <td>101</td>\n      <td>15.38</td>\n      <td>3.00</td>\n      <td>Female</td>\n      <td>Yes</td>\n      <td>Fri</td>\n      <td>Dinner</td>\n      <td>2</td>\n      <td>15.38</td>\n    </tr>\n  </tbody>\n</table>\n</div>",
      "text/plain": "     total_bill   tip     sex smoker   day    time  size  fill_total_bill\n198         NaN  2.00  Female    Yes  Thur   Lunch     2            13.93\n124       12.48  2.52  Female     No  Thur   Lunch     2            12.48\n101       15.38  3.00  Female    Yes   Fri  Dinner     2            15.38"
     },
     "execution_count": 110,
     "metadata": {},
     "output_type": "execute_result"
    }
   ],
   "source": [
    "# alternatively \n",
    "tips_10.loc[tips_10.sex == \"Female\"] # tips_10 is the original subset of the data\n",
    "\n",
    "# note that you cannot use the above method with the a DataFrameGroupBy object such as: \n",
    "# group_10.loc[group_10.sex == \"Female\"] --> this will generate an error"
   ]
  },
  {
   "cell_type": "markdown",
   "metadata": {},
   "source": [
    "# Iterating through Groups (refer to page 204/205)\n"
   ]
  },
  {
   "cell_type": "code",
   "execution_count": 111,
   "metadata": {},
   "outputs": [
    {
     "name": "stdout",
     "output_type": "stream",
     "text": "('Male',      total_bill   tip   sex smoker   day    time  size  fill_total_bill\n24        19.82  3.18  Male     No   Sat  Dinner     2          19.8200\n6          8.77  2.00  Male     No   Sun  Dinner     2           8.7700\n153         NaN  2.00  Male     No   Sun  Dinner     4          17.9525\n211         NaN  5.16  Male    Yes   Sat  Dinner     4          17.9525\n176         NaN  2.00  Male    Yes   Sun  Dinner     2          17.9525\n192       28.44  2.56  Male    Yes  Thur   Lunch     2          28.4400\n9         14.78  3.23  Male     No   Sun  Dinner     2          14.7800)\n('Female',      total_bill   tip     sex smoker   day    time  size  fill_total_bill\n198         NaN  2.00  Female    Yes  Thur   Lunch     2            13.93\n124       12.48  2.52  Female     No  Thur   Lunch     2            12.48\n101       15.38  3.00  Female    Yes   Fri  Dinner     2            15.38)\n"
    }
   ],
   "source": [
    "# another benefit of saving just the groupby object is that you are able to iterate through the groups individually\n",
    "for x in grouped_10 : \n",
    "    print(x)"
   ]
  },
  {
   "cell_type": "markdown",
   "metadata": {},
   "source": [
    "# Multiple Groups"
   ]
  },
  {
   "cell_type": "code",
   "execution_count": 4,
   "metadata": {},
   "outputs": [
    {
     "data": {
      "text/html": "<div>\n<style scoped>\n    .dataframe tbody tr th:only-of-type {\n        vertical-align: middle;\n    }\n\n    .dataframe tbody tr th {\n        vertical-align: top;\n    }\n\n    .dataframe thead th {\n        text-align: right;\n    }\n</style>\n<table border=\"1\" class=\"dataframe\">\n  <thead>\n    <tr style=\"text-align: right;\">\n      <th></th>\n      <th></th>\n      <th>pop</th>\n      <th>gdpPercap</th>\n    </tr>\n    <tr>\n      <th>continent</th>\n      <th>country</th>\n      <th></th>\n      <th></th>\n    </tr>\n  </thead>\n  <tbody>\n    <tr>\n      <td rowspan=\"5\" valign=\"top\">Africa</td>\n      <td>Algeria</td>\n      <td>1.987541e+07</td>\n      <td>1310.337656</td>\n    </tr>\n    <tr>\n      <td>Angola</td>\n      <td>7.309390e+06</td>\n      <td>1165.900251</td>\n    </tr>\n    <tr>\n      <td>Benin</td>\n      <td>4.017497e+06</td>\n      <td>159.741306</td>\n    </tr>\n    <tr>\n      <td>Botswana</td>\n      <td>9.711862e+05</td>\n      <td>4178.136987</td>\n    </tr>\n    <tr>\n      <td>Burkina Faso</td>\n      <td>7.548677e+06</td>\n      <td>183.430087</td>\n    </tr>\n    <tr>\n      <td>...</td>\n      <td>...</td>\n      <td>...</td>\n      <td>...</td>\n    </tr>\n    <tr>\n      <td rowspan=\"3\" valign=\"top\">Europe</td>\n      <td>Switzerland</td>\n      <td>6.384293e+06</td>\n      <td>6886.463308</td>\n    </tr>\n    <tr>\n      <td>Turkey</td>\n      <td>4.590901e+07</td>\n      <td>2049.665102</td>\n    </tr>\n    <tr>\n      <td>United Kingdom</td>\n      <td>5.608780e+07</td>\n      <td>7388.189399</td>\n    </tr>\n    <tr>\n      <td rowspan=\"2\" valign=\"top\">Oceania</td>\n      <td>Australia</td>\n      <td>1.464931e+07</td>\n      <td>7815.405220</td>\n    </tr>\n    <tr>\n      <td>New Zealand</td>\n      <td>3.100032e+06</td>\n      <td>4409.009167</td>\n    </tr>\n  </tbody>\n</table>\n<p>142 rows × 2 columns</p>\n</div>",
      "text/plain": "                                   pop    gdpPercap\ncontinent country                                  \nAfrica    Algeria         1.987541e+07  1310.337656\n          Angola          7.309390e+06  1165.900251\n          Benin           4.017497e+06   159.741306\n          Botswana        9.711862e+05  4178.136987\n          Burkina Faso    7.548677e+06   183.430087\n...                                ...          ...\nEurope    Switzerland     6.384293e+06  6886.463308\n          Turkey          4.590901e+07  2049.665102\n          United Kingdom  5.608780e+07  7388.189399\nOceania   Australia       1.464931e+07  7815.405220\n          New Zealand     3.100032e+06  4409.009167\n\n[142 rows x 2 columns]"
     },
     "execution_count": 4,
     "metadata": {},
     "output_type": "execute_result"
    }
   ],
   "source": [
    "# to include mutiple group in a groupby statement, place the variables in a list as follows \n",
    "\n",
    "x = data.groupby([\"continent\",\"country\"])\n",
    "x.agg({\"pop\" : \"mean\", \"gdpPercap\" : \"std\"})"
   ]
  },
  {
   "cell_type": "code",
   "execution_count": 6,
   "metadata": {},
   "outputs": [],
   "source": [
    "sex_time_group = tips_data.groupby([\"sex\",\"time\"])\n",
    "gender_spending = sex_time_group.mean()"
   ]
  },
  {
   "cell_type": "code",
   "execution_count": 7,
   "metadata": {},
   "outputs": [
    {
     "data": {
      "text/plain": "pandas.core.frame.DataFrame"
     },
     "execution_count": 7,
     "metadata": {},
     "output_type": "execute_result"
    }
   ],
   "source": [
    "type(gender_spending)"
   ]
  },
  {
   "cell_type": "code",
   "execution_count": 8,
   "metadata": {},
   "outputs": [
    {
     "data": {
      "text/plain": "Index(['total_bill', 'tip', 'size'], dtype='object')"
     },
     "execution_count": 8,
     "metadata": {},
     "output_type": "execute_result"
    }
   ],
   "source": [
    "gender_spending.columns"
   ]
  },
  {
   "cell_type": "code",
   "execution_count": 10,
   "metadata": {},
   "outputs": [
    {
     "data": {
      "text/plain": "MultiIndex([(  'Male',  'Lunch'),\n            (  'Male', 'Dinner'),\n            ('Female',  'Lunch'),\n            ('Female', 'Dinner')],\n           names=['sex', 'time'])"
     },
     "execution_count": 10,
     "metadata": {},
     "output_type": "execute_result"
    }
   ],
   "source": [
    "gender_spending.index"
   ]
  },
  {
   "cell_type": "code",
   "execution_count": 132,
   "metadata": {},
   "outputs": [
    {
     "name": "stdout",
     "output_type": "stream",
     "text": "sex    time  total_bill       tip      size\n0    Male   Lunch   18.048485  2.882121  2.363636\n1    Male  Dinner   21.461452  3.144839  2.701613\n2  Female   Lunch   16.339143  2.582857  2.457143\n3  Female  Dinner   19.213077  3.002115  2.461538\n"
    }
   ],
   "source": [
    "# if we want to get a regular dataframe, we can call on reset_index on the results to flatten the results\n",
    "report = sex_time_group.mean().reset_index()\n",
    "print(report)"
   ]
  },
  {
   "cell_type": "code",
   "execution_count": null,
   "metadata": {},
   "outputs": [],
   "source": [
    "# alternatively, we can use the as_index = false parameter in the groupby method (it is TRUE by default)"
   ]
  },
  {
   "cell_type": "code",
   "execution_count": 11,
   "metadata": {},
   "outputs": [
    {
     "name": "stdout",
     "output_type": "stream",
     "text": "total_bill       tip      size\nsex    time                                  \nMale   Lunch    28.440000  2.560000  2.000000\n       Dinner   18.616667  2.928333  2.666667\nFemale Lunch    12.740000  2.260000  2.000000\n       Dinner   15.380000  3.000000  2.000000\n"
    }
   ],
   "source": [
    "group_pram_1 = tips_10.groupby([\"sex\",\"time\"], as_index = True).mean()\n",
    "print(group_pram_1)"
   ]
  },
  {
   "cell_type": "code",
   "execution_count": 12,
   "metadata": {},
   "outputs": [
    {
     "name": "stdout",
     "output_type": "stream",
     "text": "sex    time  total_bill       tip      size\n0    Male   Lunch   28.440000  2.560000  2.000000\n1    Male  Dinner   18.616667  2.928333  2.666667\n2  Female   Lunch   12.740000  2.260000  2.000000\n3  Female  Dinner   15.380000  3.000000  2.000000\n"
    }
   ],
   "source": [
    "group_pram_2 = tips_10.groupby([\"sex\",\"time\"], as_index = False).mean() # this will flatten the results\n",
    "print(group_pram_2)"
   ]
  },
  {
   "cell_type": "code",
   "execution_count": null,
   "metadata": {},
   "outputs": [],
   "source": []
  },
  {
   "cell_type": "code",
   "execution_count": null,
   "metadata": {},
   "outputs": [],
   "source": []
  },
  {
   "cell_type": "code",
   "execution_count": null,
   "metadata": {},
   "outputs": [],
   "source": []
  },
  {
   "cell_type": "code",
   "execution_count": null,
   "metadata": {},
   "outputs": [],
   "source": []
  }
 ],
 "metadata": {
  "language_info": {
   "name": "python",
   "codemirror_mode": {
    "name": "ipython",
    "version": 3
   },
   "version": "3.7.4-final"
  },
  "orig_nbformat": 2,
  "file_extension": ".py",
  "mimetype": "text/x-python",
  "name": "python",
  "npconvert_exporter": "python",
  "pygments_lexer": "ipython3",
  "version": 3,
  "kernelspec": {
   "name": "python37464bitbaseconda6db2893f0e1b4b6ea66d23044bec9473",
   "display_name": "Python 3.7.4 64-bit ('base': conda)"
  }
 },
 "nbformat": 4,
 "nbformat_minor": 2
}