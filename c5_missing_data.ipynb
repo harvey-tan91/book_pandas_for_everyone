{
 "cells": [
  {
   "cell_type": "markdown",
   "metadata": {},
   "source": [
    "# Missing Data"
   ]
  },
  {
   "cell_type": "code",
   "execution_count": 2,
   "metadata": {},
   "outputs": [],
   "source": [
    "# Pandas display missing values as NaN\n",
    "# the NaN value in Pandas come from numpy\n",
    "# missing values are different from other type of data in that they don't really equal to antyhing\n",
    "\n",
    "## Notes:\n",
    "# NaN is NOT EQUAL to a empty string, 0, True or False\n",
    "# NaN is NOT EQUAL to nan or NAN (missing values are not equal to other missing values)\n",
    "\n",
    "import numpy as np, pandas as pd"
   ]
  },
  {
   "cell_type": "code",
   "execution_count": 2,
   "metadata": {},
   "outputs": [
    {
     "output_type": "execute_result",
     "data": {
      "text/plain": "False"
     },
     "metadata": {},
     "execution_count": 2
    }
   ],
   "source": [
    "np.NaN == True"
   ]
  },
  {
   "cell_type": "code",
   "execution_count": 3,
   "metadata": {},
   "outputs": [
    {
     "output_type": "execute_result",
     "data": {
      "text/plain": "False"
     },
     "metadata": {},
     "execution_count": 3
    }
   ],
   "source": [
    "np.NaN == False"
   ]
  },
  {
   "cell_type": "code",
   "execution_count": 4,
   "metadata": {},
   "outputs": [
    {
     "output_type": "execute_result",
     "data": {
      "text/plain": "False"
     },
     "metadata": {},
     "execution_count": 4
    }
   ],
   "source": [
    "np.NaN == np.NAN"
   ]
  },
  {
   "cell_type": "code",
   "execution_count": 5,
   "metadata": {},
   "outputs": [
    {
     "output_type": "execute_result",
     "data": {
      "text/plain": "True"
     },
     "metadata": {},
     "execution_count": 5
    }
   ],
   "source": [
    "# Pandas has built-in function to test for missing values \n",
    "pd.isnull(np.NaN) # isnull test for missing values"
   ]
  },
  {
   "cell_type": "code",
   "execution_count": 6,
   "metadata": {},
   "outputs": [
    {
     "output_type": "execute_result",
     "data": {
      "text/plain": "False"
     },
     "metadata": {},
     "execution_count": 6
    }
   ],
   "source": [
    "pd.notnull(np.NaN) # notnull test for non-missing values "
   ]
  },
  {
   "cell_type": "markdown",
   "metadata": {},
   "source": [
    "# Loading data with missing values"
   ]
  },
  {
   "cell_type": "code",
   "execution_count": 7,
   "metadata": {},
   "outputs": [],
   "source": [
    "# im the read_csv function, there are 3 parameters related to reading missing values\n",
    "#1) na_values\n",
    "# --> allows you to code additional missing values, for example na_values = [99]\n",
    "# --> any cell with the value of 99 will be deemed as missing values\n",
    "\n",
    "#2) keep_default_na\n",
    "# --> is a Bool that allows you to specify whether any additional values need to be considered as missing\n",
    "# --> this parameter is True by default\n",
    "# --> related to number 1\n",
    "# --> if this is False, this mean that only the values specified in na_values will be used to identify missing values\n",
    "\n",
    "#3) na_filter\n",
    "# --> is a Bool that willl specify whether any values will be read as missing\n",
    "# --> this parameter is True by default, meaning that any missing values will be coded as NaN\n"
   ]
  },
  {
   "cell_type": "code",
   "execution_count": 8,
   "metadata": {},
   "outputs": [],
   "source": [
    "visited_file = r\"C:\\Users\\tanzh\\Documents\\Python\\Pandas for Everyone\\datasets\\survey_visited.csv\""
   ]
  },
  {
   "cell_type": "code",
   "execution_count": 9,
   "metadata": {},
   "outputs": [
    {
     "output_type": "stream",
     "name": "stdout",
     "text": "ident   site       dated\n0    619   DR-1  1927-02-08\n1    622   DR-1  1927-02-10\n2    734   DR-3  1939-01-07\n3    735   DR-3  1930-01-12\n4    751   DR-3  1930-02-26\n5    752   DR-3         NaN\n6    837  MSK-4  1932-01-14\n7    844   DR-1  1932-03-22\n"
    }
   ],
   "source": [
    "print(pd.read_csv(visited_file))"
   ]
  },
  {
   "cell_type": "code",
   "execution_count": 17,
   "metadata": {},
   "outputs": [
    {
     "output_type": "stream",
     "name": "stdout",
     "text": "ident   site       dated\n0    619   DR-1  1927-02-08\n1    622   DR-1  1927-02-10\n2    734   DR-3  1939-01-07\n3    735   DR-3  1930-01-12\n4    751   DR-3  1930-02-26\n5    752   DR-3            \n6    837  MSK-4  1932-01-14\n7    844   DR-1  1932-03-22\n"
    }
   ],
   "source": [
    "print(pd.read_csv(visited_file, keep_default_na = False))"
   ]
  },
  {
   "cell_type": "code",
   "execution_count": 15,
   "metadata": {},
   "outputs": [
    {
     "output_type": "stream",
     "name": "stdout",
     "text": "ident   site       dated\n0    619   DR-1  1927-02-08\n1    622   DR-1  1927-02-10\n2    734   DR-3  1939-01-07\n3    735   DR-3  1930-01-12\n4    751   DR-3  1930-02-26\n5    752   DR-3         NaN\n6    837  MSK-4  1932-01-14\n7    844   DR-1  1932-03-22\n"
    }
   ],
   "source": [
    "print(pd.read_csv(visited_file, na_values = [\"\"], keep_default_na =  False))"
   ]
  },
  {
   "cell_type": "code",
   "execution_count": 19,
   "metadata": {},
   "outputs": [
    {
     "output_type": "stream",
     "name": "stdout",
     "text": "ident   site       dated\n0    619   DR-1  1927-02-08\n1    622   DR-1  1927-02-10\n2    734   DR-3  1939-01-07\n3    735   DR-3  1930-01-12\n4    751   DR-3  1930-02-26\n5    752   DR-3         NaN\n6    837  MSK-4  1932-01-14\n7    844   DR-1  1932-03-22\n"
    }
   ],
   "source": [
    "print(pd.read_csv(visited_file))"
   ]
  },
  {
   "cell_type": "markdown",
   "metadata": {},
   "source": []
  },
  {
   "cell_type": "markdown",
   "metadata": {},
   "source": [
    "# Merged Data"
   ]
  },
  {
   "cell_type": "code",
   "execution_count": 3,
   "metadata": {},
   "outputs": [],
   "source": [
    "survey = pd.read_csv(r\"C:\\Users\\tanzh\\Documents\\Python\\Pandas for Everyone\\datasets\\c4\\survey_survey.csv\")\n",
    "visited = pd.read_csv(r\"C:\\Users\\tanzh\\Documents\\Python\\Pandas for Everyone\\datasets\\c4\\survey_visited.csv\")"
   ]
  },
  {
   "cell_type": "code",
   "execution_count": 21,
   "metadata": {},
   "outputs": [
    {
     "output_type": "execute_result",
     "data": {
      "text/plain": "    ident   site       dated  taken person quant  reading  missing values\n0     619   DR-1  1927-02-08    619   dyer   rad     9.82             NaN\n1     619   DR-1  1927-02-08    619   dyer   sal     0.13             NaN\n2     622   DR-1  1927-02-10    622   dyer   rad     7.80             NaN\n3     622   DR-1  1927-02-10    622   dyer   sal     0.09             NaN\n4     734   DR-3  1939-01-07    734     pb   rad     8.41             NaN\n5     734   DR-3  1939-01-07    734   lake   sal     0.05             NaN\n6     734   DR-3  1939-01-07    734     pb  temp   -21.50             NaN\n7     735   DR-3  1930-01-12    735     pb   rad     7.22             NaN\n8     735   DR-3  1930-01-12    735    NaN   sal     0.06             NaN\n9     735   DR-3  1930-01-12    735    NaN  temp   -26.00             NaN\n10    751   DR-3  1930-02-26    751     pb   rad     4.35             NaN\n11    751   DR-3  1930-02-26    751     pb  temp   -18.50             NaN\n12    751   DR-3  1930-02-26    751   lake   sal     0.10             NaN\n13    752   DR-3         NaN    752   lake   rad     2.19             NaN\n14    752   DR-3         NaN    752   lake   sal     0.09             NaN\n15    752   DR-3         NaN    752   lake  temp   -16.00             NaN\n16    752   DR-3         NaN    752    roe   sal    41.60             NaN\n17    837  MSK-4  1932-01-14    837   lake   rad     1.46             NaN\n18    837  MSK-4  1932-01-14    837   lake   sal     0.21             NaN\n19    837  MSK-4  1932-01-14    837    roe   sal    22.50             NaN\n20    844   DR-1  1932-03-22    844    roe   rad    11.25             NaN",
      "text/html": "<div>\n<style scoped>\n    .dataframe tbody tr th:only-of-type {\n        vertical-align: middle;\n    }\n\n    .dataframe tbody tr th {\n        vertical-align: top;\n    }\n\n    .dataframe thead th {\n        text-align: right;\n    }\n</style>\n<table border=\"1\" class=\"dataframe\">\n  <thead>\n    <tr style=\"text-align: right;\">\n      <th></th>\n      <th>ident</th>\n      <th>site</th>\n      <th>dated</th>\n      <th>taken</th>\n      <th>person</th>\n      <th>quant</th>\n      <th>reading</th>\n      <th>missing values</th>\n    </tr>\n  </thead>\n  <tbody>\n    <tr>\n      <td>0</td>\n      <td>619</td>\n      <td>DR-1</td>\n      <td>1927-02-08</td>\n      <td>619</td>\n      <td>dyer</td>\n      <td>rad</td>\n      <td>9.82</td>\n      <td>NaN</td>\n    </tr>\n    <tr>\n      <td>1</td>\n      <td>619</td>\n      <td>DR-1</td>\n      <td>1927-02-08</td>\n      <td>619</td>\n      <td>dyer</td>\n      <td>sal</td>\n      <td>0.13</td>\n      <td>NaN</td>\n    </tr>\n    <tr>\n      <td>2</td>\n      <td>622</td>\n      <td>DR-1</td>\n      <td>1927-02-10</td>\n      <td>622</td>\n      <td>dyer</td>\n      <td>rad</td>\n      <td>7.80</td>\n      <td>NaN</td>\n    </tr>\n    <tr>\n      <td>3</td>\n      <td>622</td>\n      <td>DR-1</td>\n      <td>1927-02-10</td>\n      <td>622</td>\n      <td>dyer</td>\n      <td>sal</td>\n      <td>0.09</td>\n      <td>NaN</td>\n    </tr>\n    <tr>\n      <td>4</td>\n      <td>734</td>\n      <td>DR-3</td>\n      <td>1939-01-07</td>\n      <td>734</td>\n      <td>pb</td>\n      <td>rad</td>\n      <td>8.41</td>\n      <td>NaN</td>\n    </tr>\n    <tr>\n      <td>5</td>\n      <td>734</td>\n      <td>DR-3</td>\n      <td>1939-01-07</td>\n      <td>734</td>\n      <td>lake</td>\n      <td>sal</td>\n      <td>0.05</td>\n      <td>NaN</td>\n    </tr>\n    <tr>\n      <td>6</td>\n      <td>734</td>\n      <td>DR-3</td>\n      <td>1939-01-07</td>\n      <td>734</td>\n      <td>pb</td>\n      <td>temp</td>\n      <td>-21.50</td>\n      <td>NaN</td>\n    </tr>\n    <tr>\n      <td>7</td>\n      <td>735</td>\n      <td>DR-3</td>\n      <td>1930-01-12</td>\n      <td>735</td>\n      <td>pb</td>\n      <td>rad</td>\n      <td>7.22</td>\n      <td>NaN</td>\n    </tr>\n    <tr>\n      <td>8</td>\n      <td>735</td>\n      <td>DR-3</td>\n      <td>1930-01-12</td>\n      <td>735</td>\n      <td>NaN</td>\n      <td>sal</td>\n      <td>0.06</td>\n      <td>NaN</td>\n    </tr>\n    <tr>\n      <td>9</td>\n      <td>735</td>\n      <td>DR-3</td>\n      <td>1930-01-12</td>\n      <td>735</td>\n      <td>NaN</td>\n      <td>temp</td>\n      <td>-26.00</td>\n      <td>NaN</td>\n    </tr>\n    <tr>\n      <td>10</td>\n      <td>751</td>\n      <td>DR-3</td>\n      <td>1930-02-26</td>\n      <td>751</td>\n      <td>pb</td>\n      <td>rad</td>\n      <td>4.35</td>\n      <td>NaN</td>\n    </tr>\n    <tr>\n      <td>11</td>\n      <td>751</td>\n      <td>DR-3</td>\n      <td>1930-02-26</td>\n      <td>751</td>\n      <td>pb</td>\n      <td>temp</td>\n      <td>-18.50</td>\n      <td>NaN</td>\n    </tr>\n    <tr>\n      <td>12</td>\n      <td>751</td>\n      <td>DR-3</td>\n      <td>1930-02-26</td>\n      <td>751</td>\n      <td>lake</td>\n      <td>sal</td>\n      <td>0.10</td>\n      <td>NaN</td>\n    </tr>\n    <tr>\n      <td>13</td>\n      <td>752</td>\n      <td>DR-3</td>\n      <td>NaN</td>\n      <td>752</td>\n      <td>lake</td>\n      <td>rad</td>\n      <td>2.19</td>\n      <td>NaN</td>\n    </tr>\n    <tr>\n      <td>14</td>\n      <td>752</td>\n      <td>DR-3</td>\n      <td>NaN</td>\n      <td>752</td>\n      <td>lake</td>\n      <td>sal</td>\n      <td>0.09</td>\n      <td>NaN</td>\n    </tr>\n    <tr>\n      <td>15</td>\n      <td>752</td>\n      <td>DR-3</td>\n      <td>NaN</td>\n      <td>752</td>\n      <td>lake</td>\n      <td>temp</td>\n      <td>-16.00</td>\n      <td>NaN</td>\n    </tr>\n    <tr>\n      <td>16</td>\n      <td>752</td>\n      <td>DR-3</td>\n      <td>NaN</td>\n      <td>752</td>\n      <td>roe</td>\n      <td>sal</td>\n      <td>41.60</td>\n      <td>NaN</td>\n    </tr>\n    <tr>\n      <td>17</td>\n      <td>837</td>\n      <td>MSK-4</td>\n      <td>1932-01-14</td>\n      <td>837</td>\n      <td>lake</td>\n      <td>rad</td>\n      <td>1.46</td>\n      <td>NaN</td>\n    </tr>\n    <tr>\n      <td>18</td>\n      <td>837</td>\n      <td>MSK-4</td>\n      <td>1932-01-14</td>\n      <td>837</td>\n      <td>lake</td>\n      <td>sal</td>\n      <td>0.21</td>\n      <td>NaN</td>\n    </tr>\n    <tr>\n      <td>19</td>\n      <td>837</td>\n      <td>MSK-4</td>\n      <td>1932-01-14</td>\n      <td>837</td>\n      <td>roe</td>\n      <td>sal</td>\n      <td>22.50</td>\n      <td>NaN</td>\n    </tr>\n    <tr>\n      <td>20</td>\n      <td>844</td>\n      <td>DR-1</td>\n      <td>1932-03-22</td>\n      <td>844</td>\n      <td>roe</td>\n      <td>rad</td>\n      <td>11.25</td>\n      <td>NaN</td>\n    </tr>\n  </tbody>\n</table>\n</div>"
     },
     "metadata": {},
     "execution_count": 21
    }
   ],
   "source": [
    "vs = visited.merge(survey, left_on = \"ident\", right_on =\"taken\")\n",
    "vs[\"missing values\"] = np.nan # user can input missing values using np.nan\n",
    "vs"
   ]
  },
  {
   "cell_type": "markdown",
   "metadata": {},
   "source": [
    "# Re-indexing by slicing "
   ]
  },
  {
   "cell_type": "code",
   "execution_count": 22,
   "metadata": {},
   "outputs": [],
   "source": [
    "gapminder = pd.read_excel(r\"C:\\Users\\tanzh\\Documents\\Python\\Pandas for Everyone\\datasets\\gapminder.xlsx\")"
   ]
  },
  {
   "cell_type": "code",
   "execution_count": 23,
   "metadata": {},
   "outputs": [
    {
     "output_type": "execute_result",
     "data": {
      "text/plain": "Index(['country', 'continent', 'year', 'lifeExp', 'pop', 'gdpPercap'], dtype='object')"
     },
     "metadata": {},
     "execution_count": 23
    }
   ],
   "source": [
    "gapminder.columns"
   ]
  },
  {
   "cell_type": "code",
   "execution_count": 42,
   "metadata": {},
   "outputs": [
    {
     "output_type": "execute_result",
     "data": {
      "text/plain": "        lifeExp           pop     gdpPercap\nyear                                       \n1952  49.057620  1.695040e+07   3725.276046\n1957  51.507401  1.876341e+07   4299.408345\n1962  53.609249  2.042101e+07   4725.812342\n1967  55.678290  2.265830e+07   5483.653047\n1972  57.647386  2.518998e+07   6770.082815\n1977  59.570157  2.767638e+07   7313.166421\n1982  61.533197  3.020730e+07   7518.901673\n1987  63.212613  3.303857e+07   7900.920218\n1992  64.160338  3.599092e+07   8158.608521\n1997  65.014676  3.883947e+07   9090.175363\n2002  65.694923  4.145759e+07   9917.848365\n2007  67.007423  4.402122e+07  11680.071820",
      "text/html": "<div>\n<style scoped>\n    .dataframe tbody tr th:only-of-type {\n        vertical-align: middle;\n    }\n\n    .dataframe tbody tr th {\n        vertical-align: top;\n    }\n\n    .dataframe thead th {\n        text-align: right;\n    }\n</style>\n<table border=\"1\" class=\"dataframe\">\n  <thead>\n    <tr style=\"text-align: right;\">\n      <th></th>\n      <th>lifeExp</th>\n      <th>pop</th>\n      <th>gdpPercap</th>\n    </tr>\n    <tr>\n      <th>year</th>\n      <th></th>\n      <th></th>\n      <th></th>\n    </tr>\n  </thead>\n  <tbody>\n    <tr>\n      <td>1952</td>\n      <td>49.057620</td>\n      <td>1.695040e+07</td>\n      <td>3725.276046</td>\n    </tr>\n    <tr>\n      <td>1957</td>\n      <td>51.507401</td>\n      <td>1.876341e+07</td>\n      <td>4299.408345</td>\n    </tr>\n    <tr>\n      <td>1962</td>\n      <td>53.609249</td>\n      <td>2.042101e+07</td>\n      <td>4725.812342</td>\n    </tr>\n    <tr>\n      <td>1967</td>\n      <td>55.678290</td>\n      <td>2.265830e+07</td>\n      <td>5483.653047</td>\n    </tr>\n    <tr>\n      <td>1972</td>\n      <td>57.647386</td>\n      <td>2.518998e+07</td>\n      <td>6770.082815</td>\n    </tr>\n    <tr>\n      <td>1977</td>\n      <td>59.570157</td>\n      <td>2.767638e+07</td>\n      <td>7313.166421</td>\n    </tr>\n    <tr>\n      <td>1982</td>\n      <td>61.533197</td>\n      <td>3.020730e+07</td>\n      <td>7518.901673</td>\n    </tr>\n    <tr>\n      <td>1987</td>\n      <td>63.212613</td>\n      <td>3.303857e+07</td>\n      <td>7900.920218</td>\n    </tr>\n    <tr>\n      <td>1992</td>\n      <td>64.160338</td>\n      <td>3.599092e+07</td>\n      <td>8158.608521</td>\n    </tr>\n    <tr>\n      <td>1997</td>\n      <td>65.014676</td>\n      <td>3.883947e+07</td>\n      <td>9090.175363</td>\n    </tr>\n    <tr>\n      <td>2002</td>\n      <td>65.694923</td>\n      <td>4.145759e+07</td>\n      <td>9917.848365</td>\n    </tr>\n    <tr>\n      <td>2007</td>\n      <td>67.007423</td>\n      <td>4.402122e+07</td>\n      <td>11680.071820</td>\n    </tr>\n  </tbody>\n</table>\n</div>"
     },
     "metadata": {},
     "execution_count": 42
    }
   ],
   "source": [
    "report = gapminder.groupby([\"year\"])[\"lifeExp\",\"pop\",\"gdpPercap\"].mean()\n",
    "report"
   ]
  },
  {
   "cell_type": "code",
   "execution_count": 47,
   "metadata": {},
   "outputs": [
    {
     "output_type": "execute_result",
     "data": {
      "text/plain": "Int64Index([1952, 1957, 1962, 1967, 1972, 1977, 1982, 1987, 1992, 1997, 2002,\n            2007],\n           dtype='int64', name='year')"
     },
     "metadata": {},
     "execution_count": 47
    }
   ],
   "source": [
    "report.index"
   ]
  },
  {
   "cell_type": "code",
   "execution_count": 50,
   "metadata": {},
   "outputs": [
    {
     "output_type": "execute_result",
     "data": {
      "text/plain": "        lifeExp           pop     gdpPercap\nyear                                       \n2000        NaN           NaN           NaN\n2001        NaN           NaN           NaN\n2002  65.694923  4.145759e+07   9917.848365\n2003        NaN           NaN           NaN\n2004        NaN           NaN           NaN\n2005        NaN           NaN           NaN\n2006        NaN           NaN           NaN\n2007  67.007423  4.402122e+07  11680.071820\n2008        NaN           NaN           NaN\n2009        NaN           NaN           NaN",
      "text/html": "<div>\n<style scoped>\n    .dataframe tbody tr th:only-of-type {\n        vertical-align: middle;\n    }\n\n    .dataframe tbody tr th {\n        vertical-align: top;\n    }\n\n    .dataframe thead th {\n        text-align: right;\n    }\n</style>\n<table border=\"1\" class=\"dataframe\">\n  <thead>\n    <tr style=\"text-align: right;\">\n      <th></th>\n      <th>lifeExp</th>\n      <th>pop</th>\n      <th>gdpPercap</th>\n    </tr>\n    <tr>\n      <th>year</th>\n      <th></th>\n      <th></th>\n      <th></th>\n    </tr>\n  </thead>\n  <tbody>\n    <tr>\n      <td>2000</td>\n      <td>NaN</td>\n      <td>NaN</td>\n      <td>NaN</td>\n    </tr>\n    <tr>\n      <td>2001</td>\n      <td>NaN</td>\n      <td>NaN</td>\n      <td>NaN</td>\n    </tr>\n    <tr>\n      <td>2002</td>\n      <td>65.694923</td>\n      <td>4.145759e+07</td>\n      <td>9917.848365</td>\n    </tr>\n    <tr>\n      <td>2003</td>\n      <td>NaN</td>\n      <td>NaN</td>\n      <td>NaN</td>\n    </tr>\n    <tr>\n      <td>2004</td>\n      <td>NaN</td>\n      <td>NaN</td>\n      <td>NaN</td>\n    </tr>\n    <tr>\n      <td>2005</td>\n      <td>NaN</td>\n      <td>NaN</td>\n      <td>NaN</td>\n    </tr>\n    <tr>\n      <td>2006</td>\n      <td>NaN</td>\n      <td>NaN</td>\n      <td>NaN</td>\n    </tr>\n    <tr>\n      <td>2007</td>\n      <td>67.007423</td>\n      <td>4.402122e+07</td>\n      <td>11680.071820</td>\n    </tr>\n    <tr>\n      <td>2008</td>\n      <td>NaN</td>\n      <td>NaN</td>\n      <td>NaN</td>\n    </tr>\n    <tr>\n      <td>2009</td>\n      <td>NaN</td>\n      <td>NaN</td>\n      <td>NaN</td>\n    </tr>\n  </tbody>\n</table>\n</div>"
     },
     "metadata": {},
     "execution_count": 50
    }
   ],
   "source": [
    "# we can re-index by slicing the data\n",
    "report1 = report.loc[range(2000,2010),:]\n",
    "report1"
   ]
  },
  {
   "cell_type": "code",
   "execution_count": 51,
   "metadata": {},
   "outputs": [
    {
     "output_type": "execute_result",
     "data": {
      "text/plain": "Int64Index([2000, 2001, 2002, 2003, 2004, 2005, 2006, 2007, 2008, 2009], dtype='int64', name='year')"
     },
     "metadata": {},
     "execution_count": 51
    }
   ],
   "source": [
    "report1.index"
   ]
  },
  {
   "cell_type": "code",
   "execution_count": 53,
   "metadata": {},
   "outputs": [
    {
     "output_type": "execute_result",
     "data": {
      "text/plain": "        lifeExp           pop     gdpPercap\nyear                                       \n2002  65.694923  4.145759e+07   9917.848365\n2007  67.007423  4.402122e+07  11680.071820",
      "text/html": "<div>\n<style scoped>\n    .dataframe tbody tr th:only-of-type {\n        vertical-align: middle;\n    }\n\n    .dataframe tbody tr th {\n        vertical-align: top;\n    }\n\n    .dataframe thead th {\n        text-align: right;\n    }\n</style>\n<table border=\"1\" class=\"dataframe\">\n  <thead>\n    <tr style=\"text-align: right;\">\n      <th></th>\n      <th>lifeExp</th>\n      <th>pop</th>\n      <th>gdpPercap</th>\n    </tr>\n    <tr>\n      <th>year</th>\n      <th></th>\n      <th></th>\n      <th></th>\n    </tr>\n  </thead>\n  <tbody>\n    <tr>\n      <td>2002</td>\n      <td>65.694923</td>\n      <td>4.145759e+07</td>\n      <td>9917.848365</td>\n    </tr>\n    <tr>\n      <td>2007</td>\n      <td>67.007423</td>\n      <td>4.402122e+07</td>\n      <td>11680.071820</td>\n    </tr>\n  </tbody>\n</table>\n</div>"
     },
     "metadata": {},
     "execution_count": 53
    }
   ],
   "source": [
    "report2 = report[report.index > 2000]\n",
    "report2"
   ]
  },
  {
   "cell_type": "code",
   "execution_count": 58,
   "metadata": {},
   "outputs": [
    {
     "output_type": "execute_result",
     "data": {
      "text/plain": "        lifeExp           pop     gdpPercap\nyear                                       \n2000        NaN           NaN           NaN\n2001        NaN           NaN           NaN\n2002  65.694923  4.145759e+07   9917.848365\n2003        NaN           NaN           NaN\n2004        NaN           NaN           NaN\n2005        NaN           NaN           NaN\n2006        NaN           NaN           NaN\n2007  67.007423  4.402122e+07  11680.071820\n2008        NaN           NaN           NaN\n2009        NaN           NaN           NaN",
      "text/html": "<div>\n<style scoped>\n    .dataframe tbody tr th:only-of-type {\n        vertical-align: middle;\n    }\n\n    .dataframe tbody tr th {\n        vertical-align: top;\n    }\n\n    .dataframe thead th {\n        text-align: right;\n    }\n</style>\n<table border=\"1\" class=\"dataframe\">\n  <thead>\n    <tr style=\"text-align: right;\">\n      <th></th>\n      <th>lifeExp</th>\n      <th>pop</th>\n      <th>gdpPercap</th>\n    </tr>\n    <tr>\n      <th>year</th>\n      <th></th>\n      <th></th>\n      <th></th>\n    </tr>\n  </thead>\n  <tbody>\n    <tr>\n      <td>2000</td>\n      <td>NaN</td>\n      <td>NaN</td>\n      <td>NaN</td>\n    </tr>\n    <tr>\n      <td>2001</td>\n      <td>NaN</td>\n      <td>NaN</td>\n      <td>NaN</td>\n    </tr>\n    <tr>\n      <td>2002</td>\n      <td>65.694923</td>\n      <td>4.145759e+07</td>\n      <td>9917.848365</td>\n    </tr>\n    <tr>\n      <td>2003</td>\n      <td>NaN</td>\n      <td>NaN</td>\n      <td>NaN</td>\n    </tr>\n    <tr>\n      <td>2004</td>\n      <td>NaN</td>\n      <td>NaN</td>\n      <td>NaN</td>\n    </tr>\n    <tr>\n      <td>2005</td>\n      <td>NaN</td>\n      <td>NaN</td>\n      <td>NaN</td>\n    </tr>\n    <tr>\n      <td>2006</td>\n      <td>NaN</td>\n      <td>NaN</td>\n      <td>NaN</td>\n    </tr>\n    <tr>\n      <td>2007</td>\n      <td>67.007423</td>\n      <td>4.402122e+07</td>\n      <td>11680.071820</td>\n    </tr>\n    <tr>\n      <td>2008</td>\n      <td>NaN</td>\n      <td>NaN</td>\n      <td>NaN</td>\n    </tr>\n    <tr>\n      <td>2009</td>\n      <td>NaN</td>\n      <td>NaN</td>\n      <td>NaN</td>\n    </tr>\n  </tbody>\n</table>\n</div>"
     },
     "metadata": {},
     "execution_count": 58
    }
   ],
   "source": [
    "# we can reindex using the reindex method\n",
    "report2.reindex(range(2000,2010))"
   ]
  },
  {
   "cell_type": "markdown",
   "metadata": {},
   "source": [
    "# Find and count missing data"
   ]
  },
  {
   "cell_type": "code",
   "execution_count": 14,
   "metadata": {},
   "outputs": [],
   "source": [
    "ebola = pd.read_csv(r\"C:\\Users\\tanzh\\Documents\\Python\\Pandas for Everyone\\datasets\\country_timeseries.csv\")"
   ]
  },
  {
   "cell_type": "code",
   "execution_count": 15,
   "metadata": {
    "tags": []
   },
   "outputs": [
    {
     "output_type": "stream",
     "name": "stdout",
     "text": "<class 'pandas.core.frame.DataFrame'>\nRangeIndex: 122 entries, 0 to 121\nData columns (total 18 columns):\nDate                   122 non-null object\nDay                    122 non-null int64\nCases_Guinea           93 non-null float64\nCases_Liberia          83 non-null float64\nCases_SierraLeone      87 non-null float64\nCases_Nigeria          38 non-null float64\nCases_Senegal          25 non-null float64\nCases_UnitedStates     18 non-null float64\nCases_Spain            16 non-null float64\nCases_Mali             12 non-null float64\nDeaths_Guinea          92 non-null float64\nDeaths_Liberia         81 non-null float64\nDeaths_SierraLeone     87 non-null float64\nDeaths_Nigeria         38 non-null float64\nDeaths_Senegal         22 non-null float64\nDeaths_UnitedStates    18 non-null float64\nDeaths_Spain           16 non-null float64\nDeaths_Mali            17 non-null float64\ndtypes: float64(16), int64(1), object(1)\nmemory usage: 17.3+ KB\n"
    }
   ],
   "source": [
    "ebola.info()"
   ]
  },
  {
   "cell_type": "code",
   "execution_count": 16,
   "metadata": {},
   "outputs": [
    {
     "output_type": "execute_result",
     "data": {
      "text/plain": "Date                   122\nDay                    122\nCases_Guinea            93\nCases_Liberia           83\nCases_SierraLeone       87\nCases_Nigeria           38\nCases_Senegal           25\nCases_UnitedStates      18\nCases_Spain             16\nCases_Mali              12\nDeaths_Guinea           92\nDeaths_Liberia          81\nDeaths_SierraLeone      87\nDeaths_Nigeria          38\nDeaths_Senegal          22\nDeaths_UnitedStates     18\nDeaths_Spain            16\nDeaths_Mali             17\ndtype: int64"
     },
     "metadata": {},
     "execution_count": 16
    }
   ],
   "source": [
    "ebola.count() # this count the number of filled values (0 is not considered as missing values) "
   ]
  },
  {
   "cell_type": "code",
   "execution_count": 17,
   "metadata": {},
   "outputs": [
    {
     "output_type": "execute_result",
     "data": {
      "text/plain": "(122, 18)"
     },
     "metadata": {},
     "execution_count": 17
    }
   ],
   "source": [
    "ebola.shape # this return a tuple with the number of row and column items"
   ]
  },
  {
   "cell_type": "code",
   "execution_count": 18,
   "metadata": {},
   "outputs": [
    {
     "output_type": "execute_result",
     "data": {
      "text/plain": "122"
     },
     "metadata": {},
     "execution_count": 18
    }
   ],
   "source": [
    "number_of_items = ebola.shape[0]\n",
    "number_of_items"
   ]
  },
  {
   "cell_type": "code",
   "execution_count": 19,
   "metadata": {},
   "outputs": [
    {
     "output_type": "execute_result",
     "data": {
      "text/plain": "2196"
     },
     "metadata": {},
     "execution_count": 19
    }
   ],
   "source": [
    "ebola.size # this return the total number of possible items in the row * column matrix"
   ]
  },
  {
   "cell_type": "code",
   "execution_count": 20,
   "metadata": {},
   "outputs": [
    {
     "output_type": "execute_result",
     "data": {
      "text/plain": "Date                     0\nDay                      0\nCases_Guinea            29\nCases_Liberia           39\nCases_SierraLeone       35\nCases_Nigeria           84\nCases_Senegal           97\nCases_UnitedStates     104\nCases_Spain            106\nCases_Mali             110\nDeaths_Guinea           30\nDeaths_Liberia          41\nDeaths_SierraLeone      35\nDeaths_Nigeria          84\nDeaths_Senegal         100\nDeaths_UnitedStates    104\nDeaths_Spain           106\nDeaths_Mali            105\ndtype: int64"
     },
     "metadata": {},
     "execution_count": 20
    }
   ],
   "source": [
    "number_of_items - ebola.count() # this return the number of missing values in each column"
   ]
  },
  {
   "cell_type": "code",
   "execution_count": 22,
   "metadata": {},
   "outputs": [
    {
     "output_type": "execute_result",
     "data": {
      "text/plain": "1209"
     },
     "metadata": {},
     "execution_count": 22
    }
   ],
   "source": [
    "np.count_nonzero(ebola.isnull()) # this count the total number of missing values within the datasets"
   ]
  },
  {
   "cell_type": "code",
   "execution_count": 23,
   "metadata": {},
   "outputs": [
    {
     "output_type": "execute_result",
     "data": {
      "text/plain": "105"
     },
     "metadata": {},
     "execution_count": 23
    }
   ],
   "source": [
    "np.count_nonzero(ebola[\"Deaths_Mali\"].isnull()) # this count the number of missing values iwth"
   ]
  },
  {
   "cell_type": "code",
   "execution_count": 106,
   "metadata": {},
   "outputs": [
    {
     "output_type": "execute_result",
     "data": {
      "text/plain": "NaN      29\n86.0      3\n495.0     2\n112.0     2\n390.0     2\nName: Cases_Guinea, dtype: int64"
     },
     "metadata": {},
     "execution_count": 106
    }
   ],
   "source": [
    "# we can use value_counts method on a series to return a frequency of values \n",
    "\n",
    "ebola.Cases_Guinea.value_counts(dropna=False).head()"
   ]
  },
  {
   "cell_type": "markdown",
   "metadata": {},
   "source": [
    "# DEALING WITH MISSING VALUES"
   ]
  },
  {
   "cell_type": "code",
   "execution_count": 26,
   "metadata": {},
   "outputs": [
    {
     "output_type": "execute_result",
     "data": {
      "text/plain": "         Date  Day  Cases_Guinea  Cases_Liberia  Cases_SierraLeone  \\\n0    1/5/2015  289        2776.0            NaN            10030.0   \n1    1/4/2015  288        2775.0            NaN             9780.0   \n2    1/3/2015  287        2769.0         8166.0             9722.0   \n3    1/2/2015  286           NaN         8157.0                NaN   \n4  12/31/2014  284        2730.0         8115.0             9633.0   \n\n   Cases_Nigeria  Cases_Senegal  Cases_UnitedStates  Cases_Spain  Cases_Mali  \\\n0            NaN            NaN                 NaN          NaN         NaN   \n1            NaN            NaN                 NaN          NaN         NaN   \n2            NaN            NaN                 NaN          NaN         NaN   \n3            NaN            NaN                 NaN          NaN         NaN   \n4            NaN            NaN                 NaN          NaN         NaN   \n\n   Deaths_Guinea  Deaths_Liberia  Deaths_SierraLeone  Deaths_Nigeria  \\\n0         1786.0             NaN              2977.0             NaN   \n1         1781.0             NaN              2943.0             NaN   \n2         1767.0          3496.0              2915.0             NaN   \n3            NaN          3496.0                 NaN             NaN   \n4         1739.0          3471.0              2827.0             NaN   \n\n   Deaths_Senegal  Deaths_UnitedStates  Deaths_Spain  Deaths_Mali  \n0             NaN                  NaN           NaN          0.0  \n1             NaN                  NaN           NaN          0.0  \n2             NaN                  NaN           NaN          0.0  \n3             NaN                  NaN           NaN          0.0  \n4             NaN                  NaN           NaN          0.0  ",
      "text/html": "<div>\n<style scoped>\n    .dataframe tbody tr th:only-of-type {\n        vertical-align: middle;\n    }\n\n    .dataframe tbody tr th {\n        vertical-align: top;\n    }\n\n    .dataframe thead th {\n        text-align: right;\n    }\n</style>\n<table border=\"1\" class=\"dataframe\">\n  <thead>\n    <tr style=\"text-align: right;\">\n      <th></th>\n      <th>Date</th>\n      <th>Day</th>\n      <th>Cases_Guinea</th>\n      <th>Cases_Liberia</th>\n      <th>Cases_SierraLeone</th>\n      <th>Cases_Nigeria</th>\n      <th>Cases_Senegal</th>\n      <th>Cases_UnitedStates</th>\n      <th>Cases_Spain</th>\n      <th>Cases_Mali</th>\n      <th>Deaths_Guinea</th>\n      <th>Deaths_Liberia</th>\n      <th>Deaths_SierraLeone</th>\n      <th>Deaths_Nigeria</th>\n      <th>Deaths_Senegal</th>\n      <th>Deaths_UnitedStates</th>\n      <th>Deaths_Spain</th>\n      <th>Deaths_Mali</th>\n    </tr>\n  </thead>\n  <tbody>\n    <tr>\n      <td>0</td>\n      <td>1/5/2015</td>\n      <td>289</td>\n      <td>2776.0</td>\n      <td>NaN</td>\n      <td>10030.0</td>\n      <td>NaN</td>\n      <td>NaN</td>\n      <td>NaN</td>\n      <td>NaN</td>\n      <td>NaN</td>\n      <td>1786.0</td>\n      <td>NaN</td>\n      <td>2977.0</td>\n      <td>NaN</td>\n      <td>NaN</td>\n      <td>NaN</td>\n      <td>NaN</td>\n      <td>0.0</td>\n    </tr>\n    <tr>\n      <td>1</td>\n      <td>1/4/2015</td>\n      <td>288</td>\n      <td>2775.0</td>\n      <td>NaN</td>\n      <td>9780.0</td>\n      <td>NaN</td>\n      <td>NaN</td>\n      <td>NaN</td>\n      <td>NaN</td>\n      <td>NaN</td>\n      <td>1781.0</td>\n      <td>NaN</td>\n      <td>2943.0</td>\n      <td>NaN</td>\n      <td>NaN</td>\n      <td>NaN</td>\n      <td>NaN</td>\n      <td>0.0</td>\n    </tr>\n    <tr>\n      <td>2</td>\n      <td>1/3/2015</td>\n      <td>287</td>\n      <td>2769.0</td>\n      <td>8166.0</td>\n      <td>9722.0</td>\n      <td>NaN</td>\n      <td>NaN</td>\n      <td>NaN</td>\n      <td>NaN</td>\n      <td>NaN</td>\n      <td>1767.0</td>\n      <td>3496.0</td>\n      <td>2915.0</td>\n      <td>NaN</td>\n      <td>NaN</td>\n      <td>NaN</td>\n      <td>NaN</td>\n      <td>0.0</td>\n    </tr>\n    <tr>\n      <td>3</td>\n      <td>1/2/2015</td>\n      <td>286</td>\n      <td>NaN</td>\n      <td>8157.0</td>\n      <td>NaN</td>\n      <td>NaN</td>\n      <td>NaN</td>\n      <td>NaN</td>\n      <td>NaN</td>\n      <td>NaN</td>\n      <td>NaN</td>\n      <td>3496.0</td>\n      <td>NaN</td>\n      <td>NaN</td>\n      <td>NaN</td>\n      <td>NaN</td>\n      <td>NaN</td>\n      <td>0.0</td>\n    </tr>\n    <tr>\n      <td>4</td>\n      <td>12/31/2014</td>\n      <td>284</td>\n      <td>2730.0</td>\n      <td>8115.0</td>\n      <td>9633.0</td>\n      <td>NaN</td>\n      <td>NaN</td>\n      <td>NaN</td>\n      <td>NaN</td>\n      <td>NaN</td>\n      <td>1739.0</td>\n      <td>3471.0</td>\n      <td>2827.0</td>\n      <td>NaN</td>\n      <td>NaN</td>\n      <td>NaN</td>\n      <td>NaN</td>\n      <td>0.0</td>\n    </tr>\n  </tbody>\n</table>\n</div>"
     },
     "metadata": {},
     "execution_count": 26
    }
   ],
   "source": [
    "ebola.head()"
   ]
  },
  {
   "cell_type": "code",
   "execution_count": 34,
   "metadata": {},
   "outputs": [
    {
     "output_type": "execute_result",
     "data": {
      "text/plain": "         Date  Cases_Guinea\n0    1/5/2015        2776.0\n1    1/4/2015        2775.0\n2    1/3/2015        2769.0\n3    1/2/2015           0.0\n4  12/31/2014        2730.0\n5  12/28/2014        2706.0\n6  12/27/2014        2695.0\n7  12/24/2014        2630.0\n8  12/21/2014        2597.0\n9  12/20/2014        2571.0",
      "text/html": "<div>\n<style scoped>\n    .dataframe tbody tr th:only-of-type {\n        vertical-align: middle;\n    }\n\n    .dataframe tbody tr th {\n        vertical-align: top;\n    }\n\n    .dataframe thead th {\n        text-align: right;\n    }\n</style>\n<table border=\"1\" class=\"dataframe\">\n  <thead>\n    <tr style=\"text-align: right;\">\n      <th></th>\n      <th>Date</th>\n      <th>Cases_Guinea</th>\n    </tr>\n  </thead>\n  <tbody>\n    <tr>\n      <td>0</td>\n      <td>1/5/2015</td>\n      <td>2776.0</td>\n    </tr>\n    <tr>\n      <td>1</td>\n      <td>1/4/2015</td>\n      <td>2775.0</td>\n    </tr>\n    <tr>\n      <td>2</td>\n      <td>1/3/2015</td>\n      <td>2769.0</td>\n    </tr>\n    <tr>\n      <td>3</td>\n      <td>1/2/2015</td>\n      <td>0.0</td>\n    </tr>\n    <tr>\n      <td>4</td>\n      <td>12/31/2014</td>\n      <td>2730.0</td>\n    </tr>\n    <tr>\n      <td>5</td>\n      <td>12/28/2014</td>\n      <td>2706.0</td>\n    </tr>\n    <tr>\n      <td>6</td>\n      <td>12/27/2014</td>\n      <td>2695.0</td>\n    </tr>\n    <tr>\n      <td>7</td>\n      <td>12/24/2014</td>\n      <td>2630.0</td>\n    </tr>\n    <tr>\n      <td>8</td>\n      <td>12/21/2014</td>\n      <td>2597.0</td>\n    </tr>\n    <tr>\n      <td>9</td>\n      <td>12/20/2014</td>\n      <td>2571.0</td>\n    </tr>\n  </tbody>\n</table>\n</div>"
     },
     "metadata": {},
     "execution_count": 34
    }
   ],
   "source": [
    "ebola.fillna(0)[[\"Date\",\"Cases_Guinea\"]].head(10)"
   ]
  },
  {
   "cell_type": "code",
   "execution_count": 36,
   "metadata": {},
   "outputs": [
    {
     "output_type": "execute_result",
     "data": {
      "text/plain": "         Date  Cases_Guinea\n0    1/5/2015        2776.0\n1    1/4/2015        2775.0\n2    1/3/2015        2769.0\n3    1/2/2015        2730.0\n4  12/31/2014        2730.0\n5  12/28/2014        2706.0\n6  12/27/2014        2695.0\n7  12/24/2014        2630.0\n8  12/21/2014        2597.0\n9  12/20/2014        2571.0",
      "text/html": "<div>\n<style scoped>\n    .dataframe tbody tr th:only-of-type {\n        vertical-align: middle;\n    }\n\n    .dataframe tbody tr th {\n        vertical-align: top;\n    }\n\n    .dataframe thead th {\n        text-align: right;\n    }\n</style>\n<table border=\"1\" class=\"dataframe\">\n  <thead>\n    <tr style=\"text-align: right;\">\n      <th></th>\n      <th>Date</th>\n      <th>Cases_Guinea</th>\n    </tr>\n  </thead>\n  <tbody>\n    <tr>\n      <td>0</td>\n      <td>1/5/2015</td>\n      <td>2776.0</td>\n    </tr>\n    <tr>\n      <td>1</td>\n      <td>1/4/2015</td>\n      <td>2775.0</td>\n    </tr>\n    <tr>\n      <td>2</td>\n      <td>1/3/2015</td>\n      <td>2769.0</td>\n    </tr>\n    <tr>\n      <td>3</td>\n      <td>1/2/2015</td>\n      <td>2730.0</td>\n    </tr>\n    <tr>\n      <td>4</td>\n      <td>12/31/2014</td>\n      <td>2730.0</td>\n    </tr>\n    <tr>\n      <td>5</td>\n      <td>12/28/2014</td>\n      <td>2706.0</td>\n    </tr>\n    <tr>\n      <td>6</td>\n      <td>12/27/2014</td>\n      <td>2695.0</td>\n    </tr>\n    <tr>\n      <td>7</td>\n      <td>12/24/2014</td>\n      <td>2630.0</td>\n    </tr>\n    <tr>\n      <td>8</td>\n      <td>12/21/2014</td>\n      <td>2597.0</td>\n    </tr>\n    <tr>\n      <td>9</td>\n      <td>12/20/2014</td>\n      <td>2571.0</td>\n    </tr>\n  </tbody>\n</table>\n</div>"
     },
     "metadata": {},
     "execution_count": 36
    }
   ],
   "source": [
    "ebola.fillna(method=\"bfill\")[[\"Date\",\"Cases_Guinea\"]].head(10)"
   ]
  },
  {
   "cell_type": "code",
   "execution_count": 39,
   "metadata": {},
   "outputs": [
    {
     "output_type": "execute_result",
     "data": {
      "text/plain": "          Date  Day  Cases_Guinea  Cases_Liberia  Cases_SierraLeone  \\\n112   4/4/2014   13         143.0           18.0                2.0   \n113   4/1/2014   10         127.0            8.0                2.0   \n114  3/31/2014    9         122.0            8.0                2.0   \n115  3/29/2014    7         112.0            7.0                2.0   \n116  3/28/2014    6         112.0            3.0                2.0   \n117  3/27/2014    5         103.0            8.0                6.0   \n118  3/26/2014    4          86.0            NaN                NaN   \n119  3/25/2014    3          86.0            NaN                NaN   \n120  3/24/2014    2          86.0            NaN                NaN   \n121  3/22/2014    0          49.0            NaN                NaN   \n\n     Cases_Nigeria  Cases_Senegal  Cases_UnitedStates  Cases_Spain  \\\n112            NaN            NaN                 NaN          NaN   \n113            NaN            NaN                 NaN          NaN   \n114            NaN            NaN                 NaN          NaN   \n115            NaN            NaN                 NaN          NaN   \n116            NaN            NaN                 NaN          NaN   \n117            NaN            NaN                 NaN          NaN   \n118            NaN            NaN                 NaN          NaN   \n119            NaN            NaN                 NaN          NaN   \n120            NaN            NaN                 NaN          NaN   \n121            NaN            NaN                 NaN          NaN   \n\n     Cases_Mali  Deaths_Guinea  Deaths_Liberia  Deaths_SierraLeone  \\\n112         NaN           86.0             7.0                 2.0   \n113         NaN           83.0             5.0                 2.0   \n114         NaN           80.0             4.0                 2.0   \n115         NaN           70.0             2.0                 2.0   \n116         NaN           70.0             3.0                 2.0   \n117         NaN           66.0             6.0                 5.0   \n118         NaN           62.0             NaN                 NaN   \n119         NaN           60.0             NaN                 NaN   \n120         NaN           59.0             NaN                 NaN   \n121         NaN           29.0             NaN                 NaN   \n\n     Deaths_Nigeria  Deaths_Senegal  Deaths_UnitedStates  Deaths_Spain  \\\n112             NaN             NaN                  NaN           NaN   \n113             NaN             NaN                  NaN           NaN   \n114             NaN             NaN                  NaN           NaN   \n115             NaN             NaN                  NaN           NaN   \n116             NaN             NaN                  NaN           NaN   \n117             NaN             NaN                  NaN           NaN   \n118             NaN             NaN                  NaN           NaN   \n119             NaN             NaN                  NaN           NaN   \n120             NaN             NaN                  NaN           NaN   \n121             NaN             NaN                  NaN           NaN   \n\n     Deaths_Mali  \n112          NaN  \n113          NaN  \n114          NaN  \n115          NaN  \n116          NaN  \n117          NaN  \n118          NaN  \n119          NaN  \n120          NaN  \n121          NaN  ",
      "text/html": "<div>\n<style scoped>\n    .dataframe tbody tr th:only-of-type {\n        vertical-align: middle;\n    }\n\n    .dataframe tbody tr th {\n        vertical-align: top;\n    }\n\n    .dataframe thead th {\n        text-align: right;\n    }\n</style>\n<table border=\"1\" class=\"dataframe\">\n  <thead>\n    <tr style=\"text-align: right;\">\n      <th></th>\n      <th>Date</th>\n      <th>Day</th>\n      <th>Cases_Guinea</th>\n      <th>Cases_Liberia</th>\n      <th>Cases_SierraLeone</th>\n      <th>Cases_Nigeria</th>\n      <th>Cases_Senegal</th>\n      <th>Cases_UnitedStates</th>\n      <th>Cases_Spain</th>\n      <th>Cases_Mali</th>\n      <th>Deaths_Guinea</th>\n      <th>Deaths_Liberia</th>\n      <th>Deaths_SierraLeone</th>\n      <th>Deaths_Nigeria</th>\n      <th>Deaths_Senegal</th>\n      <th>Deaths_UnitedStates</th>\n      <th>Deaths_Spain</th>\n      <th>Deaths_Mali</th>\n    </tr>\n  </thead>\n  <tbody>\n    <tr>\n      <td>112</td>\n      <td>4/4/2014</td>\n      <td>13</td>\n      <td>143.0</td>\n      <td>18.0</td>\n      <td>2.0</td>\n      <td>NaN</td>\n      <td>NaN</td>\n      <td>NaN</td>\n      <td>NaN</td>\n      <td>NaN</td>\n      <td>86.0</td>\n      <td>7.0</td>\n      <td>2.0</td>\n      <td>NaN</td>\n      <td>NaN</td>\n      <td>NaN</td>\n      <td>NaN</td>\n      <td>NaN</td>\n    </tr>\n    <tr>\n      <td>113</td>\n      <td>4/1/2014</td>\n      <td>10</td>\n      <td>127.0</td>\n      <td>8.0</td>\n      <td>2.0</td>\n      <td>NaN</td>\n      <td>NaN</td>\n      <td>NaN</td>\n      <td>NaN</td>\n      <td>NaN</td>\n      <td>83.0</td>\n      <td>5.0</td>\n      <td>2.0</td>\n      <td>NaN</td>\n      <td>NaN</td>\n      <td>NaN</td>\n      <td>NaN</td>\n      <td>NaN</td>\n    </tr>\n    <tr>\n      <td>114</td>\n      <td>3/31/2014</td>\n      <td>9</td>\n      <td>122.0</td>\n      <td>8.0</td>\n      <td>2.0</td>\n      <td>NaN</td>\n      <td>NaN</td>\n      <td>NaN</td>\n      <td>NaN</td>\n      <td>NaN</td>\n      <td>80.0</td>\n      <td>4.0</td>\n      <td>2.0</td>\n      <td>NaN</td>\n      <td>NaN</td>\n      <td>NaN</td>\n      <td>NaN</td>\n      <td>NaN</td>\n    </tr>\n    <tr>\n      <td>115</td>\n      <td>3/29/2014</td>\n      <td>7</td>\n      <td>112.0</td>\n      <td>7.0</td>\n      <td>2.0</td>\n      <td>NaN</td>\n      <td>NaN</td>\n      <td>NaN</td>\n      <td>NaN</td>\n      <td>NaN</td>\n      <td>70.0</td>\n      <td>2.0</td>\n      <td>2.0</td>\n      <td>NaN</td>\n      <td>NaN</td>\n      <td>NaN</td>\n      <td>NaN</td>\n      <td>NaN</td>\n    </tr>\n    <tr>\n      <td>116</td>\n      <td>3/28/2014</td>\n      <td>6</td>\n      <td>112.0</td>\n      <td>3.0</td>\n      <td>2.0</td>\n      <td>NaN</td>\n      <td>NaN</td>\n      <td>NaN</td>\n      <td>NaN</td>\n      <td>NaN</td>\n      <td>70.0</td>\n      <td>3.0</td>\n      <td>2.0</td>\n      <td>NaN</td>\n      <td>NaN</td>\n      <td>NaN</td>\n      <td>NaN</td>\n      <td>NaN</td>\n    </tr>\n    <tr>\n      <td>117</td>\n      <td>3/27/2014</td>\n      <td>5</td>\n      <td>103.0</td>\n      <td>8.0</td>\n      <td>6.0</td>\n      <td>NaN</td>\n      <td>NaN</td>\n      <td>NaN</td>\n      <td>NaN</td>\n      <td>NaN</td>\n      <td>66.0</td>\n      <td>6.0</td>\n      <td>5.0</td>\n      <td>NaN</td>\n      <td>NaN</td>\n      <td>NaN</td>\n      <td>NaN</td>\n      <td>NaN</td>\n    </tr>\n    <tr>\n      <td>118</td>\n      <td>3/26/2014</td>\n      <td>4</td>\n      <td>86.0</td>\n      <td>NaN</td>\n      <td>NaN</td>\n      <td>NaN</td>\n      <td>NaN</td>\n      <td>NaN</td>\n      <td>NaN</td>\n      <td>NaN</td>\n      <td>62.0</td>\n      <td>NaN</td>\n      <td>NaN</td>\n      <td>NaN</td>\n      <td>NaN</td>\n      <td>NaN</td>\n      <td>NaN</td>\n      <td>NaN</td>\n    </tr>\n    <tr>\n      <td>119</td>\n      <td>3/25/2014</td>\n      <td>3</td>\n      <td>86.0</td>\n      <td>NaN</td>\n      <td>NaN</td>\n      <td>NaN</td>\n      <td>NaN</td>\n      <td>NaN</td>\n      <td>NaN</td>\n      <td>NaN</td>\n      <td>60.0</td>\n      <td>NaN</td>\n      <td>NaN</td>\n      <td>NaN</td>\n      <td>NaN</td>\n      <td>NaN</td>\n      <td>NaN</td>\n      <td>NaN</td>\n    </tr>\n    <tr>\n      <td>120</td>\n      <td>3/24/2014</td>\n      <td>2</td>\n      <td>86.0</td>\n      <td>NaN</td>\n      <td>NaN</td>\n      <td>NaN</td>\n      <td>NaN</td>\n      <td>NaN</td>\n      <td>NaN</td>\n      <td>NaN</td>\n      <td>59.0</td>\n      <td>NaN</td>\n      <td>NaN</td>\n      <td>NaN</td>\n      <td>NaN</td>\n      <td>NaN</td>\n      <td>NaN</td>\n      <td>NaN</td>\n    </tr>\n    <tr>\n      <td>121</td>\n      <td>3/22/2014</td>\n      <td>0</td>\n      <td>49.0</td>\n      <td>NaN</td>\n      <td>NaN</td>\n      <td>NaN</td>\n      <td>NaN</td>\n      <td>NaN</td>\n      <td>NaN</td>\n      <td>NaN</td>\n      <td>29.0</td>\n      <td>NaN</td>\n      <td>NaN</td>\n      <td>NaN</td>\n      <td>NaN</td>\n      <td>NaN</td>\n      <td>NaN</td>\n      <td>NaN</td>\n    </tr>\n  </tbody>\n</table>\n</div>"
     },
     "metadata": {},
     "execution_count": 39
    }
   ],
   "source": [
    "ebola.fillna(method=\"bfill\").tail(10)"
   ]
  },
  {
   "cell_type": "code",
   "execution_count": 37,
   "metadata": {},
   "outputs": [
    {
     "output_type": "execute_result",
     "data": {
      "text/plain": "         Date  Cases_Guinea\n0    1/5/2015        2776.0\n1    1/4/2015        2775.0\n2    1/3/2015        2769.0\n3    1/2/2015        2749.5\n4  12/31/2014        2730.0",
      "text/html": "<div>\n<style scoped>\n    .dataframe tbody tr th:only-of-type {\n        vertical-align: middle;\n    }\n\n    .dataframe tbody tr th {\n        vertical-align: top;\n    }\n\n    .dataframe thead th {\n        text-align: right;\n    }\n</style>\n<table border=\"1\" class=\"dataframe\">\n  <thead>\n    <tr style=\"text-align: right;\">\n      <th></th>\n      <th>Date</th>\n      <th>Cases_Guinea</th>\n    </tr>\n  </thead>\n  <tbody>\n    <tr>\n      <td>0</td>\n      <td>1/5/2015</td>\n      <td>2776.0</td>\n    </tr>\n    <tr>\n      <td>1</td>\n      <td>1/4/2015</td>\n      <td>2775.0</td>\n    </tr>\n    <tr>\n      <td>2</td>\n      <td>1/3/2015</td>\n      <td>2769.0</td>\n    </tr>\n    <tr>\n      <td>3</td>\n      <td>1/2/2015</td>\n      <td>2749.5</td>\n    </tr>\n    <tr>\n      <td>4</td>\n      <td>12/31/2014</td>\n      <td>2730.0</td>\n    </tr>\n  </tbody>\n</table>\n</div>"
     },
     "metadata": {},
     "execution_count": 37
    }
   ],
   "source": [
    "ebola.interpolate()[[\"Date\",\"Cases_Guinea\"]].head()"
   ]
  },
  {
   "cell_type": "code",
   "execution_count": 42,
   "metadata": {},
   "outputs": [
    {
     "output_type": "execute_result",
     "data": {
      "text/plain": "          Date  Day  Cases_Guinea  Cases_Liberia  Cases_SierraLeone  \\\n19  11/18/2014  241        2047.0         7082.0             6190.0   \n\n    Cases_Nigeria  Cases_Senegal  Cases_UnitedStates  Cases_Spain  Cases_Mali  \\\n19           20.0            1.0                 4.0          1.0         6.0   \n\n    Deaths_Guinea  Deaths_Liberia  Deaths_SierraLeone  Deaths_Nigeria  \\\n19         1214.0          2963.0              1267.0             8.0   \n\n    Deaths_Senegal  Deaths_UnitedStates  Deaths_Spain  Deaths_Mali  \n19             0.0                  1.0           0.0          6.0  ",
      "text/html": "<div>\n<style scoped>\n    .dataframe tbody tr th:only-of-type {\n        vertical-align: middle;\n    }\n\n    .dataframe tbody tr th {\n        vertical-align: top;\n    }\n\n    .dataframe thead th {\n        text-align: right;\n    }\n</style>\n<table border=\"1\" class=\"dataframe\">\n  <thead>\n    <tr style=\"text-align: right;\">\n      <th></th>\n      <th>Date</th>\n      <th>Day</th>\n      <th>Cases_Guinea</th>\n      <th>Cases_Liberia</th>\n      <th>Cases_SierraLeone</th>\n      <th>Cases_Nigeria</th>\n      <th>Cases_Senegal</th>\n      <th>Cases_UnitedStates</th>\n      <th>Cases_Spain</th>\n      <th>Cases_Mali</th>\n      <th>Deaths_Guinea</th>\n      <th>Deaths_Liberia</th>\n      <th>Deaths_SierraLeone</th>\n      <th>Deaths_Nigeria</th>\n      <th>Deaths_Senegal</th>\n      <th>Deaths_UnitedStates</th>\n      <th>Deaths_Spain</th>\n      <th>Deaths_Mali</th>\n    </tr>\n  </thead>\n  <tbody>\n    <tr>\n      <td>19</td>\n      <td>11/18/2014</td>\n      <td>241</td>\n      <td>2047.0</td>\n      <td>7082.0</td>\n      <td>6190.0</td>\n      <td>20.0</td>\n      <td>1.0</td>\n      <td>4.0</td>\n      <td>1.0</td>\n      <td>6.0</td>\n      <td>1214.0</td>\n      <td>2963.0</td>\n      <td>1267.0</td>\n      <td>8.0</td>\n      <td>0.0</td>\n      <td>1.0</td>\n      <td>0.0</td>\n      <td>6.0</td>\n    </tr>\n  </tbody>\n</table>\n</div>"
     },
     "metadata": {},
     "execution_count": 42
    }
   ],
   "source": [
    "ebola.dropna()"
   ]
  },
  {
   "cell_type": "code",
   "execution_count": 43,
   "metadata": {},
   "outputs": [
    {
     "output_type": "execute_result",
     "data": {
      "text/plain": "           Date  Day\n0      1/5/2015  289\n1      1/4/2015  288\n2      1/3/2015  287\n3      1/2/2015  286\n4    12/31/2014  284\n..          ...  ...\n117   3/27/2014    5\n118   3/26/2014    4\n119   3/25/2014    3\n120   3/24/2014    2\n121   3/22/2014    0\n\n[122 rows x 2 columns]",
      "text/html": "<div>\n<style scoped>\n    .dataframe tbody tr th:only-of-type {\n        vertical-align: middle;\n    }\n\n    .dataframe tbody tr th {\n        vertical-align: top;\n    }\n\n    .dataframe thead th {\n        text-align: right;\n    }\n</style>\n<table border=\"1\" class=\"dataframe\">\n  <thead>\n    <tr style=\"text-align: right;\">\n      <th></th>\n      <th>Date</th>\n      <th>Day</th>\n    </tr>\n  </thead>\n  <tbody>\n    <tr>\n      <td>0</td>\n      <td>1/5/2015</td>\n      <td>289</td>\n    </tr>\n    <tr>\n      <td>1</td>\n      <td>1/4/2015</td>\n      <td>288</td>\n    </tr>\n    <tr>\n      <td>2</td>\n      <td>1/3/2015</td>\n      <td>287</td>\n    </tr>\n    <tr>\n      <td>3</td>\n      <td>1/2/2015</td>\n      <td>286</td>\n    </tr>\n    <tr>\n      <td>4</td>\n      <td>12/31/2014</td>\n      <td>284</td>\n    </tr>\n    <tr>\n      <td>...</td>\n      <td>...</td>\n      <td>...</td>\n    </tr>\n    <tr>\n      <td>117</td>\n      <td>3/27/2014</td>\n      <td>5</td>\n    </tr>\n    <tr>\n      <td>118</td>\n      <td>3/26/2014</td>\n      <td>4</td>\n    </tr>\n    <tr>\n      <td>119</td>\n      <td>3/25/2014</td>\n      <td>3</td>\n    </tr>\n    <tr>\n      <td>120</td>\n      <td>3/24/2014</td>\n      <td>2</td>\n    </tr>\n    <tr>\n      <td>121</td>\n      <td>3/22/2014</td>\n      <td>0</td>\n    </tr>\n  </tbody>\n</table>\n<p>122 rows × 2 columns</p>\n</div>"
     },
     "metadata": {},
     "execution_count": 43
    }
   ],
   "source": [
    "ebola.dropna()"
   ]
  },
  {
   "cell_type": "code",
   "execution_count": 47,
   "metadata": {},
   "outputs": [
    {
     "output_type": "execute_result",
     "data": {
      "text/plain": "84729.0"
     },
     "metadata": {},
     "execution_count": 47
    }
   ],
   "source": [
    "ebola[\"Cases_Guinea\"].sum()"
   ]
  },
  {
   "cell_type": "code",
   "execution_count": 75,
   "metadata": {},
   "outputs": [],
   "source": [
    "ebola[\"calculated\"] = ebola[\"Cases_Guinea\"].fillna(0) + ebola[\"Cases_Liberia\"].fillna(0) + ebola[\"Cases_SierraLeone\"].fillna(0)"
   ]
  },
  {
   "cell_type": "code",
   "execution_count": 62,
   "metadata": {},
   "outputs": [],
   "source": [
    "ebola[\"calculated\"] = ebola[[\"Cases_Guinea\", \"Cases_Liberia\", \"Cases_SierraLeone\"]].sum()"
   ]
  },
  {
   "cell_type": "code",
   "execution_count": 76,
   "metadata": {},
   "outputs": [
    {
     "output_type": "execute_result",
     "data": {
      "text/plain": "     Cases_Guinea  Cases_Liberia  Cases_SierraLeone  calculated\n0          2776.0            0.0            10030.0     12806.0\n1          2775.0            0.0             9780.0     12555.0\n2          2769.0         8166.0             9722.0     20657.0\n3             NaN         8157.0                NaN      8157.0\n4          2730.0         8115.0             9633.0     20478.0\n..            ...            ...                ...         ...\n117         103.0            8.0                6.0       117.0\n118          86.0            0.0                NaN        86.0\n119          86.0            0.0                NaN        86.0\n120          86.0            0.0                NaN        86.0\n121          49.0            0.0                NaN        49.0\n\n[122 rows x 4 columns]",
      "text/html": "<div>\n<style scoped>\n    .dataframe tbody tr th:only-of-type {\n        vertical-align: middle;\n    }\n\n    .dataframe tbody tr th {\n        vertical-align: top;\n    }\n\n    .dataframe thead th {\n        text-align: right;\n    }\n</style>\n<table border=\"1\" class=\"dataframe\">\n  <thead>\n    <tr style=\"text-align: right;\">\n      <th></th>\n      <th>Cases_Guinea</th>\n      <th>Cases_Liberia</th>\n      <th>Cases_SierraLeone</th>\n      <th>calculated</th>\n    </tr>\n  </thead>\n  <tbody>\n    <tr>\n      <td>0</td>\n      <td>2776.0</td>\n      <td>0.0</td>\n      <td>10030.0</td>\n      <td>12806.0</td>\n    </tr>\n    <tr>\n      <td>1</td>\n      <td>2775.0</td>\n      <td>0.0</td>\n      <td>9780.0</td>\n      <td>12555.0</td>\n    </tr>\n    <tr>\n      <td>2</td>\n      <td>2769.0</td>\n      <td>8166.0</td>\n      <td>9722.0</td>\n      <td>20657.0</td>\n    </tr>\n    <tr>\n      <td>3</td>\n      <td>NaN</td>\n      <td>8157.0</td>\n      <td>NaN</td>\n      <td>8157.0</td>\n    </tr>\n    <tr>\n      <td>4</td>\n      <td>2730.0</td>\n      <td>8115.0</td>\n      <td>9633.0</td>\n      <td>20478.0</td>\n    </tr>\n    <tr>\n      <td>...</td>\n      <td>...</td>\n      <td>...</td>\n      <td>...</td>\n      <td>...</td>\n    </tr>\n    <tr>\n      <td>117</td>\n      <td>103.0</td>\n      <td>8.0</td>\n      <td>6.0</td>\n      <td>117.0</td>\n    </tr>\n    <tr>\n      <td>118</td>\n      <td>86.0</td>\n      <td>0.0</td>\n      <td>NaN</td>\n      <td>86.0</td>\n    </tr>\n    <tr>\n      <td>119</td>\n      <td>86.0</td>\n      <td>0.0</td>\n      <td>NaN</td>\n      <td>86.0</td>\n    </tr>\n    <tr>\n      <td>120</td>\n      <td>86.0</td>\n      <td>0.0</td>\n      <td>NaN</td>\n      <td>86.0</td>\n    </tr>\n    <tr>\n      <td>121</td>\n      <td>49.0</td>\n      <td>0.0</td>\n      <td>NaN</td>\n      <td>49.0</td>\n    </tr>\n  </tbody>\n</table>\n<p>122 rows × 4 columns</p>\n</div>"
     },
     "metadata": {},
     "execution_count": 76
    }
   ],
   "source": [
    "ebola[[\"Cases_Guinea\", \"Cases_Liberia\", \"Cases_SierraLeone\",\"calculated\"]]"
   ]
  },
  {
   "cell_type": "code",
   "execution_count": null,
   "metadata": {},
   "outputs": [],
   "source": []
  },
  {
   "cell_type": "code",
   "execution_count": null,
   "metadata": {},
   "outputs": [],
   "source": []
  },
  {
   "cell_type": "code",
   "execution_count": null,
   "metadata": {},
   "outputs": [],
   "source": []
  },
  {
   "cell_type": "code",
   "execution_count": null,
   "metadata": {},
   "outputs": [],
   "source": []
  },
  {
   "cell_type": "code",
   "execution_count": null,
   "metadata": {},
   "outputs": [],
   "source": []
  },
  {
   "cell_type": "code",
   "execution_count": null,
   "metadata": {},
   "outputs": [],
   "source": []
  },
  {
   "cell_type": "code",
   "execution_count": null,
   "metadata": {},
   "outputs": [],
   "source": []
  },
  {
   "cell_type": "code",
   "execution_count": null,
   "metadata": {},
   "outputs": [],
   "source": []
  },
  {
   "cell_type": "code",
   "execution_count": null,
   "metadata": {},
   "outputs": [],
   "source": []
  }
 ],
 "metadata": {
  "language_info": {
   "codemirror_mode": {
    "name": "ipython",
    "version": 3
   },
   "file_extension": ".py",
   "mimetype": "text/x-python",
   "name": "python",
   "nbconvert_exporter": "python",
   "pygments_lexer": "ipython3",
   "version": "3.7.4-final"
  },
  "orig_nbformat": 2,
  "kernelspec": {
   "name": "python37464bitbaseconda6db2893f0e1b4b6ea66d23044bec9473",
   "display_name": "Python 3.7.4 64-bit ('base': conda)"
  }
 },
 "nbformat": 4,
 "nbformat_minor": 2
}